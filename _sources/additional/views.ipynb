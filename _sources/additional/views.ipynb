{
 "cells": [
  {
   "cell_type": "markdown",
   "id": "f0fce9da",
   "metadata": {},
   "source": [
    "# Views\n",
    "Gittu George, January 12 2023"
   ]
  },
  {
   "cell_type": "markdown",
   "id": "d1ed3dec-6b78-434e-a317-338860ac4095",
   "metadata": {},
   "source": [
    "## Views\n",
    "\n",
    "Whether we want to use VIEWS depends on the plotting or querying frequency. For example, complex queries with changing data that will be run multiple times (or have varying “WHERE” statements) can use a VIEW.\n",
    "\n",
    "Check out how much time this query is taking to run. Before all that lets initiate the connection to the database."
   ]
  },
  {
   "cell_type": "markdown",
   "id": "bc60f875-dd47-4e1a-9d7f-9da998474cc2",
   "metadata": {},
   "source": [
    "```\n",
    "import os\n",
    "import psycopg2\n",
    "\n",
    "##Make sure you import and load your .env file\n",
    "from dotenv import load_dotenv\n",
    "load_dotenv()\n",
    "\n",
    "conString = {'host':os.environ.get('DB_HOST'),\n",
    "             'dbname':os.environ.get('DB_NAME'),\n",
    "             'user':os.environ.get('DB_USER'),\n",
    "             'password':os.environ.get('DB_PASS'),\n",
    "             'port':os.environ.get('DB_PORT')}\n",
    "print(conString[\"port\"])\n",
    "conn = psycopg2.connect(**conString)\n",
    "cur = conn.cursor()\n",
    "```"
   ]
  },
  {
   "cell_type": "markdown",
   "id": "dd0c1d2b-a42d-4c13-8459-0672f891912d",
   "metadata": {},
   "source": [
    "```\n",
    "%%time\n",
    "query=\"\"\"SELECT tw.id, \n",
    "       unnest(regexp_matches(tw.text, '\\$[A-Z]+\\M', 'g')) AS substring\n",
    "FROM import.tweets AS tw;\"\"\"\n",
    "cur.execute(query)\n",
    "cur.fetchmany(5)\n",
    "```"
   ]
  },
  {
   "cell_type": "markdown",
   "id": "5415237e-a9da-45f4-b792-ba36c5f3d34a",
   "metadata": {},
   "source": [
    "Let's create a view "
   ]
  },
  {
   "cell_type": "markdown",
   "id": "2a53161e-0968-4e28-9294-4b7d3d6ffd89",
   "metadata": {},
   "source": [
    "```\n",
    "%%time\n",
    "query=\"\"\"CREATE OR REPLACE VIEW import.tickertweets AS\n",
    "SELECT tw.id, unnest(regexp_matches(tw.text, '\\$[A-Z]+\\M', 'g')) AS substring\n",
    "FROM import.tweets AS tw;\"\"\"\n",
    "cur.execute(query)\n",
    "conn.commit()\n",
    "```"
   ]
  },
  {
   "cell_type": "markdown",
   "id": "1b3fedad-acaf-4927-8507-c4ef71dbe520",
   "metadata": {},
   "source": [
    "Let's see the query time when we call it from the VIEW."
   ]
  },
  {
   "cell_type": "markdown",
   "id": "2a999556-cf91-4f1d-b34c-a5b9a9348a2a",
   "metadata": {},
   "source": [
    "```\n",
    "%%time\n",
    "query=\"\"\"SELECT * FROM import.tickertweets;\"\"\"\n",
    "cur.execute(query)\n",
    "cur.fetchmany(5)\n",
    "```"
   ]
  },
  {
   "cell_type": "markdown",
   "id": "0365c2ac-30d9-4064-8e44-1aa30746ea9e",
   "metadata": {},
   "source": [
    "So, a TABLE is stored data. A VIEW is a stored query. A VIEW’s query is stored to be cached (saved to memory) for faster retrieval and optimized for speed.\n",
    "\n",
    "Complex queries with fixed data that will be run multiple times (or have varying “WHERE” statement) can use a MATERIALIZED VIEW:"
   ]
  },
  {
   "cell_type": "markdown",
   "id": "cec2fd3d-3e1a-4cee-a6fe-d0749f7c7147",
   "metadata": {},
   "source": [
    "```\n",
    "%%time\n",
    "query=\"\"\"DROP MATERIALIZED VIEW import.tickertweetsmat CASCADE;\"\"\"\n",
    "cur.execute(query)\n",
    "conn.commit()\n",
    "```"
   ]
  },
  {
   "cell_type": "markdown",
   "id": "a1de88d3-c4b0-4ea7-8180-92f70fca918d",
   "metadata": {},
   "source": [
    "```\n",
    "%%time\n",
    "query=\"\"\"CREATE MATERIALIZED VIEW import.tickertweetsmat AS\n",
    "SELECT tw.id, \n",
    "  unnest(regexp_matches(tw.text, '\\$[A-Z]+\\M', 'g')) AS substring\n",
    "FROM import.tweets AS tw;\"\"\"\n",
    "cur.execute(query)\n",
    "conn.commit()\n",
    "```"
   ]
  },
  {
   "cell_type": "markdown",
   "id": "e5f5462a-bdc5-4055-8490-a3b8dd8e7e2a",
   "metadata": {},
   "source": [
    "Let's see the query time when we call it from the VIEW."
   ]
  },
  {
   "cell_type": "markdown",
   "id": "5b2b3912-66db-4694-b249-66cc183bdc9a",
   "metadata": {},
   "source": [
    "```\n",
    "%%time\n",
    "query=\"\"\"SELECT * FROM import.tickertweetsmat;\"\"\"\n",
    "cur.execute(query)\n",
    "cur.fetchmany(5)\n",
    "```"
   ]
  },
  {
   "cell_type": "markdown",
   "id": "70a490e8-7455-4147-883b-3ba3d328f544",
   "metadata": {},
   "source": [
    "- A TABLE is stored data.  \n",
    "- A VIEW is a stored query.  \n",
    "- A MATERIALIZED VIEW is a query committed to stored data.\n",
    "\n",
    "When to use what?\n",
    "- Choose a table when the underlying data don’t change (except for INSERTs)\n",
    "- Choose a MATERIALIZED VIEW when the query is slow, and you can tolerate some lag between UPDATE/INSERTs and updated values.\n",
    "- Choose a VIEW when you reuse the query and want to simplify calling it.\n",
    "\n",
    "Check out these yourself?\n",
    "\n",
    "- How much time does it take to create a view vs. materialized view?\n",
    "- How much time does it take to query? You can use these queries to find that out.\n",
    "- How much space does it take? You can use these queries to find that out."
   ]
  },
  {
   "cell_type": "markdown",
   "id": "22253f4b-b282-4464-8f88-682dba27f2b7",
   "metadata": {},
   "source": [
    "```\n",
    "%%time\n",
    "query=\"\"\"SELECT pg_size_pretty (pg_relation_size('import.tickertweets'));\"\"\"\n",
    "cur.execute(query)\n",
    "print(cur.fetchone())\n",
    "query=\"\"\"SELECT pg_size_pretty (pg_relation_size('import.tickertweetsmat'));\"\"\"\n",
    "cur.execute(query)\n",
    "print(cur.fetchone())\n",
    "```"
   ]
  },
  {
   "cell_type": "markdown",
   "id": "67f1ef59",
   "metadata": {},
   "source": [
    "### Summary\n",
    "\n",
    "- Views can be an important tool in managing long-running queries for visualization (and for other purposes)\n",
    "- Tradeoffs exist with respect to storage space and the rate at which data needs to be refreshed.\n",
    "\n",
    "| View             | Materialized View |\n",
    "|------------------|-------------------|\n",
    "| Low Disk Space   | High Disk Space   |\n",
    "| Slower Read Time | Fast Read Time    | \n",
    "| Can be refreshed | Can be refreshed  |"
   ]
  },
  {
   "cell_type": "markdown",
   "id": "e2e9d5cc",
   "metadata": {},
   "source": []
  }
 ],
 "metadata": {
  "kernelspec": {
   "display_name": "Python 3 (ipykernel)",
   "language": "python",
   "name": "python3"
  },
  "language_info": {
   "codemirror_mode": {
    "name": "ipython",
    "version": 3
   },
   "file_extension": ".py",
   "mimetype": "text/x-python",
   "name": "python",
   "nbconvert_exporter": "python",
   "pygments_lexer": "ipython3",
   "version": "3.10.4"
  }
 },
 "nbformat": 4,
 "nbformat_minor": 5
}
