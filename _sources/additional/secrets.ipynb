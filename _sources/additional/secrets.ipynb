{
 "cells": [
  {
   "cell_type": "markdown",
   "id": "01c8bbaa-472d-4cc3-853b-eb8d4cd228ef",
   "metadata": {},
   "source": [
    "## Dealing with passwords \n",
    "\n",
    "```{admonition} OPTIONAL\n",
    "This section is optional as we have already seen a different way of dealing with passwords [here in section `ipython-sql` lecture 2](../lectures/lecture2.ipynb)\n",
    "```"
   ]
  },
  {
   "cell_type": "markdown",
   "id": "bcc46d61-5bd6-4045-ad28-18c02d387353",
   "metadata": {},
   "source": [
    "We will make use of a python package dotenv. Install python package"
   ]
  },
  {
   "cell_type": "markdown",
   "id": "0ace009e-885a-4cea-8a50-e0ad6efb133c",
   "metadata": {},
   "source": [
    "```\n",
    "%%sh\n",
    "conda install -c anaconda python-dotenv\n",
    "```"
   ]
  },
  {
   "cell_type": "markdown",
   "id": "d8edcda4-651d-482c-8bd1-eb05ba215de6",
   "metadata": {},
   "source": [
    "```{seealso}\n",
    "https://anaconda.org/conda-forge/python-dotenv\n",
    "```\n",
    "\n",
    "This package looks for a .env file in the folder where your notebook resides, and it loads your database connection details to the environment variable for your session. Here is how my env file looks like\n",
    "\n",
    "```bash\n",
    "(base) ggeorg02@MacBook-Pro assign1 % cat .env  \n",
    "DB_HOST=mbandtweet.xxxxx.us-west-2.rds.amazonaws.com\n",
    "DB_NAME=postgres\n",
    "DB_USER=postgres\n",
    "DB_PASS=password\n",
    "DB_PORT=5432\n",
    "```\n",
    "You have to change this to your connection details\n",
    "To create a .env file, you might want to use your terminal. Check how to use [vi editor](https://www.howtogeek.com/102468/a-beginners-guide-to-editing-text-files-with-vi/)\n",
    "\n",
    "```bash\n",
    "cd <path to your notebook folder>\n",
    "vi .env\n",
    "```\n",
    "\n",
    "```{note}\n",
    "I purposely created this file with just an extension, not a filename. And you can usually make this kind of file only from the terminal, so I am using vi editor. You might not be able to find this file from your file explorer, and that's the reason we created it starting with a period. This means that `.iamasecretfile`. So no wonder why you can't see, right? This way, no one can accidentally look at this file when using your computer. if you want to see it, then again, you want to go to terminal and type `ls -a`\n",
    "```\n",
    "\n",
    "After this, you can call all variables like this. "
   ]
  },
  {
   "cell_type": "markdown",
   "id": "25244c4c-f191-4cd9-86b3-b57c187582d0",
   "metadata": {},
   "source": [
    "```\n",
    "import os\n",
    "import psycopg2\n",
    "\n",
    "##Make sure you import and load your .env file\n",
    "from dotenv import load_dotenv\n",
    "load_dotenv()\n",
    "\n",
    "conString = {'host':os.environ.get('DB_HOST'),\n",
    "             'dbname':os.environ.get('DB_NAME'),\n",
    "             'user':os.environ.get('DB_USER'),\n",
    "             'password':os.environ.get('DB_PASS'),\n",
    "             'port':os.environ.get('DB_PORT')}\n",
    "print(conString[\"port\"])\n",
    "```"
   ]
  },
  {
   "cell_type": "markdown",
   "id": "0ba5f9a1-445b-4f57-8dff-35a54d2d247d",
   "metadata": {},
   "source": [
    "```{important}\n",
    "Make sure you close the cursor and connection before quitting your jupyter notebook. This is a good practice and can protect you from memory leakage and too many open connections.\n",
    "```"
   ]
  },
  {
   "cell_type": "markdown",
   "id": "a3251e93-8062-41d2-937f-71fe908554e5",
   "metadata": {},
   "source": [
    "```\n",
    "cur.close()\n",
    "conn.close()\n",
    "```"
   ]
  }
 ],
 "metadata": {
  "kernelspec": {
   "display_name": "Python 3 (ipykernel)",
   "language": "python",
   "name": "python3"
  },
  "language_info": {
   "codemirror_mode": {
    "name": "ipython",
    "version": 3
   },
   "file_extension": ".py",
   "mimetype": "text/x-python",
   "name": "python",
   "nbconvert_exporter": "python",
   "pygments_lexer": "ipython3",
   "version": "3.10.4"
  }
 },
 "nbformat": 4,
 "nbformat_minor": 5
}
