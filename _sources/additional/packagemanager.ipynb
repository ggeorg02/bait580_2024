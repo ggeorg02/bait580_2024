{
 "cells": [
  {
   "cell_type": "markdown",
   "id": "a1d265d6-99aa-42e1-81d1-00abe049a419",
   "metadata": {},
   "source": [
    "# Importance of package manager\n",
    "\n",
    "Here are recorded videos that supplement your learning. These can be short videos made by the teaching team or tutorials hosted by TAs.\n",
    "\n",
    "- [Importance of package manager -conda](https://canvas.ubc.ca/files/30831874/download?download_frd=1) - from tutorial by @daniel (last year)\n",
    "\n",
    "We will also be having a tutorial this year. Scheduled to happen Thur this week by Jordan Yu (TA) 5 - 6 pm."
   ]
  }
 ],
 "metadata": {
  "kernelspec": {
   "display_name": "Python 3 (ipykernel)",
   "language": "python",
   "name": "python3"
  },
  "language_info": {
   "codemirror_mode": {
    "name": "ipython",
    "version": 3
   },
   "file_extension": ".py",
   "mimetype": "text/x-python",
   "name": "python",
   "nbconvert_exporter": "python",
   "pygments_lexer": "ipython3",
   "version": "3.10.4"
  }
 },
 "nbformat": 4,
 "nbformat_minor": 5
}
