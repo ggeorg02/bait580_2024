{
 "cells": [
  {
   "cell_type": "markdown",
   "id": "49a7e388-6d14-499d-a2d5-ecc6f4fdb2a5",
   "metadata": {},
   "source": [
    "# Mini Video series\n",
    "\n",
    "```{margin}\n",
    "<img src=\"../installation/img/video.png\">\n",
    "```\n",
    "\n",
    "Here are recorded videos that supplement your learning. These can be short videos made by the teaching team or tutorials hosted by TAs.\n",
    "\n",
    "- [Importance of package manager -conda](https://canvas.ubc.ca/files/30831874/download?download_frd=1) - from tutorial by @daniel (last year)\n",
    "\n",
    "We will also be having a tutorial this year. Scheduled to happen Thur this week by Jordan Yu (TA) 5 - 6 pm.\n",
    "\n",
    "Do you want it online or In-person?\n",
    "\n",
    "A) Online via zoom - Based on the poll we will schedule it online: https://ubc.zoom.us/s/63290621368 \n",
    "\n",
    "B) Inperson (subject to room availability)\n",
    "\n",
    "C) Hybrid (subject to room availability)"
   ]
  },
  {
   "cell_type": "markdown",
   "id": "83cbe888",
   "metadata": {},
   "source": [
    "- [Absolute and relative paths - for credentials.json](https://ubc.zoom.us/rec/share/qquSwlsZxHJP7tmDT3yIz_TLXbZdqBKqdm0yf1fEuQEg1TUk4I6A8pU8U3olqTwe.B0SHyYHjdiBjddKa?startTime=1673308251000) - Passcode: `6YqU&nCb`\n",
    "- [Connecting from notebook and credentials.json setup](https://ubc.zoom.us/rec/share/PGBLUxRwIbSTZByM2gU74IMqhkKGizQoN8wxQvPpvv7X-_-489sBgkk24u8G8sBN.3miQidugrqrc6t1X?startTime=1673310310000) - Passcode: `cw2.X2*&`\n",
    "Following the lecture notes from [here](https://ggeorg02.github.io/BAIT580a_students/lectures/lecture2.html#ipython-sql-sql-and-sql)\n",
    "- [Loading tweets.sql dump for Assignment 1](https://ubc.zoom.us/rec/share/V9AOHvihsg8bdyFnQ0OF9LIrYV15YHCNI7rQOmUU3lkf9AlzRt97KfD-lMlZgnME.AMgczF2XIOEaN0Sd) - Passcode: check piazza"
   ]
  },
  {
   "cell_type": "markdown",
   "id": "f2ab32df",
   "metadata": {},
   "source": []
  }
 ],
 "metadata": {
  "kernelspec": {
   "display_name": "Python 3.10.4 64-bit",
   "language": "python",
   "name": "python3"
  },
  "language_info": {
   "codemirror_mode": {
    "name": "ipython",
    "version": 3
   },
   "file_extension": ".py",
   "mimetype": "text/x-python",
   "name": "python",
   "nbconvert_exporter": "python",
   "pygments_lexer": "ipython3",
   "version": "3.10.4"
  },
  "vscode": {
   "interpreter": {
    "hash": "aee8b7b246df8f9039afb4144a1f6fd8d2ca17a180786b69acc140d282b71a49"
   }
  }
 },
 "nbformat": 4,
 "nbformat_minor": 5
}
