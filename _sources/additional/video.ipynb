{
 "cells": [
  {
   "cell_type": "markdown",
   "id": "49a7e388-6d14-499d-a2d5-ecc6f4fdb2a5",
   "metadata": {},
   "source": [
    "# Mini Video series\n",
    "\n",
    "```{margin}\n",
    "<img src=\"../installation/img/video.png\">\n",
    "```\n",
    "\n",
    "Here are recorded videos that supplement your learning. These can be short videos made by the teaching team or tutorials hosted by TAs.\n",
    "\n",
    "- [Importance of package manager -conda](https://canvas.ubc.ca/files/30831874/download?download_frd=1) - from tutorial by @daniel (last year)\n",
    "\n",
    "We will also be having a tutorial this year. Scheduled to happen Thur this week by Jordan Yu (TA) 5 - 6 pm.\n",
    "\n",
    "Do you want it online or In-person?\n",
    "\n",
    "A) Online via zoom - Based on the poll we will schedule it online: https://ubc.zoom.us/s/63290621368 \n",
    "\n",
    "B) Inperson (subject to room availability)\n",
    "\n",
    "C) Hybrid (subject to room availability)"
   ]
  },
  {
   "cell_type": "markdown",
   "id": "83cbe888",
   "metadata": {},
   "source": [
    "Here is the youtube video that will help you with first-week installations and setup. \n",
    "\n",
    "Check out youtube video: [https://www.youtube.com/watch?v=Wm5zLfpLD8I](https://www.youtube.com/watch?v=Wm5zLfpLD8I)\n",
    "\n",
    "Here are the video chapters:\n",
    "\n",
    "- 0:00 Brief intro\n",
    "- 11:30 Setting up RDS database\n",
    "- 25:58 IMPORTANT: Update security group RDS\n",
    "- 29:00 Connecting pgadmin to the RDS\n",
    "- 34:30 Loading dumps to your Database\n",
    "- 45:10 Understanding absolute vs relative path\n",
    "- 52:58 Connecting Jupyter Notebook to the RDS"
   ]
  },
  {
   "cell_type": "code",
   "execution_count": 9,
   "id": "180447ae",
   "metadata": {},
   "outputs": [
    {
     "data": {
      "text/html": [
       "<iframe width=\"960\" height=\"616\" src=\"https://www.youtube.com/embed/Wm5zLfpLD8I?rel=0&amp;controls=0&amp;showinfo=0\" frameborder=\"0\" allowfullscreen></iframe>"
      ],
      "text/plain": [
       "<IPython.core.display.HTML object>"
      ]
     },
     "execution_count": 9,
     "metadata": {},
     "output_type": "execute_result"
    }
   ],
   "source": [
    "from IPython.display import HTML\n",
    "\n",
    "# Youtube\n",
    "HTML('<iframe width=\"960\" height=\"616\" src=\"https://www.youtube.com/embed/Wm5zLfpLD8I?rel=0&amp;controls=0&amp;showinfo=0\" frameborder=\"0\" allowfullscreen></iframe>')"
   ]
  },
  {
   "cell_type": "markdown",
   "id": "f2ab32df",
   "metadata": {},
   "source": []
  }
 ],
 "metadata": {
  "kernelspec": {
   "display_name": "Python 3.10.4 64-bit",
   "language": "python",
   "name": "python3"
  },
  "language_info": {
   "codemirror_mode": {
    "name": "ipython",
    "version": 3
   },
   "file_extension": ".py",
   "mimetype": "text/x-python",
   "name": "python",
   "nbconvert_exporter": "python",
   "pygments_lexer": "ipython3",
   "version": "3.10.4"
  },
  "vscode": {
   "interpreter": {
    "hash": "aee8b7b246df8f9039afb4144a1f6fd8d2ca17a180786b69acc140d282b71a49"
   }
  }
 },
 "nbformat": 4,
 "nbformat_minor": 5
}
