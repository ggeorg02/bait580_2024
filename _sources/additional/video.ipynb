{
 "cells": [
  {
   "cell_type": "markdown",
   "id": "49a7e388-6d14-499d-a2d5-ecc6f4fdb2a5",
   "metadata": {},
   "source": [
    "# Mini Video series\n",
    "\n",
    "```{margin}\n",
    "<img src=\"../installation/img/video.png\">\n",
    "```\n",
    "\n",
    "Here are recorded videos that supplement your learning. These can be short videos made by the teaching team or tutorials hosted by TAs.\n",
    "\n",
    "## Importance of package manager\n",
    "- [Importance of package manager -conda](https://canvas.ubc.ca/files/30831874/download?download_frd=1) - from tutorial by @daniel (last year)\n",
    "\n",
    "We will also be having a tutorial this year. Scheduled to happen Thur this week by Jordan Yu (TA) 5 - 6 pm."
   ]
  },
  {
   "cell_type": "markdown",
   "id": "83cbe888",
   "metadata": {},
   "source": [
    "## Setting up relational database - RDS\n",
    "Here is the youtube video that will help you with first-week installations and setup. \n",
    "\n",
    "Check out youtube video: [https://www.youtube.com/watch?v=Wm5zLfpLD8I](https://www.youtube.com/watch?v=Wm5zLfpLD8I)\n",
    "\n",
    "Here are the video chapters:\n",
    "\n",
    "- 0:00 Brief intro\n",
    "- 11:30 Setting up RDS database\n",
    "- 25:58 IMPORTANT: Update security group RDS\n",
    "- 29:00 Connecting pgadmin to the RDS\n",
    "- 34:30 Loading dumps to your Database\n",
    "- 45:10 Understanding absolute vs relative path\n",
    "- 52:58 Connecting Jupyter Notebook to the RDS"
   ]
  },
  {
   "cell_type": "code",
   "execution_count": 9,
   "id": "180447ae",
   "metadata": {},
   "outputs": [
    {
     "data": {
      "text/html": [
       "<iframe width=\"960\" height=\"616\" src=\"https://www.youtube.com/embed/Wm5zLfpLD8I?rel=0&amp;controls=0&amp;showinfo=0\" frameborder=\"0\" allowfullscreen></iframe>"
      ],
      "text/plain": [
       "<IPython.core.display.HTML object>"
      ]
     },
     "execution_count": 9,
     "metadata": {},
     "output_type": "execute_result"
    }
   ],
   "source": [
    "from IPython.display import HTML\n",
    "\n",
    "# Youtube\n",
    "HTML('<iframe width=\"860\" height=\"616\" src=\"https://www.youtube.com/embed/Wm5zLfpLD8I?rel=0&amp;controls=0&amp;showinfo=0\" frameborder=\"0\" allowfullscreen></iframe>')"
   ]
  },
  {
   "cell_type": "markdown",
   "id": "f2ab32df",
   "metadata": {},
   "source": [
    "## Setting up graph database - RDS\n",
    "\n",
    "Week 3 and 4\n",
    "\n",
    "You will do everything mentioned below as part of worksheet 5. You must watch this video that talks about everything in worksheet 5. Here is the video link \n",
    "\n",
    "[https://www.youtube.com/watch?v=i010tSnGmyI](https://www.youtube.com/watch?v=i010tSnGmyI)\n",
    "\n",
    "Here are the timestamps for each question:\n",
    "\n",
    "- 0:00 Brief Intro - The plan \n",
    "- 1:38 Que 2 - WS 5\n",
    "- 06:45 Que 3 - WS 5\n",
    "- 11:56 Que 4 - WS 5\n",
    "- 17:01 Que 5 - WS 5\n",
    "- 22:40 Que 5 - WS 5 - some issues and fixes\n",
    "- 26:15 Que 6 - WS 4 - using a different package\n",
    "- 27:53 Conclusion and learnings"
   ]
  },
  {
   "cell_type": "code",
   "execution_count": 1,
   "id": "a621b0ea",
   "metadata": {},
   "outputs": [
    {
     "name": "stderr",
     "output_type": "stream",
     "text": [
      "/Library/Frameworks/Python.framework/Versions/3.10/lib/python3.10/site-packages/IPython/core/display.py:431: UserWarning: Consider using IPython.display.IFrame instead\n",
      "  warnings.warn(\"Consider using IPython.display.IFrame instead\")\n"
     ]
    },
    {
     "data": {
      "text/html": [
       "<iframe width=\"860\" height=\"616\" src=\"https://www.youtube.com/embed/i010tSnGmyI?rel=0&amp;controls=0&amp;showinfo=0\" frameborder=\"0\" allowfullscreen></iframe>"
      ],
      "text/plain": [
       "<IPython.core.display.HTML object>"
      ]
     },
     "execution_count": 1,
     "metadata": {},
     "output_type": "execute_result"
    }
   ],
   "source": [
    "from IPython.display import HTML\n",
    "\n",
    "# Youtube\n",
    "HTML('<iframe width=\"860\" height=\"616\" src=\"https://www.youtube.com/embed/i010tSnGmyI?rel=0&amp;controls=0&amp;showinfo=0\" frameborder=\"0\" allowfullscreen></iframe>')"
   ]
  },
  {
   "cell_type": "code",
   "execution_count": null,
   "id": "513fe1ab",
   "metadata": {},
   "outputs": [],
   "source": []
  }
 ],
 "metadata": {
  "kernelspec": {
   "display_name": "Python 3.10.4 64-bit",
   "language": "python",
   "name": "python3"
  },
  "language_info": {
   "codemirror_mode": {
    "name": "ipython",
    "version": 3
   },
   "file_extension": ".py",
   "mimetype": "text/x-python",
   "name": "python",
   "nbconvert_exporter": "python",
   "pygments_lexer": "ipython3",
   "version": "3.10.4"
  },
  "vscode": {
   "interpreter": {
    "hash": "aee8b7b246df8f9039afb4144a1f6fd8d2ca17a180786b69acc140d282b71a49"
   }
  }
 },
 "nbformat": 4,
 "nbformat_minor": 5
}
