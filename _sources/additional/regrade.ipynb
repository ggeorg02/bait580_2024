{
 "cells": [
  {
   "cell_type": "markdown",
   "id": "49a7e388-6d14-499d-a2d5-ecc6f4fdb2a5",
   "metadata": {},
   "source": [
    "# Regrade requests\n",
    "\n",
    "Regrade requests are typically due within 48 hours after the grades are released. However, there will be an exception for the final assignment (Assignment 3), where regrade requests must be submitted within 24 hours of the grade release. Please note that when a regrade request is submitted for your assignment or worksheet, ***the entire assignment/worksheet will be remarked– not just a portion of it***.\n",
    "\n",
    "## Things to keep in mind before submitting a regrade request:\n",
    "\n",
    "- A regrade request is not an opportunity for you to argue about the grading scheme. Instead, it is a chance for you to address situations where the grading scheme was applied incorrectly to your assignment/worksheet. Regrade requests that debate the validity of the grading scheme (e.g., this item should not be worth this number of points or this item should not be included in the rubric) will be discarded without warning.\n",
    "- ***The regraded mark is final*** (We will be grading your entire assignment/worksheet) – even when the regraded mark is less than the original grade. You cannot choose to withdraw a regrade request.\n",
    "- When submitting a regrade request, you should mention the question where the grading error happened and clearly explain why you feel the need to submit the request. We won't be looking into regrade requests without clear explanations.\n",
    "- ***Late regrade requests are not accepted***.\n",
    "- You must submit the request in the format outlined in the next session.\n",
    "\n",
    "## How to submit a regrade request\n",
    "\n",
    "- You ***should*** email TA Daniel (`daniel.ramandi@alumni.ubc.ca`)with details on why you are seeking a regrades.\n",
    "- Mention the question and give a clear explanation outlining the grading error.\n",
    "- Give the title/subject as `BAIT 580 Regrade Request - Assignment/Worksheet Number`.\n",
    "\n",
    "## Sample\n",
    "\n",
    "Dear Daniel-\n",
    "\n",
    "I would like to bring in a grading error in my worksheet2 **Question1**\n",
    "\n",
    "TA deducted -3 points for not having DB instance class db.t3.medium, but as mentioned in the instructions, I used db.t3.medium instance, which you can see from the screenshot that I uploaded in canvas. \n",
    "\n",
    "Can you please look into this to see if it is a grading error and do what is necessary?\n",
    "\n",
    "\n",
    "```{attention}\n",
    "\n",
    "Grades are not perfect; some randomness in grading is normal, meaning that you'll generally get more than you deserve in some cases and less than you deserve in other cases. Thus, it is possible to cheat the system by consistently complaining when your grade is too low but not when it is too high. Unfortunately, this takes time away from the course staff which could have been spent on making the course better for everyone. Thus, in our view, students who overzealously contest grades are penalizing their classmates for personal gain.\n",
    "\n",
    "Sometimes serious grading errors are made, for example when a grader did not see your answer to a question or completely deviated from standard grading practices for some unknown reason. Such situations can be quite frustrating for students, and we want you to feel that the courses are fair. In these cases, it makes sense for the student to bring the error to our attention.\n",
    "```"
   ]
  },
  {
   "cell_type": "markdown",
   "id": "83cbe888",
   "metadata": {},
   "source": []
  },
  {
   "cell_type": "markdown",
   "id": "124034d3",
   "metadata": {},
   "source": []
  }
 ],
 "metadata": {
  "kernelspec": {
   "display_name": "Python 3.10.4 64-bit",
   "language": "python",
   "name": "python3"
  },
  "language_info": {
   "codemirror_mode": {
    "name": "ipython",
    "version": 3
   },
   "file_extension": ".py",
   "mimetype": "text/x-python",
   "name": "python",
   "nbconvert_exporter": "python",
   "pygments_lexer": "ipython3",
   "version": "3.10.4"
  },
  "vscode": {
   "interpreter": {
    "hash": "aee8b7b246df8f9039afb4144a1f6fd8d2ca17a180786b69acc140d282b71a49"
   }
  }
 },
 "nbformat": 4,
 "nbformat_minor": 5
}
