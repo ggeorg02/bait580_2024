{
 "cells": [
  {
   "cell_type": "markdown",
   "id": "35f359f6-6f6b-4ca1-9987-daa6fa757c84",
   "metadata": {},
   "source": [
    "# Lecture 9: MQL 2"
   ]
  },
  {
   "cell_type": "markdown",
   "id": "208d3a58-e8e8-4bd2-9000-b707dc715138",
   "metadata": {},
   "source": [
    "Gittu George, Feb 06, 2024\n",
    "\n",
    "_Attribution: This notebook is developed using materials from DSCI 513 by Arman._"
   ]
  },
  {
   "cell_type": "code",
   "execution_count": 23,
   "id": "c99e4043-ab1d-4967-9b37-aa694a951685",
   "metadata": {},
   "outputs": [],
   "source": [
    "from pymongo import MongoClient\n",
    "import json\n",
    "import urllib.parse\n",
    "\n",
    "with open('credentials_mongodb.json') as f:\n",
    "    login = json.load(f)\n",
    "\n",
    "username = login['username']\n",
    "password = urllib.parse.quote(login['password'])\n",
    "host = login['host']\n",
    "url = \"mongodb+srv://{}:{}@{}/?retryWrites=true&w=majority\".format(username, password, host)\n",
    "client = MongoClient(url)"
   ]
  },
  {
   "cell_type": "markdown",
   "id": "68a1bd6b",
   "metadata": {},
   "source": [
    "## Lecture outline\n",
    "\n",
    "- Operators in MongoDB\n",
    "- Query conditionals\n",
    "- Querying arrays and sub-documents"
   ]
  },
  {
   "cell_type": "markdown",
   "id": "4e301ca4-f010-4286-ba13-adf915d3e04d",
   "metadata": {},
   "source": [
    "## `$` and operators in MongoDB\n",
    "\n",
    "In MongoDB, operators are denoted with a dollar sign `$`. For example, the `$sum` operator which is used in aggregation pipelines, or comparison operators such as `$gte` which is equivalent to `>=` in SQL or Python."
   ]
  },
  {
   "cell_type": "markdown",
   "id": "44545be5-dc88-48f9-ad69-9c1ef7d15bf7",
   "metadata": {},
   "source": [
    "## Comparison operators\n",
    "### `$gt`, `$gte`, `$lt`, `$lte`\n",
    "\n",
    "These operators have the same meaning as `>`, `>=`, `<`, and `<=` in SQL or Python. For example, while a filter `{'runtime': 200}` would return documents whose runtime is exactly 200 minutes, `{'runtime': {'$gte': 200}}` would return documents whose runtime is greater that 200 minutes.\n",
    "\n",
    "**Example:** Return the title, runtime, and production year of 5 movies with a runtime of 200 minutes or greater."
   ]
  },
  {
   "cell_type": "code",
   "execution_count": 17,
   "id": "28404b06-af9f-4c85-9fc0-891437ae4bf3",
   "metadata": {},
   "outputs": [
    {
     "data": {
      "text/plain": [
       "[{'runtime': 399, 'title': 'Les vampires', 'year': 1915},\n",
       " {'runtime': 240, 'title': 'Napoleon', 'year': 1927},\n",
       " {'runtime': 281, 'title': 'Les Misèrables', 'year': 1934},\n",
       " {'runtime': 245, 'title': 'Flash Gordon', 'year': 1936},\n",
       " {'runtime': 238, 'title': 'Gone with the Wind', 'year': 1939}]"
      ]
     },
     "execution_count": 17,
     "metadata": {},
     "output_type": "execute_result"
    }
   ],
   "source": [
    "list(\n",
    "    client['sample_mflix']['movies'].find(\n",
    "        filter={'runtime': {'$gte': 200}},\n",
    "        projection={'_id': 0, 'title': 1, 'runtime': 1, 'year': 1},\n",
    "        limit=5\n",
    "    )\n",
    ")"
   ]
  },
  {
   "cell_type": "markdown",
   "id": "94b5edae-7860-45a8-a4fa-e217ff31e134",
   "metadata": {},
   "source": [
    "**Example:** How many movies are there with a runtime of 200 minutes or greater?"
   ]
  },
  {
   "cell_type": "code",
   "execution_count": 18,
   "id": "3a064a80-0dc0-4bf3-aba6-c76529bbf008",
   "metadata": {},
   "outputs": [
    {
     "data": {
      "text/plain": [
       "227"
      ]
     },
     "execution_count": 18,
     "metadata": {},
     "output_type": "execute_result"
    }
   ],
   "source": [
    "client['sample_mflix']['movies'].count_documents(filter={'runtime': {'$gte': 200}})"
   ]
  },
  {
   "cell_type": "markdown",
   "id": "f5308d9d-da48-448f-b0ba-6a8ed3ed3440",
   "metadata": {},
   "source": [
    "### `$ne`\n",
    "\n",
    "The `$ne` (not equal) operator has the same meaning as `<>` in SQL or `!=` in Python.\n",
    "\n",
    "**Example:** Find the title and the type of 5 documents in the `movies` collection that are not of type `movie`."
   ]
  },
  {
   "cell_type": "code",
   "execution_count": 19,
   "id": "5c8f9f40-bd15-4d00-af48-8ee8557fc39f",
   "metadata": {},
   "outputs": [
    {
     "data": {
      "text/plain": [
       "[{'title': 'The Forsyte Saga', 'type': 'series'},\n",
       " {'title': 'Scenes from a Marriage', 'type': 'series'},\n",
       " {'title': 'Ironiya sudby, ili S legkim parom!', 'type': 'series'},\n",
       " {'title': 'I, Claudius', 'type': 'series'},\n",
       " {'title': 'Sybil', 'type': 'series'}]"
      ]
     },
     "execution_count": 19,
     "metadata": {},
     "output_type": "execute_result"
    }
   ],
   "source": [
    "list(\n",
    "    client['sample_mflix']['movies'].find(\n",
    "        filter={'type': {'$ne': 'movie'}},\n",
    "        projection={'_id': 0, 'title': 1, 'type': 1},\n",
    "        limit=5\n",
    "    )\n",
    ")"
   ]
  },
  {
   "cell_type": "markdown",
   "id": "3dccf128-95a7-4d0b-bdd0-1f513b48cf05",
   "metadata": {},
   "source": [
    "Note that the `type` field of none of the returned documents is `movie` (all of them are `series` because that's the only other type that exists in the documents of the `movies` collection).\n",
    "\n",
    "```{note}\n",
    "The `$eq` (equal to) operator has the same meaning as `` in SQL or `==` in Python.\n",
    "```"
   ]
  },
  {
   "cell_type": "markdown",
   "id": "8ab1f12c-f4da-42ae-863a-b23e0dd15b17",
   "metadata": {},
   "source": [
    "### `$in`, `$nin`\n",
    "\n",
    "These two operators are equivalent to `IN` and `NOT IN` in SQL, or `in` and `not in` in Python. They are used to check if the value of a field is equal (or not equal) to any value in a given list. What these operators do can also be imitated with `$or` or `$nor`, but these are more concise.\n",
    "\n",
    "**Example:** Return the title, production year, and the cast of these movies: The Sixth Sense, Imitation Game, The Red Violin, Match Point, Forrest Gump."
   ]
  },
  {
   "cell_type": "code",
   "execution_count": 20,
   "id": "c28fd35e-277c-4f7b-bcb3-956be5d1aa5a",
   "metadata": {},
   "outputs": [
    {
     "data": {
      "text/plain": [
       "[{'year': 1994,\n",
       "  'title': 'Forrest Gump',\n",
       "  'cast': ['Tom Hanks',\n",
       "   'Rebecca Williams',\n",
       "   'Sally Field',\n",
       "   'Michael Conner Humphreys']},\n",
       " {'cast': ['Carlo Cecchi',\n",
       "   'Irene Grazioli',\n",
       "   'Anita Laurenzi',\n",
       "   'Tommaso Puntelli'],\n",
       "  'title': 'The Red Violin',\n",
       "  'year': 1998},\n",
       " {'year': 1999,\n",
       "  'title': 'The Sixth Sense',\n",
       "  'cast': ['Bruce Willis',\n",
       "   'Haley Joel Osment',\n",
       "   'Toni Collette',\n",
       "   'Olivia Williams']},\n",
       " {'year': 2005,\n",
       "  'title': 'Match Point',\n",
       "  'cast': ['Jonathan Rhys Meyers',\n",
       "   'Alexander Armstrong',\n",
       "   'Paul Kaye',\n",
       "   'Matthew Goode']}]"
      ]
     },
     "execution_count": 20,
     "metadata": {},
     "output_type": "execute_result"
    }
   ],
   "source": [
    "list(\n",
    "    client[\"sample_mflix\"][\"movies\"].find(\n",
    "        filter={\n",
    "            \"title\": {\n",
    "                \"$in\": [\n",
    "                    \"The Sixth Sense\",\n",
    "                    \"Imitation Game\",\n",
    "                    \"The Red Violin\",\n",
    "                    \"Match Point\",\n",
    "                    \"Forrest Gump\",\n",
    "                ]\n",
    "            }\n",
    "        },\n",
    "        projection={\"_id\": 0, \"title\": 1, \"cast\": 1, \"year\": 1},\n",
    "        limit=5,\n",
    "    )\n",
    ")"
   ]
  },
  {
   "cell_type": "markdown",
   "id": "7f1bbb20-6986-46f2-895e-7cdd932aebaf",
   "metadata": {},
   "source": [
    "**Example:** Find the number of movies that are not available in any of these languages: English, French, Italian or German."
   ]
  },
  {
   "cell_type": "code",
   "execution_count": 21,
   "id": "39386708-4237-463f-ad8d-ac38ac999076",
   "metadata": {},
   "outputs": [
    {
     "data": {
      "text/plain": [
       "4888"
      ]
     },
     "execution_count": 21,
     "metadata": {},
     "output_type": "execute_result"
    }
   ],
   "source": [
    "client[\"sample_mflix\"][\"movies\"].count_documents(\n",
    "    filter={'languages': {'$nin': ['English', 'French', 'German', 'Italian']}}\n",
    ")"
   ]
  },
  {
   "cell_type": "markdown",
   "id": "be70f649",
   "metadata": {},
   "source": [
    "## Logical operators\n",
    "\n",
    "### Implicit AND, `$and`\n",
    "\n",
    "In MongoDB, specifying multiple conditions on a field or multiple fields implies an implicit logical AND and we don't need to explicitly need to use `$and`. For example, in these filters\n",
    "\n",
    "```\n",
    "{'year': {'$gte': 2000, '$lte': 2010}}\n",
    "```\n",
    "or\n",
    "```\n",
    "{'year': 2010, 'directors': 'Woody Allen'}\n",
    "```\n",
    "a logical AND is implied between the multiple given conditions.\n",
    "\n",
    "**Example:** Using the `sample_supplies` database, return 2 documents associated with sales that are made in Seattle and used a coupon. Exclude the `items` field from the results."
   ]
  },
  {
   "cell_type": "code",
   "execution_count": null,
   "id": "9fbe5279",
   "metadata": {},
   "outputs": [],
   "source": [
    "list(\n",
    "    client[\"sample_supplies\"][\"sales\"].find(\n",
    "        filter={\n",
    "            'storeLocation': 'Seattle',\n",
    "            'couponUsed': True\n",
    "        },\n",
    "        projection={\"_id\": 0, \"items\": 0},\n",
    "        limit=2,\n",
    "    )\n",
    ")"
   ]
  },
  {
   "cell_type": "markdown",
   "id": "4d27c8d4",
   "metadata": {},
   "source": [
    "The above query is equivalent to:"
   ]
  },
  {
   "cell_type": "code",
   "execution_count": null,
   "id": "26c84c73",
   "metadata": {},
   "outputs": [],
   "source": [
    "list(\n",
    "    client[\"sample_supplies\"][\"sales\"].find(\n",
    "        filter={\n",
    "            '$and': [   \n",
    "                {'storeLocation': 'Seattle'},\n",
    "                {'couponUsed': True}\n",
    "            ]\n",
    "        },\n",
    "        projection={\"_id\": 0, \"items\": 0},\n",
    "        limit=2,\n",
    "    )\n",
    ")"
   ]
  },
  {
   "cell_type": "markdown",
   "id": "f55120e9",
   "metadata": {},
   "source": [
    "**Example:** Using the `sample_supplies` database, find the number of sales made between October 1, 2014 and December 1, 2014."
   ]
  },
  {
   "cell_type": "code",
   "execution_count": null,
   "id": "90a26df0",
   "metadata": {},
   "outputs": [],
   "source": [
    "import datetime\n",
    "\n",
    "client[\"sample_supplies\"][\"sales\"].count_documents(\n",
    "        filter={\n",
    "            'saleDate': {\n",
    "                '$gte': datetime.datetime(2014, 10, 1),\n",
    "                '$lte': datetime.datetime(2014, 12, 1)\n",
    "            }\n",
    "        }\n",
    ")"
   ]
  },
  {
   "cell_type": "markdown",
   "id": "4bfa0f1e",
   "metadata": {},
   "source": [
    "```{note}\n",
    "When specifying multiple conditions for a field, all conditions should be put into a single query document for that field (or an `$and` operator should be used). For example, the following query only checks the **last condition on the field** and returns unexpected results:\n",
    "```"
   ]
  },
  {
   "cell_type": "code",
   "execution_count": null,
   "id": "609383f0",
   "metadata": {},
   "outputs": [],
   "source": [
    "import datetime\n",
    "\n",
    "client[\"sample_supplies\"][\"sales\"].count_documents(\n",
    "        filter={\n",
    "            'saleDate': {'$gte': datetime.datetime(2014, 10, 1)},\n",
    "            'saleDate': {'$lte': datetime.datetime(2014, 12, 1)}\n",
    "    }\n",
    ")"
   ]
  },
  {
   "cell_type": "markdown",
   "id": "4313ad1f",
   "metadata": {},
   "source": [
    "### `$or`, `$nor`\n",
    "\n",
    "These are general logical OR/NOR operators. The difference with `$in`/`$nin` is that `$in`/`$nin` can be used for an equality condition on a single field, but `$or`/`$nor` are general and can be used with any boolean expression.\n",
    "\n",
    "**Example:** Using the `sample_supplies` database, find 5 sales that were made in New York and were either paid by phone or didn't use a coupon."
   ]
  },
  {
   "cell_type": "code",
   "execution_count": null,
   "id": "3d3b0627",
   "metadata": {},
   "outputs": [],
   "source": [
    "list(\n",
    "    client[\"sample_supplies\"][\"sales\"].find(\n",
    "        filter={\n",
    "            'storeLocation': 'New York',\n",
    "            '$or': [\n",
    "                {'purchaseMethod': 'Phone'},\n",
    "                {'couponUsed': True}\n",
    "            ]\n",
    "        },\n",
    "        projection={\"_id\": 0, \"items\": 0},\n",
    "        limit=5,\n",
    "    )\n",
    ")"
   ]
  },
  {
   "cell_type": "markdown",
   "id": "da58f393",
   "metadata": {},
   "source": [
    "## Field existence with `$exists`\n",
    "\n",
    "One of the hallmarks of document-based NoSQL databases is that **their schema is flexible**, meaning that not all documents need to have the same fields. This is why sometimes we need to check for the existence of a field before trying to use it. This is done using the `$exists` operator in MongoDB.\n",
    "\n",
    "In the following example, I want to select documents for movies that are not in English. However, I should make sure that `languages` field actually exists, because otherwise I might filter out English movies that simply don't have the `languages` field:"
   ]
  },
  {
   "cell_type": "code",
   "execution_count": null,
   "id": "08e439e0",
   "metadata": {},
   "outputs": [],
   "source": [
    "list(\n",
    "    client[\"sample_mflix\"][\"movies\"].find(\n",
    "        filter={\n",
    "            'languages': {\n",
    "                '$ne': 'English',\n",
    "                '$exists': True  # comment this line to see the difference\n",
    "            }\n",
    "        },\n",
    "        projection={'_id': 0, 'languages': 1, 'title': 1},\n",
    "        limit=10,\n",
    "    )\n",
    ")"
   ]
  },
  {
   "cell_type": "markdown",
   "id": "728a738c",
   "metadata": {},
   "source": [
    "## Querying sub-documents"
   ]
  },
  {
   "cell_type": "code",
   "execution_count": null,
   "id": "009edb55",
   "metadata": {},
   "outputs": [],
   "source": [
    "client['mds']['instructors'].drop()"
   ]
  },
  {
   "cell_type": "code",
   "execution_count": null,
   "id": "1f9a0a89",
   "metadata": {},
   "outputs": [],
   "source": [
    "if client['mds']['instructors'].count_documents({}) == 0:\n",
    "    \n",
    "    client['mds']['instructors'].insert_many([\n",
    "        {\n",
    "            'name': 'Mike',\n",
    "            'department': {\n",
    "                'name': 'Computer Science',\n",
    "                'campus': 'Vancouver'\n",
    "            },\n",
    "            'courses': [\n",
    "                {\n",
    "                    'name': 'Algorithms & Data Structures',\n",
    "                    'code': 512\n",
    "                },\n",
    "                {\n",
    "                    'name': 'Descriptive Statistics and Probability',\n",
    "                    'code': 551\n",
    "                },\n",
    "            ]\n",
    "        },\n",
    "        {\n",
    "            'name': 'Tiffany',\n",
    "            'department': {\n",
    "                'name': 'Statistics',\n",
    "                'campus': 'Vancouver'\n",
    "            },\n",
    "            'courses': [\n",
    "                {\n",
    "                    'name': 'Programming for Data Manipulation',\n",
    "                    'code': 523\n",
    "                },\n",
    "                {\n",
    "                    'name': 'Data Science Workflows',\n",
    "                    'code': 522\n",
    "                },\n",
    "                {\n",
    "                    'name': 'Collaborative Software Development',\n",
    "                    'code': 524\n",
    "                },\n",
    "            ]\n",
    "        },\n",
    "        {\n",
    "            'name': 'Alexi',\n",
    "            'department': {\n",
    "                'name': 'Statistics',\n",
    "                'campus': 'Vancouver'\n",
    "            },\n",
    "            'courses': [\n",
    "                {\n",
    "                    'name': 'Statistical Inference and Computation',\n",
    "                    'code': 552\n",
    "                },\n",
    "                {\n",
    "                    'name': 'Regression II',\n",
    "                    'code': 562\n",
    "                },\n",
    "            ]\n",
    "        }\n",
    "    ])"
   ]
  },
  {
   "cell_type": "markdown",
   "id": "cfb400b8",
   "metadata": {},
   "source": [
    "Sub-documents can be queried for either for an exact match or for particular sub-fields. The following query wouldn't work because it looks for a sub-document `'department': {'name': 'Statistics'}` (exact match, no more no less) which does not exist:"
   ]
  },
  {
   "cell_type": "code",
   "execution_count": null,
   "id": "e58292fa",
   "metadata": {},
   "outputs": [],
   "source": [
    "list(\n",
    "    client['mds']['instructors'].find(\n",
    "        filter={\n",
    "            'department': {'name': 'Statistics'}\n",
    "        }\n",
    "    )\n",
    ")"
   ]
  },
  {
   "cell_type": "markdown",
   "id": "4629afc5",
   "metadata": {},
   "source": [
    "But if we supply the full `department` sub-document:"
   ]
  },
  {
   "cell_type": "code",
   "execution_count": null,
   "id": "b6d367bc",
   "metadata": {},
   "outputs": [],
   "source": [
    "list(\n",
    "    client['mds']['instructors'].find(\n",
    "        filter={\n",
    "            'department': {'name': 'Statistics', 'campus': 'Vancouver'}\n",
    "        }\n",
    "    )\n",
    ")"
   ]
  },
  {
   "cell_type": "markdown",
   "id": "a17c44b8",
   "metadata": {},
   "source": [
    "However, we can look for particular values for sub-fields directly using the dot notation. For example, if we want to find instructors from the Statistics department, we can use the following query:"
   ]
  },
  {
   "cell_type": "code",
   "execution_count": null,
   "id": "3165c2ca",
   "metadata": {},
   "outputs": [],
   "source": [
    "list(\n",
    "    client['mds']['instructors'].find(\n",
    "        filter={\n",
    "            'department.name': 'Statistics'\n",
    "        }\n",
    "    )\n",
    ")"
   ]
  },
  {
   "cell_type": "markdown",
   "id": "4c0d8bbb",
   "metadata": {},
   "source": [
    "In this way, if over time other fields are added to the `department` field, our query will still be robust and runs without any problems."
   ]
  },
  {
   "cell_type": "markdown",
   "id": "e09996f4",
   "metadata": {},
   "source": [
    "## Querying arrays\n",
    "\n",
    "Similar to sub-documents, arrays can either be matched exactly or partially.\n",
    "\n",
    "If we're looking for a single value inside an array, we can write our query as if the array field was a regular simple field. For example, the following query returns movies that are available in French, among other languages:"
   ]
  },
  {
   "cell_type": "code",
   "execution_count": null,
   "id": "d3469562",
   "metadata": {},
   "outputs": [],
   "source": [
    "list(\n",
    "    client[\"sample_mflix\"][\"movies\"].find(\n",
    "        filter={'languages': 'French'},\n",
    "        projection={'_id': 0, 'languages': 1, 'title': 1},\n",
    "        limit=10,\n",
    "    )\n",
    ")"
   ]
  },
  {
   "cell_type": "markdown",
   "id": "c823b6e3",
   "metadata": {},
   "source": [
    "Note that the `languages` field in all of the above documents contains French, occasionally in addition to other languages.\n",
    "\n",
    "Things are different if we're looking for more than one element. If the desired elements are specified inside `[]`, then MongoDB looks for an exact match. For example, with the following query:"
   ]
  },
  {
   "cell_type": "code",
   "execution_count": null,
   "id": "cf511de3",
   "metadata": {},
   "outputs": [],
   "source": [
    "list(\n",
    "    client[\"sample_mflix\"][\"movies\"].find(\n",
    "        filter={\n",
    "            'languages': ['English', 'French']\n",
    "        },\n",
    "        projection={'_id': 0, 'languages': 1, 'title': 1},\n",
    "        limit=10,\n",
    "    )\n",
    ")"
   ]
  },
  {
   "cell_type": "markdown",
   "id": "ab611007",
   "metadata": {},
   "source": [
    "only those documents will be returned that **only and only** have `['English', 'French']` in their `'languages'`, **in the exact same order**. You can switch the order of the languages to see that you get different results.\n",
    "\n",
    "We can also query an array by **index**. Here, I'm looking for movies which have Italian listed as the first language in their `languages` field:"
   ]
  },
  {
   "cell_type": "code",
   "execution_count": null,
   "id": "3e028307",
   "metadata": {},
   "outputs": [],
   "source": [
    "list(\n",
    "    client[\"sample_mflix\"][\"movies\"].find(\n",
    "        filter={\n",
    "            'languages.0': 'Italian'\n",
    "        },\n",
    "        projection={'_id': 0, 'languages': 1, 'title': 1},\n",
    "        limit=10,\n",
    "    )\n",
    ")"
   ]
  },
  {
   "cell_type": "markdown",
   "id": "9d589a88",
   "metadata": {},
   "source": [
    "### `$size`\n",
    "\n",
    "The `$size` operator checks for the number of elements inside an array. For example, suppose that we want to return all movies that are have 2 directors:"
   ]
  },
  {
   "cell_type": "code",
   "execution_count": null,
   "id": "fe2f697a",
   "metadata": {},
   "outputs": [],
   "source": [
    "list(\n",
    "    client[\"sample_mflix\"][\"movies\"].find(\n",
    "        filter={\n",
    "            'directors': {'$size': 2}\n",
    "        },\n",
    "        projection={'_id': 0, 'directors': 1, 'title': 1},\n",
    "        limit=10,\n",
    "    )\n",
    ")"
   ]
  },
  {
   "cell_type": "markdown",
   "id": "773a0f34",
   "metadata": {},
   "source": [
    "### `$all`\n",
    "\n",
    "Now suppose that we want to find movies that are available in both English and French, among other languages, and we don't care about the order in which they appear. For this situation, we can use the `$all` operator to match arrays that contain all listed values among other values, in no particular order:"
   ]
  },
  {
   "cell_type": "code",
   "execution_count": null,
   "id": "1796c289",
   "metadata": {},
   "outputs": [],
   "source": [
    "list(\n",
    "    client[\"sample_mflix\"][\"movies\"].find(\n",
    "        filter={\n",
    "            'languages': {'$all': ['English', 'French']}\n",
    "        },\n",
    "        projection={'_id': 0, 'languages': 1, 'title': 1},\n",
    "        limit=10,\n",
    "    )\n",
    ")"
   ]
  },
  {
   "cell_type": "markdown",
   "id": "2be83985",
   "metadata": {},
   "source": [
    "Note that the `languages` field of all of the above documents contains English and French in no particular, in addition to other languages that might happen to exist in the same array.\n",
    "\n",
    "### `$elemMatch` (OPTIONAL)\n",
    "\n",
    "We can best see the use case of this operator with an example. Consider these documents in the `students` collection of the `mds` database:"
   ]
  },
  {
   "cell_type": "code",
   "execution_count": null,
   "id": "d2e98dc8",
   "metadata": {},
   "outputs": [],
   "source": [
    "client['mds']['students'].drop()"
   ]
  },
  {
   "cell_type": "code",
   "execution_count": null,
   "id": "7c68fd39",
   "metadata": {},
   "outputs": [],
   "source": [
    "if client['mds']['students'].count_documents({}) == 0:\n",
    "    \n",
    "    client['mds']['students'].insert_many([\n",
    "        {\n",
    "            'name': 'Quan',\n",
    "            'grades': [79, 87, 97]\n",
    "        },\n",
    "        {\n",
    "            'name': 'Varada',\n",
    "            'grades': [75, 82, 90]\n",
    "        },\n",
    "        {\n",
    "            'name': 'Florencia',\n",
    "            'grades': [92, 93, 77]\n",
    "        }\n",
    "    ])"
   ]
  },
  {
   "cell_type": "markdown",
   "id": "77407c2c",
   "metadata": {},
   "source": [
    "Suppose that we want to retrieve the document for students who have a grade in the 80—85 range. In our collection, only the student named Varada has a grade in that range (i.e. 82). Let's see if this query works:"
   ]
  },
  {
   "cell_type": "code",
   "execution_count": null,
   "id": "5d101198",
   "metadata": {},
   "outputs": [],
   "source": [
    "list(\n",
    "    client['mds']['students'].find(\n",
    "        filter={'grades': {'$gte': 80, '$lte': 85}}\n",
    "    )\n",
    ")"
   ]
  },
  {
   "cell_type": "markdown",
   "id": "4f003878",
   "metadata": {},
   "source": [
    "Oops, it returned all documents!\n",
    "\n",
    "The reason is that when multiple conditions are defined on an array, MongoDB checks the array on its entirety. If there is at least one match for each condition in the whole array, then that document will be returned. In order to force MongoDB to check the conditions on **each** individual element, we need to use `$elemMatch`:"
   ]
  },
  {
   "cell_type": "code",
   "execution_count": null,
   "id": "6aaba992",
   "metadata": {},
   "outputs": [],
   "source": [
    "list(\n",
    "    client['mds']['students'].find(\n",
    "        filter={'grades': {'$elemMatch': {'$gte': 80, '$lte': 85}}}\n",
    "    )\n",
    ")"
   ]
  },
  {
   "cell_type": "markdown",
   "id": "af84b1b7",
   "metadata": {},
   "source": [
    "### Arrays of sub-documents\n",
    "\n",
    "Querying sub-documents nested inside an array works a lot like querying arrays with simple elements. Let's take a look at the `instructors` collection of the `mds` database we created earlier:"
   ]
  },
  {
   "cell_type": "code",
   "execution_count": null,
   "id": "c9cbf72d",
   "metadata": {},
   "outputs": [],
   "source": [
    "list(\n",
    "    client['mds']['instructors'].find({})\n",
    ")"
   ]
  },
  {
   "cell_type": "markdown",
   "id": "96cb357a",
   "metadata": {},
   "source": [
    "If we want to find instructor(s) who teach DSCI 512, we may try the following query:"
   ]
  },
  {
   "cell_type": "code",
   "execution_count": null,
   "id": "eda6c321",
   "metadata": {},
   "outputs": [],
   "source": [
    "list(\n",
    "    client['mds']['instructors'].find(\n",
    "        filter={'courses': {'code': 512}}\n",
    "    )\n",
    ")"
   ]
  },
  {
   "cell_type": "markdown",
   "id": "a5a02531",
   "metadata": {},
   "source": [
    "But it doesn't work because just like arrays, a condition like `{'code': 512}` has to match an entire sub-document:"
   ]
  },
  {
   "cell_type": "code",
   "execution_count": null,
   "id": "31eb7d1f",
   "metadata": {},
   "outputs": [],
   "source": [
    "list(\n",
    "    client['mds']['instructors'].find(\n",
    "        filter={'courses': {'name': 'Algorithms & Data Structures', 'code': 512}}\n",
    "    )\n",
    ")"
   ]
  },
  {
   "cell_type": "markdown",
   "id": "aa747ca9",
   "metadata": {},
   "source": [
    "The easier way is to use the dot notation for reaching into the sub-documents in the array and place a condition on a particular sub-field"
   ]
  },
  {
   "cell_type": "code",
   "execution_count": null,
   "id": "f1295656",
   "metadata": {},
   "outputs": [],
   "source": [
    "list(\n",
    "    client['mds']['instructors'].find(\n",
    "        filter={'courses.code': 512}\n",
    "    )\n",
    ")"
   ]
  },
  {
   "cell_type": "markdown",
   "id": "e6b03172-ebce-4d11-8208-b4c2667d3562",
   "metadata": {},
   "source": [
    "## Can you?\n",
    "\n",
    "- Use MQL to intereact with MongoDB ?\n",
    "\n",
    "## Class activity\n",
    "\n",
    "```{note}\n",
    "Check worksheet 9 in canvas for detailed instructions on activity and submission instructions.\n",
    "```\n",
    "\n",
    "- Practice MQL."
   ]
  }
 ],
 "metadata": {
  "kernelspec": {
   "display_name": "Python 3.10.4 64-bit",
   "language": "python",
   "name": "python3"
  },
  "language_info": {
   "codemirror_mode": {
    "name": "ipython",
    "version": 3
   },
   "file_extension": ".py",
   "mimetype": "text/x-python",
   "name": "python",
   "nbconvert_exporter": "python",
   "pygments_lexer": "ipython3",
   "version": "3.10.4"
  },
  "vscode": {
   "interpreter": {
    "hash": "aee8b7b246df8f9039afb4144a1f6fd8d2ca17a180786b69acc140d282b71a49"
   }
  }
 },
 "nbformat": 4,
 "nbformat_minor": 5
}
