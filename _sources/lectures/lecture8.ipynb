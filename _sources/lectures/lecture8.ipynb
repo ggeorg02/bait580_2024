{
 "cells": [
  {
   "cell_type": "markdown",
   "id": "25876524",
   "metadata": {},
   "source": [
    "# Lecture 8: MQL 1\n",
    "\n",
    "Gittu George, Feb 01, 2024\n",
    "\n",
    "_Attribution: This notebook is developed using materials from DSCI 513 by Arman._"
   ]
  },
  {
   "cell_type": "markdown",
   "id": "8c0f7254",
   "metadata": {},
   "source": [
    "## Announcements\n",
    "- 2 more weeks before the final exam.\n",
    "    - No worksheet 10, During that time we will have open OHs - clarify questions before the final exam.\n",
    "- Piazza Communication on Exam Days: \n",
    "    - To encourage appropriate study habits, we will stop holding office hours / answering questions on the discussion 1 day before an exam (ie there won't be office hours/answering questions on Tuesday Feb 13, but piazza board is open if students want to help each other ).\n",
    "- Exam preparation ***Special Office Hours***\n",
    "    - Kate: 9 -10 AM\n",
    "    - Daniel: 12 - 1 PM\n",
    "    - Ngoc: 4 - 5 PM\n",
    "    - Jordan: 9 - 10 PM\n",
    "    - Zoom link: [https://ubc.zoom.us/j/67444402927?pwd=RXEyN1RNUGh0cXVUMVRaM2NEaVVLdz09](https://ubc.zoom.us/j/67444402927?pwd=RXEyN1RNUGh0cXVUMVRaM2NEaVVLdz09)\n",
    "- Be careful with the use of tools like ChatGPT.\n",
    "\n",
    "## Agenda\n",
    "- Introduction to NoSQL document database (MongoDB)\n",
    "- Basic queries in MongoDB\n",
    "- Class activity time.\n",
    "\n",
    "## Objectives\n",
    "\n",
    "- Setting up mongoDB instance in cloud\n",
    "- Write basic MQL"
   ]
  },
  {
   "cell_type": "markdown",
   "id": "6f6def0b-8f07-4e8b-8d38-c4e837cd2d9e",
   "metadata": {},
   "source": [
    "### MongoDB interfaces\n",
    "\n",
    "#### MongoDB shell (`mongosh`)\n",
    "\n",
    "This is command line interface for interacting with a MongoDB database, similar to `psql` that we've used for Postgres. `mongosh` is based on the JavaScript language. We will not use `mongosh` much in this course.\n",
    "\n",
    "#### MongoDB Compass\n",
    "Compass is a versatile graphical user interface for using MongoDB databases. This is a similar application to pgAdmin that we've used for Postgres.\n",
    "\n",
    "#### MongoDB's Python driver (`pymongo`)\n",
    "And finally, `pymongo` is the official Python driver for MongoDB. If your using the course `conda` environment, this package is installed and ready to use in Jupyter Lab. You can take a look at `pymongo`s documentation [here](https://pymongo.readthedocs.io/en/stable/tutorial.html)."
   ]
  },
  {
   "cell_type": "code",
   "execution_count": 28,
   "id": "22ab8a76-32a9-47e6-90c2-532bb6b9259f",
   "metadata": {},
   "outputs": [],
   "source": [
    "from pymongo import MongoClient\n",
    "import json\n",
    "import urllib.parse\n",
    "\n",
    "with open('credentials_mongodb.json') as f:\n",
    "    login = json.load(f)\n",
    "\n",
    "username = login['username']\n",
    "password = urllib.parse.quote(login['password'])\n",
    "host = login['host']\n",
    "url = \"mongodb+srv://{}:{}@{}/?retryWrites=true&w=majority\".format(username, password, host)"
   ]
  },
  {
   "cell_type": "code",
   "execution_count": 29,
   "id": "5657f03d-c7c8-4b70-98f4-c116dd2113bf",
   "metadata": {},
   "outputs": [],
   "source": [
    "client = MongoClient(url)"
   ]
  },
  {
   "cell_type": "code",
   "execution_count": 30,
   "id": "840399f6-83f0-42fc-b928-831f94bba2a1",
   "metadata": {},
   "outputs": [
    {
     "data": {
      "text/plain": [
       "['mds',\n",
       " 'sample_airbnb',\n",
       " 'sample_analytics',\n",
       " 'sample_geospatial',\n",
       " 'sample_guides',\n",
       " 'sample_mflix',\n",
       " 'sample_restaurants',\n",
       " 'sample_supplies',\n",
       " 'sample_training',\n",
       " 'sample_weatherdata',\n",
       " 'admin',\n",
       " 'local']"
      ]
     },
     "execution_count": 30,
     "metadata": {},
     "output_type": "execute_result"
    }
   ],
   "source": [
    "client.list_database_names()"
   ]
  },
  {
   "cell_type": "markdown",
   "id": "928ad0ee",
   "metadata": {},
   "source": [
    "## MongoDB query language (MQL)\n",
    "\n",
    "<img src=\"img/nosql.png\" width=\"400\">\n",
    "\n",
    "([image source](https://dataedo.com/cartoon/it-is-nosql))\n",
    "\n",
    "```{admonition} See also ...\n",
    "SQL to MongoDB mapping chart: https://docs.mongodb.com/manual/reference/sql-comparison/\n",
    "```\n",
    "\n",
    "As mentioned earlier, there is no standard query language among NoSQL DBMSs. This is because each NoSQL DBMS supports a different data model and obviously no one language can suit all data models.\n",
    "\n",
    "MongoDB has its own query language known as MongoDB Query Language or MQL (We already saw CQL for neo4j). I will walk you through the usage of MQL in the remainder of this lecture.\n",
    "\n",
    "### Accessing databases and collections\n",
    "\n",
    "Here is how we can access databases through different interfaces.\n",
    "\n",
    "\n",
    "**`Compass`**:\n",
    "\n",
    "It's just point and click. I'll demo this in class.\n",
    "\n",
    "```{figure} img/explore.png\n",
    "---\n",
    "width: 200px\n",
    "align: center\n",
    "---\n",
    "```\n",
    "\n",
    "```{margin}\n",
    "<img src='img/demos.png'>\n",
    "```\n",
    "\n",
    "**`mongosh`**:\n",
    "```js\n",
    "show dbs\n",
    "use my_db\n",
    "```\n",
    "\n",
    "**`pymongo`**:\n",
    "\n",
    "```\n",
    "my_db = client['my_db']\n",
    "my_db\n",
    "```\n",
    "\n",
    "Running the above cell just gives you some information about our connection to the server. We'll learn how to run queries on this connection in a bit. For now, let's see what databases we have:"
   ]
  },
  {
   "cell_type": "code",
   "execution_count": 31,
   "id": "802f502f",
   "metadata": {},
   "outputs": [
    {
     "data": {
      "text/plain": [
       "['mds',\n",
       " 'sample_airbnb',\n",
       " 'sample_analytics',\n",
       " 'sample_geospatial',\n",
       " 'sample_guides',\n",
       " 'sample_mflix',\n",
       " 'sample_restaurants',\n",
       " 'sample_supplies',\n",
       " 'sample_training',\n",
       " 'sample_weatherdata',\n",
       " 'admin',\n",
       " 'local']"
      ]
     },
     "execution_count": 31,
     "metadata": {},
     "output_type": "execute_result"
    }
   ],
   "source": [
    "client.list_database_names()"
   ]
  },
  {
   "cell_type": "markdown",
   "id": "9b084c2d",
   "metadata": {},
   "source": [
    "To access collections withing each database, use the following syntax:\n",
    "\n",
    "**`mongosh`**:\n",
    "```js\n",
    "db.my_collection.method()\n",
    "```\n",
    "\n",
    "**`pymongo`**:\n",
    "\n",
    "```\n",
    "my_collection = my_db['my_collection']\n",
    "my_collection\n",
    "```\n",
    "\n",
    "Again, some information that we don't need. We will never use the database or collection objects simple like this. For now, let's take a look at the collections inside the `sample_mflix` database:"
   ]
  },
  {
   "cell_type": "code",
   "execution_count": 32,
   "id": "7d18601e",
   "metadata": {},
   "outputs": [
    {
     "data": {
      "text/plain": [
       "['sessions', 'theaters', 'comments', 'users', 'movies', 'embedded_movies']"
      ]
     },
     "execution_count": 32,
     "metadata": {},
     "output_type": "execute_result"
    }
   ],
   "source": [
    "client['sample_mflix'].list_collection_names()"
   ]
  },
  {
   "cell_type": "markdown",
   "id": "7816c68c",
   "metadata": {},
   "source": [
    "Or alternatively:"
   ]
  },
  {
   "cell_type": "code",
   "execution_count": 33,
   "id": "ef7ef4c5",
   "metadata": {},
   "outputs": [
    {
     "data": {
      "text/plain": [
       "['sessions', 'theaters', 'comments', 'users', 'movies', 'embedded_movies']"
      ]
     },
     "execution_count": 33,
     "metadata": {},
     "output_type": "execute_result"
    }
   ],
   "source": [
    "client.sample_mflix.list_collection_names()"
   ]
  },
  {
   "cell_type": "markdown",
   "id": "4f7189bb",
   "metadata": {},
   "source": [
    "A very important thing to know before using MQL is that\n",
    "\n",
    "> **Everything in MongoDB is a JSON-like document**\n",
    "\n",
    "even queries themselves!"
   ]
  },
  {
   "cell_type": "markdown",
   "id": "dc28f418",
   "metadata": {},
   "source": [
    "### `find`\n",
    "\n",
    "The main method used for querying documents is the `.find()` method. Here is an example of a query in MongoDB:\n",
    "\n",
    "**`mongosh`**:\n",
    "\n",
    "```js\n",
    "db.movies.find( {title: 'Titanic'} )\n",
    "```\n",
    "\n",
    "**`pymongo`**:"
   ]
  },
  {
   "cell_type": "code",
   "execution_count": 34,
   "id": "0a5a7bb0",
   "metadata": {},
   "outputs": [
    {
     "data": {
      "text/plain": [
       "<pymongo.cursor.Cursor at 0x114030d50>"
      ]
     },
     "execution_count": 34,
     "metadata": {},
     "output_type": "execute_result"
    }
   ],
   "source": [
    "client['sample_mflix']['movies'].find( filter={'title': 'Titanic'} )"
   ]
  },
  {
   "cell_type": "markdown",
   "id": "c3840a0b",
   "metadata": {},
   "source": [
    "Using `filter=` is optional in the argument list, but if you remember from Python's Zen advice, \"_explicit is better than implicit_\".\n",
    "\n",
    "Well, the above code doesn't do anything because it returns a cursor object which is basically a Python generator. Let's return the first element of this generator:"
   ]
  },
  {
   "cell_type": "code",
   "execution_count": 35,
   "id": "efe6aba8",
   "metadata": {},
   "outputs": [
    {
     "data": {
      "text/plain": [
       "{'_id': ObjectId('573a139af29313caabcefb1d'),\n",
       " 'plot': 'The story of the 1912 sinking of the largest luxury liner ever built, the tragedy that befell over two thousand of the rich and famous as well as of the poor and unknown passengers aboard the doomed ship.',\n",
       " 'genres': ['Action', 'Drama', 'History'],\n",
       " 'runtime': 173,\n",
       " 'cast': ['Peter Gallagher',\n",
       "  'George C. Scott',\n",
       "  'Catherine Zeta-Jones',\n",
       "  'Eva Marie Saint'],\n",
       " 'poster': 'https://m.media-amazon.com/images/M/MV5BYWM0MDE3OWMtMzlhZC00YzMyLThiNjItNzFhNGVhYzQ1YWM5XkEyXkFqcGdeQXVyMTczNjQwOTY@._V1_SY1000_SX677_AL_.jpg',\n",
       " 'title': 'Titanic',\n",
       " 'fullplot': \"The plot focuses on the romances of two couples upon the doomed ship's maiden voyage. Isabella Paradine (Catherine Zeta-Jones) is a wealthy woman mourning the loss of her aunt, who reignites a romance with former flame Wynn Park (Peter Gallagher). Meanwhile, a charming ne'er-do-well named Jamie Perse (Mike Doyle) steals a ticket for the ship, and falls for a sweet innocent Irish girl on board. But their romance is threatened by the villainous Simon Doonan (Tim Curry), who has discovered about the ticket and makes Jamie his unwilling accomplice, as well as having sinister plans for the girl.\",\n",
       " 'languages': ['English'],\n",
       " 'released': datetime.datetime(1996, 11, 17, 0, 0),\n",
       " 'rated': 'PG-13',\n",
       " 'awards': {'wins': 0,\n",
       "  'nominations': 9,\n",
       "  'text': 'Won 1 Primetime Emmy. Another 8 nominations.'},\n",
       " 'lastupdated': '2015-08-30 00:47:02.163000000',\n",
       " 'year': 1996,\n",
       " 'imdb': {'rating': 5.9, 'votes': 3435, 'id': 115392},\n",
       " 'countries': ['Canada', 'USA'],\n",
       " 'type': 'series',\n",
       " 'tomatoes': {'viewer': {'rating': 3.8, 'numReviews': 30909, 'meter': 71},\n",
       "  'dvd': datetime.datetime(1999, 9, 7, 0, 0),\n",
       "  'production': 'Hallmark Entertainment',\n",
       "  'lastUpdated': datetime.datetime(2015, 8, 15, 18, 12, 51)},\n",
       " 'num_mflix_comments': 0}"
      ]
     },
     "execution_count": 35,
     "metadata": {},
     "output_type": "execute_result"
    }
   ],
   "source": [
    "next(client['sample_mflix']['movies'].find( {'title': 'Titanic'} ))"
   ]
  },
  {
   "cell_type": "markdown",
   "id": "ea7fee00",
   "metadata": {},
   "source": [
    "Or we can pass it to `list()` to materialize the generator entirely:"
   ]
  },
  {
   "cell_type": "code",
   "execution_count": 36,
   "id": "382debe4",
   "metadata": {},
   "outputs": [
    {
     "data": {
      "text/plain": [
       "[{'_id': ObjectId('573a139af29313caabcefb1d'),\n",
       "  'plot': 'The story of the 1912 sinking of the largest luxury liner ever built, the tragedy that befell over two thousand of the rich and famous as well as of the poor and unknown passengers aboard the doomed ship.',\n",
       "  'genres': ['Action', 'Drama', 'History'],\n",
       "  'runtime': 173,\n",
       "  'cast': ['Peter Gallagher',\n",
       "   'George C. Scott',\n",
       "   'Catherine Zeta-Jones',\n",
       "   'Eva Marie Saint'],\n",
       "  'poster': 'https://m.media-amazon.com/images/M/MV5BYWM0MDE3OWMtMzlhZC00YzMyLThiNjItNzFhNGVhYzQ1YWM5XkEyXkFqcGdeQXVyMTczNjQwOTY@._V1_SY1000_SX677_AL_.jpg',\n",
       "  'title': 'Titanic',\n",
       "  'fullplot': \"The plot focuses on the romances of two couples upon the doomed ship's maiden voyage. Isabella Paradine (Catherine Zeta-Jones) is a wealthy woman mourning the loss of her aunt, who reignites a romance with former flame Wynn Park (Peter Gallagher). Meanwhile, a charming ne'er-do-well named Jamie Perse (Mike Doyle) steals a ticket for the ship, and falls for a sweet innocent Irish girl on board. But their romance is threatened by the villainous Simon Doonan (Tim Curry), who has discovered about the ticket and makes Jamie his unwilling accomplice, as well as having sinister plans for the girl.\",\n",
       "  'languages': ['English'],\n",
       "  'released': datetime.datetime(1996, 11, 17, 0, 0),\n",
       "  'rated': 'PG-13',\n",
       "  'awards': {'wins': 0,\n",
       "   'nominations': 9,\n",
       "   'text': 'Won 1 Primetime Emmy. Another 8 nominations.'},\n",
       "  'lastupdated': '2015-08-30 00:47:02.163000000',\n",
       "  'year': 1996,\n",
       "  'imdb': {'rating': 5.9, 'votes': 3435, 'id': 115392},\n",
       "  'countries': ['Canada', 'USA'],\n",
       "  'type': 'series',\n",
       "  'tomatoes': {'viewer': {'rating': 3.8, 'numReviews': 30909, 'meter': 71},\n",
       "   'dvd': datetime.datetime(1999, 9, 7, 0, 0),\n",
       "   'production': 'Hallmark Entertainment',\n",
       "   'lastUpdated': datetime.datetime(2015, 8, 15, 18, 12, 51)},\n",
       "  'num_mflix_comments': 0},\n",
       " {'_id': ObjectId('573a139af29313caabcf0d74'),\n",
       "  'fullplot': '84 years later, a 101-year-old woman named Rose DeWitt Bukater tells the story to her granddaughter Lizzy Calvert, Brock Lovett, Lewis Bodine, Bobby Buell and Anatoly Mikailavich on the Keldysh about her life set in April 10th 1912, on a ship called Titanic when young Rose boards the departing ship with the upper-class passengers and her mother, Ruth DeWitt Bukater, and her fiancè, Caledon Hockley. Meanwhile, a drifter and artist named Jack Dawson and his best friend Fabrizio De Rossi win third-class tickets to the ship in a game. And she explains the whole story from departure until the death of Titanic on its first and last voyage April 15th, 1912 at 2:20 in the morning.',\n",
       "  'imdb': {'rating': 7.7, 'votes': 716392, 'id': 120338},\n",
       "  'year': 1997,\n",
       "  'plot': 'A seventeen-year-old aristocrat falls in love with a kind, but poor artist aboard the luxurious, ill-fated R.M.S. Titanic.',\n",
       "  'genres': ['Drama', 'Romance'],\n",
       "  'rated': 'PG-13',\n",
       "  'metacritic': 74,\n",
       "  'title': 'Titanic',\n",
       "  'lastupdated': '2015-09-13 00:41:42.117000000',\n",
       "  'languages': ['English',\n",
       "   'French',\n",
       "   'German',\n",
       "   'Swedish',\n",
       "   'Italian',\n",
       "   'Russian'],\n",
       "  'writers': ['James Cameron'],\n",
       "  'type': 'movie',\n",
       "  'tomatoes': {'website': 'http://www.titanicmovie.com/',\n",
       "   'viewer': {'rating': 3.3, 'numReviews': 35792304, 'meter': 69},\n",
       "   'dvd': datetime.datetime(2012, 9, 10, 0, 0),\n",
       "   'critic': {'rating': 8.0, 'numReviews': 178, 'meter': 88},\n",
       "   'boxOffice': '$57.9M',\n",
       "   'consensus': 'A mostly unqualified triumph for James Cameron, who offers a dizzying blend of spectacular visuals and old-fashioned melodrama.',\n",
       "   'rotten': 21,\n",
       "   'production': 'Paramount Pictures',\n",
       "   'lastUpdated': datetime.datetime(2015, 9, 13, 17, 5, 18),\n",
       "   'fresh': 157},\n",
       "  'poster': 'https://m.media-amazon.com/images/M/MV5BMDdmZGU3NDQtY2E5My00ZTliLWIzOTUtMTY4ZGI1YjdiNjk3XkEyXkFqcGdeQXVyNTA4NzY1MzY@._V1_SY1000_SX677_AL_.jpg',\n",
       "  'num_mflix_comments': 128,\n",
       "  'released': datetime.datetime(1997, 12, 19, 0, 0),\n",
       "  'awards': {'wins': 127,\n",
       "   'nominations': 63,\n",
       "   'text': 'Won 11 Oscars. Another 116 wins & 63 nominations.'},\n",
       "  'countries': ['USA'],\n",
       "  'cast': ['Leonardo DiCaprio', 'Kate Winslet', 'Billy Zane', 'Kathy Bates'],\n",
       "  'directors': ['James Cameron'],\n",
       "  'runtime': 194}]"
      ]
     },
     "execution_count": 36,
     "metadata": {},
     "output_type": "execute_result"
    }
   ],
   "source": [
    "list(\n",
    "    client['sample_mflix']['movies'].find( {'title': 'Titanic'} )\n",
    ")"
   ]
  },
  {
   "cell_type": "code",
   "execution_count": 37,
   "id": "93689b5a",
   "metadata": {},
   "outputs": [],
   "source": [
    "# import pandas as pd \n",
    "# df = pd.DataFrame(x)\n",
    "# df"
   ]
  },
  {
   "cell_type": "markdown",
   "id": "d677fddd",
   "metadata": {},
   "source": [
    "```{note}\n",
    "`.find( filter={} )` or `.find()` returns every document in the collection.\n",
    "```\n",
    "\n",
    "Note that there is another method `.findOne()` in `mongosh` and `.find_one()` in `pymongo`. This method returns only one document regardless of how many there are, according to the order in which documents are stored on the physical disk. It can be "
   ]
  },
  {
   "cell_type": "markdown",
   "id": "26e81b71",
   "metadata": {},
   "source": [
    "### `projection`\n",
    "\n",
    "Remember what projection meant in SQL? Returning a particular set of columns among all that exist in a table was called projection (of the results onto particular columns).\n",
    "\n",
    "Projection has a similar meaning in NoSQL: it means explicitly choosing the fields that we are interested in, instead of all fields that are returned by default. This is done by feeding a list of fields to the `projection=` argument, as well as a truthy of falsy value that indicates whether or not that field should be included."
   ]
  },
  {
   "cell_type": "markdown",
   "id": "3e4fe7c0",
   "metadata": {},
   "source": [
    "For example, here I return the `title` and `year` fields only from the document in the result:\n",
    "\n",
    "**`mongosh`**:\n",
    "```js\n",
    "db.movies.find( {title: 'Titanic'}, {'title': 1, 'year': 1} )\n",
    "```\n",
    "\n",
    "**`pymongo`**:"
   ]
  },
  {
   "cell_type": "code",
   "execution_count": 38,
   "id": "4861f4fa",
   "metadata": {},
   "outputs": [
    {
     "data": {
      "text/plain": [
       "[{'_id': ObjectId('573a139af29313caabcefb1d'),\n",
       "  'title': 'Titanic',\n",
       "  'year': 1996},\n",
       " {'_id': ObjectId('573a139af29313caabcf0d74'),\n",
       "  'year': 1997,\n",
       "  'title': 'Titanic'}]"
      ]
     },
     "execution_count": 38,
     "metadata": {},
     "output_type": "execute_result"
    }
   ],
   "source": [
    "list(\n",
    "    client['sample_mflix']['movies'].find(\n",
    "        filter={'title': 'Titanic'},\n",
    "        projection={'title': 1, 'year': 1}\n",
    "    )\n",
    ")"
   ]
  },
  {
   "cell_type": "markdown",
   "id": "43731d33",
   "metadata": {},
   "source": [
    "```{note}\n",
    "- In `pymongo`, you can use `True` instead of `1` and `False` instead of `0`.\n",
    "\n",
    "- In `pymongo`, we need to enclose all field names in single or double quotes (e.g. `'title'` not `title`), otherwise Python would complain because it doesn't recognize those names. In `mongosh`, this is not necessary.\n",
    "```\n",
    "\n",
    "In the above returned documents, note that the primary key field, namely, the `_id` field is always returned by default unless you explicitly exclude it using `{'_id': 0}` or `{'_id': False}`. **This is the only scenario where we might mix up `1`s and `0`s (or `True`s and `False`s) in the projection field.**"
   ]
  },
  {
   "cell_type": "code",
   "execution_count": 39,
   "id": "9559a7a4",
   "metadata": {},
   "outputs": [
    {
     "data": {
      "text/plain": [
       "[{'title': 'Titanic', 'year': 1996}, {'year': 1997, 'title': 'Titanic'}]"
      ]
     },
     "execution_count": 39,
     "metadata": {},
     "output_type": "execute_result"
    }
   ],
   "source": [
    "list(\n",
    "    client['sample_mflix']['movies'].find(\n",
    "        filter={'title': 'Titanic'},\n",
    "        projection={'_id': 0, 'title': 1, 'year': 1}\n",
    "    )\n",
    ")"
   ]
  },
  {
   "cell_type": "markdown",
   "id": "d3912260",
   "metadata": {},
   "source": [
    "### `sort`\n",
    "\n",
    "**`mongosh`**:\n",
    "```js\n",
    "db.movies.find(<filter>, <projection>).sort( {runtime: 1, year:-1} )\n",
    "```"
   ]
  },
  {
   "cell_type": "markdown",
   "id": "08fea459",
   "metadata": {},
   "source": [
    "**`pymongo`**:"
   ]
  },
  {
   "cell_type": "code",
   "execution_count": 40,
   "id": "9391a023",
   "metadata": {},
   "outputs": [
    {
     "data": {
      "text/plain": [
       "[{'runtime': 173, 'title': 'Titanic', 'year': 1996},\n",
       " {'year': 1997, 'title': 'Titanic', 'runtime': 194}]"
      ]
     },
     "execution_count": 40,
     "metadata": {},
     "output_type": "execute_result"
    }
   ],
   "source": [
    "list(\n",
    "    client['sample_mflix']['movies'].find(\n",
    "        filter={'title': 'Titanic'},\n",
    "        projection={'_id': 0, 'title': 1, 'year': 1, 'runtime': 1},\n",
    "        sort=[('runtime', 1), ('year', -1)]\n",
    "    )\n",
    ")"
   ]
  },
  {
   "cell_type": "markdown",
   "id": "abbdd096",
   "metadata": {},
   "source": [
    "### `limit`\n",
    "\n",
    "**`mongosh`**:\n",
    "```js\n",
    "db.movies.find({}, {title: 1, _id: 0}).limit(5)\n",
    "```"
   ]
  },
  {
   "cell_type": "markdown",
   "id": "8b321778",
   "metadata": {},
   "source": [
    "**`pymongo`**:"
   ]
  },
  {
   "cell_type": "code",
   "execution_count": 41,
   "id": "8eb2d970",
   "metadata": {},
   "outputs": [
    {
     "data": {
      "text/plain": [
       "[{'title': 'The Great Train Robbery'},\n",
       " {'title': 'A Corner in Wheat'},\n",
       " {'title': 'Winsor McCay, the Famous Cartoonist of the N.Y. Herald and His Moving Comics'},\n",
       " {'title': 'Traffic in Souls'},\n",
       " {'title': 'Gertie the Dinosaur'}]"
      ]
     },
     "execution_count": 41,
     "metadata": {},
     "output_type": "execute_result"
    }
   ],
   "source": [
    "list(\n",
    "    client['sample_mflix']['movies'].find(\n",
    "        projection={'title': 1, '_id': 0},\n",
    "        limit=5\n",
    "    )\n",
    ")"
   ]
  },
  {
   "cell_type": "markdown",
   "id": "64681a44",
   "metadata": {},
   "source": [
    "### `count` and `count_documents`\n",
    "\n",
    "**`mongosh`**:\n",
    "```js\n",
    "db.movies.find({year:2000}).count()\n",
    "db.movies.countDocuments()\n",
    "```\n",
    "\n",
    "**`pymongo`**:"
   ]
  },
  {
   "cell_type": "code",
   "execution_count": 42,
   "id": "697bea98",
   "metadata": {},
   "outputs": [
    {
     "data": {
      "text/plain": [
       "581"
      ]
     },
     "execution_count": 42,
     "metadata": {},
     "output_type": "execute_result"
    }
   ],
   "source": [
    "client['sample_mflix']['movies'].count_documents(filter={'year': 2000})"
   ]
  },
  {
   "cell_type": "markdown",
   "id": "cb307043",
   "metadata": {},
   "source": [
    "### `skip`\n",
    "\n",
    "**`mongosh`**:\n",
    "```js\n",
    "db.movies.find( filter={title: 'Titanic'}, projection={'title': 1, 'year': 1} ).skip(2)\n",
    "```\n",
    "\n",
    "**`pymongo`**:"
   ]
  },
  {
   "cell_type": "code",
   "execution_count": 43,
   "id": "e57536ee",
   "metadata": {},
   "outputs": [
    {
     "data": {
      "text/plain": [
       "[]"
      ]
     },
     "execution_count": 43,
     "metadata": {},
     "output_type": "execute_result"
    }
   ],
   "source": [
    "list(\n",
    "    client['sample_mflix']['movies'].find(\n",
    "        filter={'title': 'Titanic'},\n",
    "        projection={'title': 1, 'year': 1},\n",
    "        skip=2\n",
    "    )\n",
    ")"
   ]
  },
  {
   "cell_type": "markdown",
   "id": "3a284744",
   "metadata": {},
   "source": [
    "### `distinct`\n",
    "\n",
    "**`mongosh`**:\n",
    "```js\n",
    "db.movies.distinct( 'title', {title: 'Titanic'} )\n",
    "```\n",
    "\n",
    "**`pymongo`**:"
   ]
  },
  {
   "cell_type": "code",
   "execution_count": 44,
   "id": "1287e81d",
   "metadata": {},
   "outputs": [
    {
     "data": {
      "text/plain": [
       "['Titanic']"
      ]
     },
     "execution_count": 44,
     "metadata": {},
     "output_type": "execute_result"
    }
   ],
   "source": [
    "list(\n",
    "    client['sample_mflix']['movies'].find(\n",
    "        filter={'title': 'Titanic'},\n",
    "    ).distinct('title')\n",
    ")"
   ]
  },
  {
   "cell_type": "markdown",
   "id": "6c2a403b",
   "metadata": {},
   "source": [
    "The `distinct` method here only returns unique **values**, not entire documents."
   ]
  },
  {
   "cell_type": "markdown",
   "id": "5f9282aa-2366-4dcf-a347-ff8d6b66de5f",
   "metadata": {},
   "source": [
    "## Can you?\n",
    "\n",
    "- list down the benefits of having a document database \n",
    "- Set up MongoDB cloud instance?\n",
    "- Various ways to interact with MongoDB\n",
    "- Do basic MQL query\n",
    "\n",
    "## Class activity\n",
    "\n",
    "```{note}\n",
    "Check worksheet 8 in canvas for detailed instructions on activity and submission instructions.\n",
    "```\n",
    "- Set up MongoDB in the cloud.\n",
    "- Practice MQL."
   ]
  }
 ],
 "metadata": {
  "kernelspec": {
   "display_name": "Python 3.11.0 ('bait580env')",
   "language": "python",
   "name": "python3"
  },
  "language_info": {
   "codemirror_mode": {
    "name": "ipython",
    "version": 3
   },
   "file_extension": ".py",
   "mimetype": "text/x-python",
   "name": "python",
   "nbconvert_exporter": "python",
   "pygments_lexer": "ipython3",
   "version": "3.11.0"
  },
  "vscode": {
   "interpreter": {
    "hash": "ca7260ae022c71fb383831b2a1198c53a34e1b3f9d08b9677b0a2c2210849264"
   }
  }
 },
 "nbformat": 4,
 "nbformat_minor": 5
}
