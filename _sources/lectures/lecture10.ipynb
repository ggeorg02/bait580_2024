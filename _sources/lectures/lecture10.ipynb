{
 "cells": [
  {
   "cell_type": "markdown",
   "id": "35f359f6-6f6b-4ca1-9987-daa6fa757c84",
   "metadata": {},
   "source": [
    "# Lecture 10:"
   ]
  },
  {
   "cell_type": "markdown",
   "id": "97390a84",
   "metadata": {},
   "source": [
    "Link to lecture pdf: [https://canvas.ubc.ca/courses/129205/files?preview=31481661](https://canvas.ubc.ca/courses/129205/files?preview=31481661)"
   ]
  },
  {
   "cell_type": "markdown",
   "id": "a1b40aea",
   "metadata": {},
   "source": []
  }
 ],
 "metadata": {
  "kernelspec": {
   "display_name": "Python 3",
   "language": "python",
   "name": "python3"
  },
  "language_info": {
   "codemirror_mode": {
    "name": "ipython",
    "version": 3
   },
   "file_extension": ".py",
   "mimetype": "text/x-python",
   "name": "python",
   "nbconvert_exporter": "python",
   "pygments_lexer": "ipython3",
   "version": "3.10.4"
  }
 },
 "nbformat": 4,
 "nbformat_minor": 5
}
