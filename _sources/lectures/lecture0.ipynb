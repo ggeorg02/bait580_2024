{
 "cells": [
  {
   "cell_type": "markdown",
   "id": "2c7298d3",
   "metadata": {},
   "source": [
    "# Lecture 0: Course Introduction\n",
    "Gittu George, January 9 2024"
   ]
  },
  {
   "cell_type": "markdown",
   "id": "64b43b00",
   "metadata": {},
   "source": [
    "## Teaching squad\n",
    "### Instructor\n",
    "![](img/l1.png)\n",
    "- I am Gittu George, Ph.D\n",
    "- I am a Postdoctoral Fellow.\n",
    "- Email Me: ggeorg02@cs.ubc.ca\n",
    "- Office Hours: Tue 2 -3 pm\n",
    "- Research interests are at the intersection of computer science and genomics.\n",
    "- I primarily teach school of Computer Science and Master of Data Science students.\n",
    "- I re-developed this course based on the syllabus from Winter 2020."
   ]
  },
  {
   "cell_type": "markdown",
   "id": "d2905962",
   "metadata": {},
   "source": [
    "## Todays Agenda\n",
    "- Course Overview\n",
    "- Data management in a big data environment\n",
    "    - What is big data?\n",
    "    - Which tool to use?\n",
    "    - How big is big data?\n",
    "- Introduction to cloud computing"
   ]
  },
  {
   "cell_type": "markdown",
   "id": "9ed2fbcb",
   "metadata": {},
   "source": [
    "## Course Overview\n",
    "\n",
    "### My Goals for the Course\n",
    "- To think critically about databases as part of an analytic workflow\n",
    "- Learn how to design, use and understand the inner working of the SQL based databases\n",
    "- Taking you from level zero to intermediate with the NoSQL databases (document and graph-based databases)\n",
    "- To work with the data to find the tools best suited to answering the questions you pose\n",
    "\n",
    "### What this course is not about\n",
    "- SQL or python programming \n",
    "- Cloud computing\n",
    "\n",
    "### Course plan\n",
    "\n",
    "| Date        | Topic                                         | Assessments due                                              |\n",
    "|-------------|-----------------------------------------------|--------------------------------------------------------------|\n",
    "| January 9   | Introduction to Big Data & cloud computing            |                                                              |\n",
    "| January 11   | Introduction to RDS and interaction with AWS             |                                                              |\n",
    "| January 16  | Faster SQL (Indexing)      |   |\n",
    "| January 18  | (de)Normalization & Data Warehousing  |  |\n",
    "| January 23  | Introduction to NoSQL and Graph Databases                 | |\n",
    "| January 25  | Querying Graph Databases (Part 1)            |         |\n",
    "| January 30  | Querying Graph Databases (Part 2)  |             |\n",
    "| February 1  | Document Databases Intro  |      |\n",
    "| February 6  | Querying Document Databases               |       |\n",
    "| February 8  |     Class Conclusions/ Special Topics       |       |                  \n",
    "### Course Model\n",
    "\n",
    "<img src='img/l2.png'  width = \"65%\"/>\n",
    "\n",
    "```{sidebar} Toolsets we will be using\n",
    "- Data - JSON, CSV\n",
    "- Cloud Vendor - AWS\n",
    "- RDBMS - PostgreSQL , Neo4j, MongoDB\n",
    "- Analysis - Python & Jupyter\n",
    "\n",
    "```\n",
    "\n",
    "### Individual Assignments (50 %)\n",
    "\n",
    "#### Assignment 1 (16 %)\n",
    "\n",
    "```{sidebar} Let's checkout some tweets!!\n",
    "```{figure} img/l3.png\n",
    "---\n",
    "alt: ec2-1\n",
    "width: 400px\n",
    "align: center\n",
    "---\n",
    "```\n",
    "\n",
    "Introduce you to AWS, working with Postgres in a Jupyter notebook.\n",
    "- Think about data in the context of a research problem.\n",
    "- Setup your AWS account.\n",
    "- Launch your database in AWS.\n",
    "- Use of Database dumps to setup your database.\n",
    "- Apply knowledge in indexing and warehousing to efficiently answer your questions in SQL.\n",
    "\n",
    "#### Assignment 2 (17 %)\n",
    "\n",
    "- An introduction to graph databases using the initial Twitter data.\n",
    "- Using the graph to answer questions about networks of interaction.\n",
    "- Producing interactive plots to represent knowledge.\n",
    "- Practice on CQL.\n",
    "\n",
    "#### Assignment 3 (17 %)\n",
    "\n",
    "- An introduction to Document databases.\n",
    "- Practice on MQL.\n",
    "\n",
    "\n",
    "### Worksheets (10 %)\n",
    "\n",
    "- Every lecture will have a worksheet (in addition to the assignments) that will help you to prepare for your assignments and practice what you learned in class.\n",
    "\n",
    "## Conclusion\n",
    "\n",
    "- Ask yourself If you are comfortable with the course logistics.\n",
    "- Join piazza if you haven't done so. Link from Canvas or from announcements. If you have questions related to the Lecture, logistics, and assignments are expected to be asked in the piazza. Make sure you attach the labels correctly so that we can distinguish questions.\n",
    "- If there is anything else, please feel free to reach out to me at ggeorg02@cs.ubc.ca\n",
    "- I will be releasing lecture notes before Monday morining so that you can look into those before coming to class.\n",
    "- Check for the deadlines in canvas.\n",
    "- Join iclicker cloud.\n",
    "- Make sure you did necessary installations\n",
    "\n",
    "```{figure} img/ready.png\n",
    "---\n",
    "width: 250px\n",
    "align: center\n",
    "---\n",
    "```\n"
   ]
  }
 ],
 "metadata": {
  "kernelspec": {
   "display_name": "Python 3.10.4 64-bit",
   "language": "python",
   "name": "python3"
  },
  "language_info": {
   "codemirror_mode": {
    "name": "ipython",
    "version": 3
   },
   "file_extension": ".py",
   "mimetype": "text/x-python",
   "name": "python",
   "nbconvert_exporter": "python",
   "pygments_lexer": "ipython3",
   "version": "3.10.4"
  },
  "vscode": {
   "interpreter": {
    "hash": "aee8b7b246df8f9039afb4144a1f6fd8d2ca17a180786b69acc140d282b71a49"
   }
  }
 },
 "nbformat": 4,
 "nbformat_minor": 5
}
