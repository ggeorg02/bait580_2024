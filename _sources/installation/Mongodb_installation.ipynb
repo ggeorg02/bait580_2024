{
 "cells": [
  {
   "cell_type": "markdown",
   "metadata": {},
   "source": [
    "# MongoDB installation\n",
    "\n",
    "```{note}\n",
    "For assignment 3 and learn MongoDB.\n",
    "```\n",
    "\n",
    "The good news is that you don't have to install anything on your computer. We will be using MongoDB Atlas, which is a cloud-based database service. You can create a free account and use it for the class.\n",
    "\n",
    "Probably one of the motivations why cloud computing is so popular is that there won't be any installation pains. You no longer want to deal with any issues that can arise that are more specific to your own computer or wrong setup. \n",
    "\n",
    "Let's get to the installation."
   ]
  },
  {
   "cell_type": "markdown",
   "metadata": {},
   "source": [
    "## Installation videos\n",
    "\n",
    "If you are a person who can sometimes go wrong with the installation because you are very new to the IT world and software installations, then watching the following videos in order is the best option, as you can go with me step by step and do the installation. \n",
    "\n",
    "```{margin}\n",
    "<img src=\"img/checkthis.png\" width='90%'>\n",
    "```\n",
    "\n",
    "### MongoDB Atlas account creation\n",
    "\n",
    "\n",
    "```{admonition} <img src=\"img/videoicon.png\" width='5%'>\n",
    "\n",
    "[This video](https://youtu.be/zSA9brtCmm0) is in me showing you how to setup MongoDB atlas. In this video, you will be getting information on the following things.\n",
    "\n",
    "- Just me talking - not sure why it took 2 minutes (00:00 - 01:50)\n",
    "- Creating an account in MongoDB Atlas (01:50 - 05:45)\n",
    "- Creating a cluster/Deploying a database (05:45 - 08:50)\n",
    "- Setting up username and password (08:50 - 10:35)\n",
    "- Whitelisting IP address (10:35 - 12:50)\n",
    "- Final look at the cluster and see what all we want to connect to (12:50 - 15:15)\n",
    "- The information you want to connect from your jupyter notebook (15:15 - end)\n",
    "    - We want to connect from 2 sources: one uses jupyter notebook, and the other uses MongoDB Compass. Details on it in the next 2 videos.\n",
    "```\n",
    "\n",
    "### Connecting to MongoDB Atlas from jupyter notebook\n",
    "\n",
    "```{admonition} <img src=\"img/videoicon.png\" width='5%'>\n",
    "[This video](https://youtu.be/_Ci2Jj8Sqhk) show you how to connect to MongDB atlas from jupyter notebook. In this video, you will be getting information on the following things.\n",
    "\n",
    "Passcode: \n",
    "- small intro with cluster, saying we need to connect via jupyter notebook and MongoDB Compass (00:00 - 01:00)\n",
    "- ***Loading the sample data: You are going to use this data for lectures and lab*** (01:00 - 02:50)\n",
    "- Just exploring the data we loaded and making sure it is there (02:50 - 04:00)\n",
    "- Collecting information you want to the mongoDB from jupyter notebook - like the hostname, the username (04:00 - 05:45)\n",
    "- Connecting to the database from jupyter notebook/ setting up credentials_mongodb.json file (05:45 - 07:50)\n",
    "- Just running my notebook to show you that it is working (07:50 - end)\n",
    "```\n",
    "\n",
    "### Connecting to MongoDB Atlas from Compass\n",
    "\n",
    "```{admonition} <img src=\"img/videoicon.png\" width='5%'>\n",
    "[This video](https://youtu.be/fKGNxi30UMs) is showing GUI interface for interacting with MongoDB (MongoDB compass). In this video, you will be getting information on the following things.\n",
    "\n",
    "- Opening MongoDB Compass (00:00 - 01:45)\n",
    "- Collecting information you want from MongoDB atlas (the connection URL) to connect from compass (01:45 - 02:45)\n",
    "- Quick exploration of the GUI (02:45 - end)\n",
    "    - seeing databases \n",
    "    - seeing collections (helpful for lab)\n",
    "    - seeing documents\n",
    "    - exploring schema (helpful for lab)\n",
    "    - analyzing schema (helpful for lab)\n",
    "```\n",
    "\n",
    "```{note}\n",
    "*** You can skip following sections if you watched above videos******* Or, if you are a person who is very comfortable with installations, then you can just go through the written instructions in the following sections.\n",
    "\n",
    "- [MongoDB Atlas account creation](atlas) - you can skip this if you watched video \n",
    "- [Connecting to MongoDB Atlas from jupyter notebook](jupy) - you can skip this if you watched video \n",
    "- [Connecting to MongoDB Atlas from Compass](compass) - you can skip this if you watched video \n",
    "- [FAQs and troubleshooting](faqs)\n",
    "```"
   ]
  },
  {
   "cell_type": "markdown",
   "metadata": {},
   "source": [
    "(atlas)=\n",
    "## MongoDB atlas account creation\n",
    "\n",
    "You must first set up an account in [mongoDB atlas](https://www.mongodb.com/cloud/atlas/register). MongoDB Atlas is a cloud service that MongoDB provides.\n",
    "\n",
    "![](img/verifyemailmongo.png)\n",
    "\n",
    "After you verify your email address, you will see a screen like the one below. Here are my options, but you can select whatever you want.\n",
    "\n",
    "![](img/welcomeatlas.png)\n",
    "\n",
    "Next, it takes me to a screen to create a cluster. \n",
    "\n",
    "![](img/deployatlas.png)\n",
    "\n",
    "Going with all the default options will be fine, and click on Create Cluster.\n",
    "\n",
    "![](img/providerdefault.png)\n",
    "\n",
    "If you click on advanced options (you don't want to), you will see more options like below. I am going with the default options here as well.\n",
    "\n",
    "![](img/ificlickadvanced.png)\n",
    "\n",
    "![](img/advanced3.png%0D) \n",
    "\n",
    "![](img/advanced2.png%0D) \n",
    "\n",
    "![](img/advanced.png) \n",
    "\n",
    "### Setting up username and password\n",
    "\n",
    "After you click on Create Cluster, it will take you to a screen like the one below. It will take some time to create the cluster. In the below screen, you want to set up your username and password. \n",
    "\n",
    "```{important}\n",
    "Don't forget your username and password. You will need it to connect to the database.\n",
    "```\n",
    "\n",
    "### Whitelisting IP address\n",
    "\n",
    "Now, you need to add the IP addresses from which your database has access. Here, you will be given access to your laptop's IP address. Depending on the router, the IP might change, so if you want to make sure that it always accepts connections, you can add 0.0.0.0/0 to the IP, and it will accept connections from any IP address (This is not a good practice, but for now we will do it.). \n",
    "\n",
    "> NOTE: I am also showing you how to add an IP address in the video.\n",
    "\n",
    "![](img/ipaddress.png)\n",
    "\n",
    "### Loading the sample data\n",
    "\n",
    "Click on load sample data.\n",
    "\n",
    "![](img/loadsample.png) \n",
    "\n",
    "It will show the following popup, and you can click on load sample data.\n",
    "\n",
    "![](img/loadsample2.png) \n",
    "\n",
    "It will take some time to load the data. You can see the progress on the following screen.\n",
    "\n",
    "![](img/loadsampelwait.png) \n",
    "\n",
    "After it is done, you will see a screen like below.\n",
    "\n",
    "![](img/finallyloaded.png) \n",
    "\n",
    "(compass)=\n",
    "## Connecting to MongoDB from compass\n",
    "\n",
    "Click on the connect button on the cluster you created. Then select connect with MongoDB Compass.\n",
    "\n",
    "![](img/compass.png)\n",
    "\n",
    "You will see all the instructions for connecting to the database. This includes downloading the compass application based on the OS and then using the connection string to connect to the database.\n",
    "\n",
    "![](img/compassconnection.png)\n",
    "\n",
    "After opening the app, \n",
    "\n",
    "Welcome screen after installation;\n",
    "\n",
    "![](img/welcomecompass.png)\n",
    "\n",
    "Connect to the database you set up in the cloud; paste the connection string here by updating the password, and it is ready to go.\n",
    "\n",
    "![](img/connectcompass.png)\n",
    "\n",
    "You can save the connection for future use;\n",
    "\n",
    "![](img/savingcompass.png)\n",
    "\n",
    "It might take some time to complete the connection;\n",
    "\n",
    "![](img/connectingcompass.png)\n",
    "\n",
    "Once the connection is complete, you will be taken to this screen. You can see all the databases there. All these are dummy databases, and we will be using them for the class demo and assignments.\n",
    "\n",
    "![](img/incompass.png)\n",
    "\n",
    "Exploring the schema of the database;\n",
    "\n",
    "![](img/exploreschema.png)"
   ]
  },
  {
   "cell_type": "markdown",
   "metadata": {},
   "source": [
    "(jupy)=\n",
    "## Connecting to MongoDB from your notebook\n",
    "\n",
    "Now, we are done with all the deployments. It is time to connect to it. We are connecting it from jupyter notebook."
   ]
  },
  {
   "cell_type": "markdown",
   "metadata": {},
   "source": [
    "Add a credentials_mongodb.json file to your directory with the following information. \n",
    "\n",
    "```json\n",
    "{\n",
    "  \"host\": \"<your_host>\",\n",
    "  \"port\": 27017,\n",
    "  \"username\": \"<your_username>\",\n",
    "  \"password\": \"<your_password>\"\n",
    "}\n",
    "```\n",
    "\n",
    "Then, call the file in your notebook as follows. Please make sure you are using the course environment to run this notebook."
   ]
  },
  {
   "cell_type": "code",
   "execution_count": 1,
   "metadata": {},
   "outputs": [],
   "source": [
    "from pymongo import MongoClient\n",
    "import json\n",
    "import urllib.parse\n",
    "\n",
    "with open('credentials_mongodb.json') as f:\n",
    "    login = json.load(f)\n",
    "\n",
    "username = login['username']\n",
    "password = urllib.parse.quote(login['password'])\n",
    "host = login['host']\n",
    "url = \"mongodb+srv://{}:{}@{}/?retryWrites=true&w=majority\".format(username, password, host)"
   ]
  },
  {
   "cell_type": "code",
   "execution_count": 2,
   "metadata": {},
   "outputs": [],
   "source": [
    "client = MongoClient(url)"
   ]
  },
  {
   "cell_type": "markdown",
   "metadata": {},
   "source": [
    "### Accessing databases"
   ]
  },
  {
   "cell_type": "code",
   "execution_count": 4,
   "metadata": {},
   "outputs": [
    {
     "data": {
      "text/plain": [
       "['mds',\n",
       " 'sample_airbnb',\n",
       " 'sample_analytics',\n",
       " 'sample_geospatial',\n",
       " 'sample_guides',\n",
       " 'sample_mflix',\n",
       " 'sample_restaurants',\n",
       " 'sample_supplies',\n",
       " 'sample_training',\n",
       " 'sample_weatherdata',\n",
       " 'admin',\n",
       " 'local']"
      ]
     },
     "execution_count": 4,
     "metadata": {},
     "output_type": "execute_result"
    }
   ],
   "source": [
    "client.list_database_names()"
   ]
  },
  {
   "cell_type": "markdown",
   "metadata": {},
   "source": [
    "### Accessing collections"
   ]
  },
  {
   "cell_type": "code",
   "execution_count": 6,
   "metadata": {},
   "outputs": [
    {
     "data": {
      "text/plain": [
       "['sessions', 'theaters', 'comments', 'users', 'movies', 'embedded_movies']"
      ]
     },
     "execution_count": 6,
     "metadata": {},
     "output_type": "execute_result"
    }
   ],
   "source": [
    "client['sample_mflix'].list_collection_names()"
   ]
  },
  {
   "cell_type": "markdown",
   "metadata": {},
   "source": [
    "```{note}\n",
    "More details when I release lecture notes for lectures 7 and 8.\n",
    "```"
   ]
  },
  {
   "cell_type": "markdown",
   "metadata": {},
   "source": [
    "```{note}\n",
    "- If you want to log back in, you can use this [URL](https://account.mongodb.com/account/login?nds=true&_ga=2.202105682.2105845007.1669939196-1300194044.1669939196)\n",
    "\n",
    "- They will go to an inactive state if you don't use them for some time. You can connect just like how you used to, but it will take some time to boot up.\n",
    "```"
   ]
  },
  {
   "cell_type": "markdown",
   "metadata": {},
   "source": [
    "(faqs)=\n",
    "## FAQs (some common installation issues)\n",
    "\n",
    "## FAQ1: SSL Error\n",
    "***1) In windows machines, if you get a server timeout error like below***\n",
    "\n",
    "```\n",
    "ServerSelectionTimeoutError: ac-6txag5o-shard-00-02.fixvcgm.mongodb.net:27017: [SSL: CERTIFICATE_VERIFY_FAILED] certificate verify failed: certificate has expired (_ssl.c:992),ac-6txag5o-shard-00-00.fixvcgm.mongodb.net:27017: [SSL: CERTIFICATE_VERIFY_FAILED] certificate verify failed: certificate has expired (_ssl.c:992),ac-6txag5o-shard-00-01.fixvcgm.mongodb.net:27017: [SSL: CERTIFICATE_VERIFY_FAILED] certificate verify failed: certificate has expired (_ssl.c:992), Timeout: 30s, Topology Description: <TopologyDescription id: 63d2f9f5ef1f9bd5911a6788, topology_type: ReplicaSetNoPrimary, servers: [<ServerDescription ('ac-6txag5o-shard-00-00.fixvcgm.mongodb.net', 27017) server_type: Unknown, rtt: None, error=AutoReconnect('ac-6txag5o-shard-00-00.fixvcgm.mongodb.net:27017: [SSL: CERTIFICATE_VERIFY_FAILED] certificate verify failed: certificate has expired (_ssl.c:992)')>, <ServerDescription ('ac-6txag5o-shard-00-01.fixvcgm.mongodb.net', 27017) server_type: Unknown, rtt: None, error=AutoReconnect('ac-6txag5o-shard-00-01.fixvcgm.mongodb.net:27017: [SSL: CERTIFICATE_VERIFY_FAILED] certificate verify failed: certificate has expired (_ssl.c:992)')>, <ServerDescription ('ac-6txag5o-shard-00-02.fixvcgm.mongodb.net', 27017) server_type: Unknown, rtt: None, error=AutoReconnect('ac-6txag5o-shard-00-02.fixvcgm.mongodb.net:27017: [SSL: CERTIFICATE_VERIFY_FAILED] certificate verify failed: certificate has expired (_ssl.c:992)')>]>\n",
    "```\n",
    "\n",
    "then you can do the following to resolve the issue.\n",
    "\n",
    "```python\n",
    "import certifi\n",
    "ca = certifi.where()\n",
    "client = MongoClient(url,tlsCAFile=ca)\n",
    "```\n",
    "\n",
    "instead of\n",
    "\n",
    "```python\n",
    "client = MongoClient(url)\n",
    "```\n",
    "\n",
    "```{note}\n",
    "You might need to install following from your jupyter if you get error when trying to import certifi\n",
    "> !pip install certifi \n",
    "```"
   ]
  },
  {
   "cell_type": "markdown",
   "metadata": {},
   "source": []
  },
  {
   "cell_type": "markdown",
   "metadata": {},
   "source": [
    "## FAQ2: connection bounce Error\n",
    "\n",
    "***2) If you are seeing your connection bouncing then you haven't whitelisted your IP address. You can do it by following the instructions above.***\n",
    "\n",
    "<img src=\"img/bounce.png\" />\n",
    "\n",
    "<img src=\"img/bounce2.png\" />\n",
    "\n"
   ]
  },
  {
   "cell_type": "markdown",
   "metadata": {},
   "source": [
    "## FAQ3: Cluster has conflicting non-empty namespace.\n",
    "\n",
    "***3) An error occurred loading sample data: Target cluster has conflicting non-empty namespace with the dataset.***\n",
    "\n",
    "If you get this error when you try to load the sample data, you already have the same database within your Mongo cluster. You can delete the existing data from the database and reinitiate the process. There are many ways in which you can delete it, but the easiest way is to delete it from your mongo atlas. Here are a couple of screenshots to guide you through.\n",
    "\n",
    "Navigate to the collection and delete all the databases that you see there, like below.\n",
    "\n",
    "<img src=\"img/navigatecollection.png\">\n",
    "\n",
    "After that, revisit the load data and add sample data like the one below.\n",
    "\n",
    "<img src=\"img/revisitload.png\">\n",
    "\n",
    "If this leads to getting an error like the below, then wait wait wait......... I got this in the process, as it takes some time to clean things up and get back to a consistent state. \n",
    "\n",
    "<img src=\"img/error.png\">"
   ]
  },
  {
   "cell_type": "markdown",
   "metadata": {},
   "source": []
  }
 ],
 "metadata": {
  "kernelspec": {
   "display_name": "Python 3.11.0 ('bait580envdup')",
   "language": "python",
   "name": "python3"
  },
  "language_info": {
   "codemirror_mode": {
    "name": "ipython",
    "version": 3
   },
   "file_extension": ".py",
   "mimetype": "text/x-python",
   "name": "python",
   "nbconvert_exporter": "python",
   "pygments_lexer": "ipython3",
   "version": "3.11.0"
  },
  "orig_nbformat": 4,
  "vscode": {
   "interpreter": {
    "hash": "2bc5523021e3eaad0b38337d8b5d216ddb7870f1c4fec4f90cb6646b0a0e0b0e"
   }
  }
 },
 "nbformat": 4,
 "nbformat_minor": 2
}
