{
 "cells": [
  {
   "cell_type": "markdown",
   "metadata": {},
   "source": [
    "## Working with dumps\n",
    "\n",
    "Taking dumps comes in handy when you want to share a copy of your database with someone or if you're going to keep it as a backup. \n",
    "\n",
    "- How can I take a dump of the database that I already have. \n",
    "```bash\n",
    "pg_dump -h mbandtweet.xxxxx.ca-central-1.rds.amazonaws.com --username=postgres -n import -f import.sql\n",
    "```\n",
    "Read more about how to take database dumps [here](https://www.postgresql.org/docs/12/app-pgdump.html).\n",
    "\n",
    "- How can you load these dumps to make your schema and tables ready? (You want to know how to do this for your worksheet and assignment)\n",
    "\n",
    "psql -h HOST_NAME -U USER_NAME DATABASE < PATH_TO_THE_.sql_DUMP_FILE\n",
    "\n",
    "```bash\n",
    "psql -h mbandtweet.xxxx.us-west-2.rds.amazonaws.com -U postgres postgres < import.sql\n",
    "```\n",
    "\n",
    "```{margin}\n",
    "<img src='img/demos.png'>\n",
    "```"
   ]
  },
  {
   "cell_type": "markdown",
   "metadata": {},
   "source": []
  }
 ],
 "metadata": {
  "kernelspec": {
   "display_name": "Python 3.10.4 64-bit",
   "language": "python",
   "name": "python3"
  },
  "language_info": {
   "name": "python",
   "version": "3.10.4"
  },
  "orig_nbformat": 4,
  "vscode": {
   "interpreter": {
    "hash": "aee8b7b246df8f9039afb4144a1f6fd8d2ca17a180786b69acc140d282b71a49"
   }
  }
 },
 "nbformat": 4,
 "nbformat_minor": 2
}
