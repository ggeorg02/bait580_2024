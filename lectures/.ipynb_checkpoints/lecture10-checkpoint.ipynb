{
 "cells": [
  {
   "cell_type": "markdown",
   "id": "35f359f6-6f6b-4ca1-9987-daa6fa757c84",
   "metadata": {},
   "source": [
    "# Lecture 10: MQL 2/Special Topics"
   ]
  },
  {
   "cell_type": "markdown",
   "id": "208d3a58-e8e8-4bd2-9000-b707dc715138",
   "metadata": {},
   "source": [
    "Gittu George, February 3, 2022\n",
    "\n",
    "_Attribution: This notebook is developed using materials from DSCI 513 by Arman Seyed-Ahmadi._"
   ]
  },
  {
   "cell_type": "markdown",
   "id": "6f73cce4-b81b-4f10-b8bf-c3d1409ce933",
   "metadata": {},
   "source": [
    "## Lecture outline\n",
    "\n",
    "- Operators in MongoDB\n",
    "- Query conditionals\n",
    "- Querying arrays and sub-documents\n",
    "- Aggregation pipelines"
   ]
  },
  {
   "cell_type": "code",
   "execution_count": 3,
   "id": "bd88d46c-530b-4e9a-a8ea-dc88696da74a",
   "metadata": {},
   "outputs": [],
   "source": [
    "from pymongo import MongoClient\n",
    "import json\n",
    "import urllib.parse\n",
    "\n",
    "with open('credentials_mongodb.json') as f:\n",
    "    login = json.load(f)\n",
    "\n",
    "username = login['username']\n",
    "password = urllib.parse.quote(login['password'])\n",
    "host = login['host']\n",
    "url = \"mongodb+srv://{}:{}@{}/?retryWrites=true&w=majority\".format(username, password, host)\n",
    "\n",
    "client = MongoClient(url)"
   ]
  },
  {
   "cell_type": "markdown",
   "id": "c70fcf70-2229-46ff-9861-f05ab6a16292",
   "metadata": {},
   "source": [
    "## Logical operators"
   ]
  },
  {
   "cell_type": "markdown",
   "id": "f2a13c24-4dfe-454e-a56c-0b4526c200ad",
   "metadata": {},
   "source": [
    "### Implicit AND, `$and`"
   ]
  },
  {
   "cell_type": "markdown",
   "id": "1318e7fd-fb2a-4391-9f2a-c32f20c5348f",
   "metadata": {},
   "source": [
    "In MongoDB, specifying multiple conditions on a field or multiple fields implies an implicit logical AND and we don't need to explicitly need to use `$and`. For example, in these filters\n",
    "\n",
    "```\n",
    "{'year': {'$gte': 2000, '$lte': 2010}}\n",
    "```\n",
    "or\n",
    "```\n",
    "{'year': 2010, 'directors': 'Woody Allen'}\n",
    "```\n",
    "a logical AND is implied between the multiple given conditions.\n",
    "\n",
    "There are situations where we need the actual boolean result of the logical AND operation. For example, this projection stage will create a field in the output documents called `high_rated_voted` which evaluates to `true` if both the IMDB rating and the number of votes are high enough, and to `false` otherwise:\n",
    "\n",
    "```\n",
    "$project: {\n",
    "            'title': 1,\n",
    "            'year': 1,\n",
    "            'high_rated_voted': {\n",
    "                '$and': [ \n",
    "                    { $gt: [ $imdb.rating', 8 ] },\n",
    "                    { '$gt': [ '$imdb.votes', 100000 ] } \n",
    "                    ]\n",
    "             }\n",
    "          }\n",
    "```"
   ]
  },
  {
   "cell_type": "markdown",
   "id": "8441d143-5ff6-47fd-9b3a-1df6346e8369",
   "metadata": {},
   "source": [
    "**Example:** Using the `sample_supplies` database, return 2 documents associated with sales that are made in Seattle and used a coupon. Exclude the `items` field from the results."
   ]
  },
  {
   "cell_type": "code",
   "execution_count": 4,
   "id": "b81ceb9b-9952-4d5d-88ac-8fc73a43c805",
   "metadata": {},
   "outputs": [
    {
     "data": {
      "text/plain": [
       "[{'saleDate': datetime.datetime(2016, 5, 16, 3, 43, 15, 808000),\n",
       "  'storeLocation': 'Seattle',\n",
       "  'customer': {'gender': 'F',\n",
       "   'age': 26,\n",
       "   'email': 'kupeen@gareha.ne',\n",
       "   'satisfaction': 5},\n",
       "  'couponUsed': True,\n",
       "  'purchaseMethod': 'In store'},\n",
       " {'saleDate': datetime.datetime(2016, 10, 22, 18, 50, 44, 216000),\n",
       "  'storeLocation': 'Seattle',\n",
       "  'customer': {'gender': 'F',\n",
       "   'age': 52,\n",
       "   'email': 'nupzig@apubu.hu',\n",
       "   'satisfaction': 3},\n",
       "  'couponUsed': True,\n",
       "  'purchaseMethod': 'In store'}]"
      ]
     },
     "execution_count": 4,
     "metadata": {},
     "output_type": "execute_result"
    }
   ],
   "source": [
    "list(\n",
    "    client[\"sample_supplies\"][\"sales\"].find(\n",
    "        filter={\n",
    "            'storeLocation': 'Seattle',\n",
    "            'couponUsed': True\n",
    "        },\n",
    "        projection={\"_id\": 0, \"items\": 0},\n",
    "        limit=2,\n",
    "    )\n",
    ")"
   ]
  },
  {
   "cell_type": "markdown",
   "id": "c37a216b-8176-4082-bd38-77fd48ca4676",
   "metadata": {},
   "source": [
    "The above query is equivalent to:"
   ]
  },
  {
   "cell_type": "code",
   "execution_count": 5,
   "id": "e5ee5467-bffc-4ea4-b8e9-c76a9a1ffc40",
   "metadata": {},
   "outputs": [
    {
     "data": {
      "text/plain": [
       "[{'saleDate': datetime.datetime(2016, 5, 16, 3, 43, 15, 808000),\n",
       "  'storeLocation': 'Seattle',\n",
       "  'customer': {'gender': 'F',\n",
       "   'age': 26,\n",
       "   'email': 'kupeen@gareha.ne',\n",
       "   'satisfaction': 5},\n",
       "  'couponUsed': True,\n",
       "  'purchaseMethod': 'In store'},\n",
       " {'saleDate': datetime.datetime(2016, 10, 22, 18, 50, 44, 216000),\n",
       "  'storeLocation': 'Seattle',\n",
       "  'customer': {'gender': 'F',\n",
       "   'age': 52,\n",
       "   'email': 'nupzig@apubu.hu',\n",
       "   'satisfaction': 3},\n",
       "  'couponUsed': True,\n",
       "  'purchaseMethod': 'In store'}]"
      ]
     },
     "execution_count": 5,
     "metadata": {},
     "output_type": "execute_result"
    }
   ],
   "source": [
    "list(\n",
    "    client[\"sample_supplies\"][\"sales\"].find(\n",
    "        filter={\n",
    "            '$and': [   \n",
    "                {'storeLocation': 'Seattle'},\n",
    "                {'couponUsed': True}\n",
    "            ]\n",
    "        },\n",
    "        projection={\"_id\": 0, \"items\": 0},\n",
    "        limit=2,\n",
    "    )\n",
    ")"
   ]
  },
  {
   "cell_type": "markdown",
   "id": "d5613987-b471-4ec2-88a0-48f66742b3de",
   "metadata": {},
   "source": [
    "**Example:** Using the `sample_supplies` database, find the number of sales made between October 1, 2014 and December 1, 2014."
   ]
  },
  {
   "cell_type": "code",
   "execution_count": 6,
   "id": "7f93cf1b-e853-4b7f-843c-87d84357f354",
   "metadata": {},
   "outputs": [
    {
     "data": {
      "text/plain": [
       "153"
      ]
     },
     "execution_count": 6,
     "metadata": {},
     "output_type": "execute_result"
    }
   ],
   "source": [
    "import datetime\n",
    "\n",
    "client[\"sample_supplies\"][\"sales\"].count_documents(\n",
    "        filter={\n",
    "            'saleDate': {\n",
    "                '$gte': datetime.datetime(2014, 10, 1),\n",
    "                '$lte': datetime.datetime(2014, 12, 1)\n",
    "            }\n",
    "        }\n",
    ")"
   ]
  },
  {
   "cell_type": "markdown",
   "id": "5d520245-c2de-4a28-a0aa-2cd3cdc94e7f",
   "metadata": {},
   "source": [
    "> **Note:** When specifying multiple conditions for a field, all conditions should be put into a single query document for that field (or an `$and` operator should be used). For example, the following query only checks the **last condition on the field** and returns unexpected results:"
   ]
  },
  {
   "cell_type": "code",
   "execution_count": 7,
   "id": "9209f99d-a588-4987-ba01-a3d730cce7a7",
   "metadata": {},
   "outputs": [
    {
     "data": {
      "text/plain": [
       "1861"
      ]
     },
     "execution_count": 7,
     "metadata": {},
     "output_type": "execute_result"
    }
   ],
   "source": [
    "import datetime\n",
    "\n",
    "client[\"sample_supplies\"][\"sales\"].count_documents(\n",
    "        filter={\n",
    "            'saleDate': {'$gte': datetime.datetime(2014, 10, 1)},\n",
    "            'saleDate': {'$lte': datetime.datetime(2014, 12, 1)}\n",
    "    }\n",
    ")"
   ]
  },
  {
   "cell_type": "markdown",
   "id": "466d3ce2-25f7-49d9-b66a-f5a54a037a76",
   "metadata": {
    "tags": []
   },
   "source": [
    "### `$or`, `$nor`"
   ]
  },
  {
   "cell_type": "markdown",
   "id": "3502469c-f921-48c4-951c-caf581bfdaf6",
   "metadata": {},
   "source": [
    "These are general logical OR/NOR operators. The difference with `$in`/`$nin` is that `$in`/`$nin` can be used for an equality condition on a single field, but `$or`/`$nor` are general and can be used with any boolean expression."
   ]
  },
  {
   "cell_type": "markdown",
   "id": "b5f474b1-1fcd-468a-8d55-3c774d8171cd",
   "metadata": {},
   "source": [
    "**Example:** Using the `sample_supplies` database, find 5 sales that were made in New York and were either paid by phone or didn't use a coupon."
   ]
  },
  {
   "cell_type": "code",
   "execution_count": 8,
   "id": "bb6d1905-fe3a-49cf-bf85-901e19957d07",
   "metadata": {},
   "outputs": [
    {
     "data": {
      "text/plain": [
       "[{'saleDate': datetime.datetime(2017, 3, 21, 1, 54, 26, 657000),\n",
       "  'storeLocation': 'New York',\n",
       "  'customer': {'gender': 'M',\n",
       "   'age': 26,\n",
       "   'email': 'rapifoozi@viupoen.bb',\n",
       "   'satisfaction': 5},\n",
       "  'couponUsed': True,\n",
       "  'purchaseMethod': 'In store'},\n",
       " {'saleDate': datetime.datetime(2013, 8, 21, 9, 36, 7, 188000),\n",
       "  'storeLocation': 'New York',\n",
       "  'customer': {'gender': 'F',\n",
       "   'age': 53,\n",
       "   'email': 'se@nacwev.an',\n",
       "   'satisfaction': 4},\n",
       "  'couponUsed': False,\n",
       "  'purchaseMethod': 'Phone'},\n",
       " {'saleDate': datetime.datetime(2017, 9, 2, 15, 42, 22, 167000),\n",
       "  'storeLocation': 'New York',\n",
       "  'customer': {'gender': 'M',\n",
       "   'age': 34,\n",
       "   'email': 'bubbecgu@odidecned.tf',\n",
       "   'satisfaction': 3},\n",
       "  'couponUsed': False,\n",
       "  'purchaseMethod': 'Phone'},\n",
       " {'saleDate': datetime.datetime(2015, 3, 6, 19, 13, 35, 155000),\n",
       "  'storeLocation': 'New York',\n",
       "  'customer': {'gender': 'F',\n",
       "   'age': 42,\n",
       "   'email': 'jecosab@copfatma.af',\n",
       "   'satisfaction': 3},\n",
       "  'couponUsed': False,\n",
       "  'purchaseMethod': 'Phone'},\n",
       " {'saleDate': datetime.datetime(2015, 10, 14, 23, 25, 30, 610000),\n",
       "  'storeLocation': 'New York',\n",
       "  'customer': {'gender': 'F',\n",
       "   'age': 39,\n",
       "   'email': 'fip@ruc.cg',\n",
       "   'satisfaction': 5},\n",
       "  'couponUsed': False,\n",
       "  'purchaseMethod': 'Phone'}]"
      ]
     },
     "execution_count": 8,
     "metadata": {},
     "output_type": "execute_result"
    }
   ],
   "source": [
    "list(\n",
    "    client[\"sample_supplies\"][\"sales\"].find(\n",
    "        filter={\n",
    "            'storeLocation': 'New York',\n",
    "            '$or': [\n",
    "                {'purchaseMethod': 'Phone'},\n",
    "                {'couponUsed': True}\n",
    "            ]\n",
    "        },\n",
    "        projection={\"_id\": 0, \"items\": 0},\n",
    "        limit=5,\n",
    "    )\n",
    ")"
   ]
  },
  {
   "cell_type": "markdown",
   "id": "b15092a9-8dcc-41f2-9b90-5504a1b45426",
   "metadata": {
    "tags": []
   },
   "source": [
    "### `$not`"
   ]
  },
  {
   "cell_type": "markdown",
   "id": "f89f3395-222a-42e4-b615-7074896293a7",
   "metadata": {},
   "source": [
    "This is similar to `NOT` in SQL or `not` in Python, and is used to negate a boolean expression. This is useful, for example, when you want to match field values that **do not** follow a particular regex pattern."
   ]
  },
  {
   "cell_type": "markdown",
   "id": "03484c89-7b4e-46c5-bbb6-80672e7c65a5",
   "metadata": {},
   "source": [
    "## Field existence with `$exists`"
   ]
  },
  {
   "cell_type": "markdown",
   "id": "6783274c-4651-4b2e-8dda-becbb88daf38",
   "metadata": {},
   "source": [
    "One of the hallmarks of document-based NoSQL databases is that **their schema is flexible**, meaning that not all documents need to have the same fields. This is why sometimes we need to check for the existence of a field before trying to use it. This is done using the `$exists` operator in MongoDB."
   ]
  },
  {
   "cell_type": "markdown",
   "id": "37797124-a6c4-4d31-ba57-d86d484c96ec",
   "metadata": {},
   "source": [
    "In the following example, I want to select documents for movies that are not in English. However, I should make sure that `languages` field actually exists, because otherwise I might filter out English movies that simply don't have the `languages` field:"
   ]
  },
  {
   "cell_type": "code",
   "execution_count": 9,
   "id": "b48036a0-f152-41d9-a1e4-c88da6d4c86e",
   "metadata": {},
   "outputs": [
    {
     "data": {
      "text/plain": [
       "[{'title': 'Les vampires', 'languages': ['French']},\n",
       " {'title': 'Nosferatu', 'languages': ['German']},\n",
       " {'title': 'Battleship Potemkin', 'languages': ['Russian']},\n",
       " {'title': 'Metropolis', 'languages': ['German']},\n",
       " {'title': \"Pandora's Box\", 'languages': ['German']},\n",
       " {'title': 'The Passion of Joan of Arc', 'languages': ['French']},\n",
       " {'title': 'Storm Over Asia', 'languages': ['Russian']},\n",
       " {'title': 'Asphalt', 'languages': ['German']},\n",
       " {'title': 'David Golder', 'languages': ['French']},\n",
       " {'title': 'The Blood of a Poet', 'languages': ['French']}]"
      ]
     },
     "execution_count": 9,
     "metadata": {},
     "output_type": "execute_result"
    }
   ],
   "source": [
    "list(\n",
    "    client[\"sample_mflix\"][\"movies\"].find(\n",
    "        filter={\n",
    "            'languages': {\n",
    "                '$ne': 'English',\n",
    "                '$exists': True  # comment this line to see the difference\n",
    "            }\n",
    "        },\n",
    "        projection={'_id': 0, 'languages': 1, 'title': 1},\n",
    "        limit=10,\n",
    "    )\n",
    ")"
   ]
  },
  {
   "cell_type": "markdown",
   "id": "c549df3d-5ab4-4d8c-b062-1b9b53663440",
   "metadata": {},
   "source": [
    "## Querying sub-documents"
   ]
  },
  {
   "cell_type": "code",
   "execution_count": 10,
   "id": "b8ef7a2a-406b-47fa-9c5e-b0df87694083",
   "metadata": {},
   "outputs": [],
   "source": [
    "client['mds']['instructors'].drop()"
   ]
  },
  {
   "cell_type": "code",
   "execution_count": 11,
   "id": "e1fc4696-a206-4048-b155-c68e2d879c48",
   "metadata": {},
   "outputs": [],
   "source": [
    "if client['mds']['instructors'].count_documents({}) == 0:\n",
    "    \n",
    "    client['mds']['instructors'].insert_many([\n",
    "        {\n",
    "            'name': 'Mike',\n",
    "            'department': {\n",
    "                'name': 'Computer Science',\n",
    "                'campus': 'Vancouver'\n",
    "            },\n",
    "            'courses': [\n",
    "                {\n",
    "                    'name': 'Algorithms & Data Structures',\n",
    "                    'code': 512\n",
    "                },\n",
    "                {\n",
    "                    'name': 'Descriptive Statistics and Probability',\n",
    "                    'code': 551\n",
    "                },\n",
    "            ]\n",
    "        },\n",
    "        {\n",
    "            'name': 'Tiffany',\n",
    "            'department': {\n",
    "                'name': 'Statistics',\n",
    "                'campus': 'Vancouver'\n",
    "            },\n",
    "            'courses': [\n",
    "                {\n",
    "                    'name': 'Programming for Data Manipulation',\n",
    "                    'code': 523\n",
    "                },\n",
    "                {\n",
    "                    'name': 'Data Science Workflows',\n",
    "                    'code': 522\n",
    "                },\n",
    "                {\n",
    "                    'name': 'Collaborative Software Development',\n",
    "                    'code': 524\n",
    "                },\n",
    "            ]\n",
    "        },\n",
    "        {\n",
    "            'name': 'Alexi',\n",
    "            'department': {\n",
    "                'name': 'Statistics',\n",
    "                'campus': 'Vancouver'\n",
    "            },\n",
    "            'courses': [\n",
    "                {\n",
    "                    'name': 'Statistical Inference and Computation',\n",
    "                    'code': 552\n",
    "                },\n",
    "                {\n",
    "                    'name': 'Regression II',\n",
    "                    'code': 562\n",
    "                },\n",
    "            ]\n",
    "        }\n",
    "    ])"
   ]
  },
  {
   "cell_type": "markdown",
   "id": "abdd9875-ac1d-477b-b6e4-51502328192c",
   "metadata": {},
   "source": [
    "Sub-documents can be queried for either for an exact match or for particular sub-fields. The following query wouldn't work because it looks for a sub-document `'department': {'name': 'Statistics'}` (exact match, no more no less) which does not exist:"
   ]
  },
  {
   "cell_type": "code",
   "execution_count": 12,
   "id": "10872207-23dc-4da4-be56-966f6d71fb08",
   "metadata": {},
   "outputs": [
    {
     "data": {
      "text/plain": [
       "[]"
      ]
     },
     "execution_count": 12,
     "metadata": {},
     "output_type": "execute_result"
    }
   ],
   "source": [
    "list(\n",
    "    client['mds']['instructors'].find(\n",
    "        filter={\n",
    "            'department': {'name': 'Statistics'}\n",
    "        }\n",
    "    )\n",
    ")"
   ]
  },
  {
   "cell_type": "markdown",
   "id": "e9f99377-ace7-4e2b-b2f9-d54b42a3ea08",
   "metadata": {},
   "source": [
    "But if we supply the full `department` sub-document:"
   ]
  },
  {
   "cell_type": "code",
   "execution_count": 13,
   "id": "ce57840a-ee76-47fa-aa90-a538765303b9",
   "metadata": {},
   "outputs": [
    {
     "data": {
      "text/plain": [
       "[{'_id': ObjectId('637845c0bf7ffea4b1fe0f3a'),\n",
       "  'name': 'Tiffany',\n",
       "  'department': {'name': 'Statistics', 'campus': 'Vancouver'},\n",
       "  'courses': [{'name': 'Programming for Data Manipulation', 'code': 523},\n",
       "   {'name': 'Data Science Workflows', 'code': 522},\n",
       "   {'name': 'Collaborative Software Development', 'code': 524}]},\n",
       " {'_id': ObjectId('637845c0bf7ffea4b1fe0f3b'),\n",
       "  'name': 'Alexi',\n",
       "  'department': {'name': 'Statistics', 'campus': 'Vancouver'},\n",
       "  'courses': [{'name': 'Statistical Inference and Computation', 'code': 552},\n",
       "   {'name': 'Regression II', 'code': 562}]}]"
      ]
     },
     "execution_count": 13,
     "metadata": {},
     "output_type": "execute_result"
    }
   ],
   "source": [
    "list(\n",
    "    client['mds']['instructors'].find(\n",
    "        filter={\n",
    "            'department': {'name': 'Statistics', 'campus': 'Vancouver'}\n",
    "        }\n",
    "    )\n",
    ")"
   ]
  },
  {
   "cell_type": "markdown",
   "id": "76885b25-503c-4434-9575-6969ae7293e0",
   "metadata": {},
   "source": [
    "However, we can look for particular values for sub-fields directly using the dot notation. For example, if we want to find instructors from the Statistics department, we can use the following query:"
   ]
  },
  {
   "cell_type": "code",
   "execution_count": 14,
   "id": "715facff-b304-4ea6-9ad5-c93ff783c6f0",
   "metadata": {},
   "outputs": [
    {
     "data": {
      "text/plain": [
       "[{'_id': ObjectId('637845c0bf7ffea4b1fe0f3a'),\n",
       "  'name': 'Tiffany',\n",
       "  'department': {'name': 'Statistics', 'campus': 'Vancouver'},\n",
       "  'courses': [{'name': 'Programming for Data Manipulation', 'code': 523},\n",
       "   {'name': 'Data Science Workflows', 'code': 522},\n",
       "   {'name': 'Collaborative Software Development', 'code': 524}]},\n",
       " {'_id': ObjectId('637845c0bf7ffea4b1fe0f3b'),\n",
       "  'name': 'Alexi',\n",
       "  'department': {'name': 'Statistics', 'campus': 'Vancouver'},\n",
       "  'courses': [{'name': 'Statistical Inference and Computation', 'code': 552},\n",
       "   {'name': 'Regression II', 'code': 562}]}]"
      ]
     },
     "execution_count": 14,
     "metadata": {},
     "output_type": "execute_result"
    }
   ],
   "source": [
    "list(\n",
    "    client['mds']['instructors'].find(\n",
    "        filter={\n",
    "            'department.name': 'Statistics'\n",
    "        }\n",
    "    )\n",
    ")"
   ]
  },
  {
   "cell_type": "markdown",
   "id": "ebc6a1e4-74c8-41d2-b026-9ea5abb39f75",
   "metadata": {},
   "source": [
    "In this way, if over time other fields are added to the `department` field, our query will still be robust and runs without any problems."
   ]
  },
  {
   "cell_type": "markdown",
   "id": "8c09c7bb-74da-4ce4-b989-552043d439bb",
   "metadata": {},
   "source": [
    "## Querying arrays"
   ]
  },
  {
   "cell_type": "markdown",
   "id": "80ef0a64-95dc-4a89-a4db-0154094889e3",
   "metadata": {},
   "source": [
    "Similar to sub-documents, arrays can either be matched exactly or partially.\n",
    "\n",
    "If we're looking for a single value inside an array, we can write our query as if the array field was a regular simple field. For example, the following query returns movies that are available in French, among other languages:"
   ]
  },
  {
   "cell_type": "code",
   "execution_count": 15,
   "id": "6dce7a3e-43e9-4cd0-ad66-fbb44c6431a4",
   "metadata": {},
   "outputs": [
    {
     "data": {
      "text/plain": [
       "[{'title': 'Les vampires', 'languages': ['French']},\n",
       " {'title': 'The Passion of Joan of Arc', 'languages': ['French']},\n",
       " {'title': 'All Quiet on the Western Front',\n",
       "  'languages': ['English', 'French', 'German', 'Latin']},\n",
       " {'title': 'David Golder', 'languages': ['French']},\n",
       " {'title': 'The Divorcee', 'languages': ['English', 'French']},\n",
       " {'title': 'Morocco',\n",
       "  'languages': ['English', 'French', 'Spanish', 'Arabic', 'Italian']},\n",
       " {'title': 'The Blood of a Poet', 'languages': ['French']},\n",
       " {'title': 'Under the Roofs of Paris', 'languages': ['French', 'Romanian']},\n",
       " {'title': 'Cimarron', 'languages': ['English', 'French']},\n",
       " {'title': 'Comradeship', 'languages': ['French', 'German']}]"
      ]
     },
     "execution_count": 15,
     "metadata": {},
     "output_type": "execute_result"
    }
   ],
   "source": [
    "list(\n",
    "    client[\"sample_mflix\"][\"movies\"].find(\n",
    "        filter={'languages': 'French'},\n",
    "        projection={'_id': 0, 'languages': 1, 'title': 1},\n",
    "        limit=10,\n",
    "    )\n",
    ")"
   ]
  },
  {
   "cell_type": "markdown",
   "id": "c28232e6-3a36-40ca-9669-02abe2bd797d",
   "metadata": {},
   "source": [
    "Note that the `languages` field in all of the above documents contains French, occasionally in addition to other languages."
   ]
  },
  {
   "cell_type": "markdown",
   "id": "ebe0b54f-1539-4012-a49d-1d1b19667e4c",
   "metadata": {},
   "source": [
    "Things are different if we're looking for more than one element. If the desired elements are specified inside `[]`, then MongoDB looks for an exact match. For example, with the following query:"
   ]
  },
  {
   "cell_type": "code",
   "execution_count": 16,
   "id": "4142a204-306c-4457-a9eb-e17c84011e16",
   "metadata": {},
   "outputs": [
    {
     "data": {
      "text/plain": [
       "[{'title': 'The Divorcee', 'languages': ['English', 'French']},\n",
       " {'title': 'Cimarron', 'languages': ['English', 'French']},\n",
       " {'title': 'The Sin of Madelon Claudet', 'languages': ['English', 'French']},\n",
       " {'title': 'Forbidden', 'languages': ['English', 'French']},\n",
       " {'title': 'Baby Face', 'languages': ['English', 'French']},\n",
       " {'title': 'Footlight Parade', 'languages': ['English', 'French']},\n",
       " {'title': 'Going Hollywood', 'languages': ['English', 'French']},\n",
       " {'title': 'Death Takes a Holiday', 'languages': ['English', 'French']},\n",
       " {'title': 'Becky Sharp', 'languages': ['English', 'French']},\n",
       " {'title': 'Folies Bergère de Paris', 'languages': ['English', 'French']}]"
      ]
     },
     "execution_count": 16,
     "metadata": {},
     "output_type": "execute_result"
    }
   ],
   "source": [
    "list(\n",
    "    client[\"sample_mflix\"][\"movies\"].find(\n",
    "        filter={\n",
    "            'languages': ['English', 'French']\n",
    "        },\n",
    "        projection={'_id': 0, 'languages': 1, 'title': 1},\n",
    "        limit=10,\n",
    "    )\n",
    ")"
   ]
  },
  {
   "cell_type": "markdown",
   "id": "568d2c0b-5960-4ace-acee-d870b45c1d4d",
   "metadata": {},
   "source": [
    "only those documents will be returned that **only and only** have `['English', 'French']` in their `'languages'`, **in the exact same order**. You can switch the order of the languages to see that you get different results."
   ]
  },
  {
   "cell_type": "markdown",
   "id": "89e1db92-170f-492b-abb0-7b96a6863c1c",
   "metadata": {},
   "source": [
    "We can also query an array by **index**. Here, I'm looking for movies which have Italian listed as the first language in their `languages` field:"
   ]
  },
  {
   "cell_type": "code",
   "execution_count": 17,
   "id": "4bc16f68-871c-4d95-8690-a8227fc3073e",
   "metadata": {},
   "outputs": [
    {
     "data": {
      "text/plain": [
       "[{'title': \"Everybody's Woman\", 'languages': ['Italian']},\n",
       " {'title': 'The Siege of the Alcazar', 'languages': ['Italian']},\n",
       " {'title': 'The White Ship', 'languages': ['Italian']},\n",
       " {'title': 'Ossessione', 'languages': ['Italian']},\n",
       " {'title': 'The Testimony', 'languages': ['Italian']},\n",
       " {'title': 'The Bandit', 'languages': ['Italian', 'German', 'English']},\n",
       " {'title': 'La porta del cielo', 'languages': ['Italian']},\n",
       " {'title': 'Paisan',\n",
       "  'languages': ['Italian', 'English', 'German', 'Sicilian']},\n",
       " {'title': 'Rome, Open City', 'languages': ['Italian', 'German', 'Latin']},\n",
       " {'title': 'Shoeshine', 'languages': ['Italian', 'English']}]"
      ]
     },
     "execution_count": 17,
     "metadata": {},
     "output_type": "execute_result"
    }
   ],
   "source": [
    "list(\n",
    "    client[\"sample_mflix\"][\"movies\"].find(\n",
    "        filter={\n",
    "            'languages.0': 'Italian'\n",
    "        },\n",
    "        projection={'_id': 0, 'languages': 1, 'title': 1},\n",
    "        limit=10,\n",
    "    )\n",
    ")"
   ]
  },
  {
   "cell_type": "markdown",
   "id": "1ebc4577-3cc6-42b3-9bab-ebc31c930c0a",
   "metadata": {},
   "source": [
    "### `$size`"
   ]
  },
  {
   "cell_type": "markdown",
   "id": "90b5f269-b13f-4fd5-890e-83a942a46655",
   "metadata": {},
   "source": [
    "The `$size` operator checks for the number of elements inside an array. For example, suppose that we want to return all movies that are have 2 directors:"
   ]
  },
  {
   "cell_type": "code",
   "execution_count": 18,
   "id": "63d0ead9-e139-40a7-b5d1-0609e8844868",
   "metadata": {},
   "outputs": [
    {
     "data": {
      "text/plain": [
       "[{'title': 'Winsor McCay, the Famous Cartoonist of the N.Y. Herald and His Moving Comics',\n",
       "  'directors': ['Winsor McCay', 'J. Stuart Blackton']},\n",
       " {'title': 'The Perils of Pauline',\n",
       "  'directors': ['Louis J. Gasnier', 'Donald MacKenzie']},\n",
       " {'title': 'Where Are My Children?',\n",
       "  'directors': ['Phillips Smalley', 'Lois Weber']},\n",
       " {'title': 'From Hand to Mouth',\n",
       "  'directors': ['Alfred J. Goulding', 'Hal Roach']},\n",
       " {'title': 'The Last of the Mohicans',\n",
       "  'directors': ['Clarence Brown', 'Maurice Tourneur']},\n",
       " {'title': 'One Week', 'directors': ['Edward F. Cline', 'Buster Keaton']},\n",
       " {'title': 'The Saphead', 'directors': ['Herbert Blachè', 'Winchell Smith']},\n",
       " {'title': 'Now or Never', 'directors': ['Fred C. Newmeyer', 'Hal Roach']},\n",
       " {'title': 'Cops', 'directors': ['Edward F. Cline', 'Buster Keaton']},\n",
       " {'title': 'Salomè', 'directors': ['Charles Bryant', 'Alla Nazimova']}]"
      ]
     },
     "execution_count": 18,
     "metadata": {},
     "output_type": "execute_result"
    }
   ],
   "source": [
    "list(\n",
    "    client[\"sample_mflix\"][\"movies\"].find(\n",
    "        filter={\n",
    "            'directors': {'$size': 2}\n",
    "        },\n",
    "        projection={'_id': 0, 'directors': 1, 'title': 1},\n",
    "        limit=10,\n",
    "    )\n",
    ")"
   ]
  },
  {
   "cell_type": "markdown",
   "id": "64c164ba-6b5a-4869-aeba-91936a9645bd",
   "metadata": {},
   "source": [
    "### `$all`"
   ]
  },
  {
   "cell_type": "markdown",
   "id": "882df775-24e3-4f21-9e2b-fcbd9c1e84c3",
   "metadata": {},
   "source": [
    "Now suppose that we want to find movies that are available in both English and French, among other languages, and we don't care about the order in which they appear. For this situation, we can use the `$all` operator to match arrays that contain all listed values among other values, in no particular order:"
   ]
  },
  {
   "cell_type": "code",
   "execution_count": 19,
   "id": "26770122-cb04-4766-b9de-b89978ba002b",
   "metadata": {},
   "outputs": [
    {
     "data": {
      "text/plain": [
       "[{'title': 'All Quiet on the Western Front',\n",
       "  'languages': ['English', 'French', 'German', 'Latin']},\n",
       " {'title': 'The Divorcee', 'languages': ['English', 'French']},\n",
       " {'title': 'Morocco',\n",
       "  'languages': ['English', 'French', 'Spanish', 'Arabic', 'Italian']},\n",
       " {'title': 'Cimarron', 'languages': ['English', 'French']},\n",
       " {'title': 'The Sin of Madelon Claudet', 'languages': ['English', 'French']},\n",
       " {'title': 'Forbidden', 'languages': ['English', 'French']},\n",
       " {'title': 'Freaks', 'languages': ['English', 'German', 'French']},\n",
       " {'title': 'The Mummy', 'languages': ['English', 'Arabic', 'French']},\n",
       " {'title': 'Shanghai Express',\n",
       "  'languages': ['English', 'French', 'Cantonese', 'German']},\n",
       " {'title': 'Baby Face', 'languages': ['English', 'French']}]"
      ]
     },
     "execution_count": 19,
     "metadata": {},
     "output_type": "execute_result"
    }
   ],
   "source": [
    "list(\n",
    "    client[\"sample_mflix\"][\"movies\"].find(\n",
    "        filter={\n",
    "            'languages': {'$all': ['English', 'French']}\n",
    "        },\n",
    "        projection={'_id': 0, 'languages': 1, 'title': 1},\n",
    "        limit=10,\n",
    "    )\n",
    ")"
   ]
  },
  {
   "cell_type": "markdown",
   "id": "bb158614-dca7-4884-9f4c-b19bc2e17ae1",
   "metadata": {},
   "source": [
    "Note that the `languages` field of all of the above documents contains English and French in no particular, in addition to other languages that might happen to exist in the same array."
   ]
  },
  {
   "cell_type": "markdown",
   "id": "61a533a0-7fa7-4088-8ecc-ad4dc59bae58",
   "metadata": {},
   "source": [
    "### `$elemMatch`"
   ]
  },
  {
   "cell_type": "markdown",
   "id": "09ac6d82-317f-4468-b401-5e52c81b02b1",
   "metadata": {},
   "source": [
    "We can best see the use case of this operator with an example. Consider these documents in the `students` collection of the `mds` database:"
   ]
  },
  {
   "cell_type": "code",
   "execution_count": 20,
   "id": "094995a0-b93a-4658-86d1-32ea33aee272",
   "metadata": {},
   "outputs": [],
   "source": [
    "client['mds']['students'].drop()"
   ]
  },
  {
   "cell_type": "code",
   "execution_count": 21,
   "id": "eba7c0db-3c15-4794-b4ff-763fa8d66200",
   "metadata": {},
   "outputs": [],
   "source": [
    "if client['mds']['students'].count_documents({}) == 0:\n",
    "    \n",
    "    client['mds']['students'].insert_many([\n",
    "        {\n",
    "            'name': 'Quan',\n",
    "            'grades': [79, 87, 97]\n",
    "        },\n",
    "        {\n",
    "            'name': 'Varada',\n",
    "            'grades': [75, 82, 90]\n",
    "        },\n",
    "        {\n",
    "            'name': 'Florencia',\n",
    "            'grades': [92, 93, 77]\n",
    "        }\n",
    "    ])"
   ]
  },
  {
   "cell_type": "markdown",
   "id": "c91809b0-e8cf-4446-b658-e2ebb6d16c02",
   "metadata": {},
   "source": [
    "Suppose that we want to retrieve the document for students who have a grade in the 80—85 range. In our collection, only the student named Varada has a grade in that range (i.e. 82). Let's see if this query works:"
   ]
  },
  {
   "cell_type": "code",
   "execution_count": 22,
   "id": "0a850863-1f2a-45fe-a5fc-52ffc5f5387b",
   "metadata": {},
   "outputs": [
    {
     "data": {
      "text/plain": [
       "[{'_id': ObjectId('637845eabf7ffea4b1fe0f3c'),\n",
       "  'name': 'Quan',\n",
       "  'grades': [79, 87, 97]},\n",
       " {'_id': ObjectId('637845eabf7ffea4b1fe0f3d'),\n",
       "  'name': 'Varada',\n",
       "  'grades': [75, 82, 90]},\n",
       " {'_id': ObjectId('637845eabf7ffea4b1fe0f3e'),\n",
       "  'name': 'Florencia',\n",
       "  'grades': [92, 93, 77]}]"
      ]
     },
     "execution_count": 22,
     "metadata": {},
     "output_type": "execute_result"
    }
   ],
   "source": [
    "list(\n",
    "    client['mds']['students'].find(\n",
    "        filter={'grades': {'$gte': 80, '$lte': 85}}\n",
    "    )\n",
    ")"
   ]
  },
  {
   "cell_type": "markdown",
   "id": "1afe751d-5924-4f85-ba41-ac17add83417",
   "metadata": {},
   "source": [
    "Oops, it returned all documents!\n",
    "\n",
    "The reason is that when multiple conditions are defined on an array, MongoDB checks the array on its entirety. If there is at least one match for each condition in the whole array, then that document will be returned. In order to force MongoDB to check the conditions on **each** individual element, we need to use `$elemMatch`:"
   ]
  },
  {
   "cell_type": "code",
   "execution_count": 23,
   "id": "80d9a1cf-a754-4fcd-b661-3b354761e08a",
   "metadata": {},
   "outputs": [
    {
     "data": {
      "text/plain": [
       "[{'_id': ObjectId('637845eabf7ffea4b1fe0f3d'),\n",
       "  'name': 'Varada',\n",
       "  'grades': [75, 82, 90]}]"
      ]
     },
     "execution_count": 23,
     "metadata": {},
     "output_type": "execute_result"
    }
   ],
   "source": [
    "list(\n",
    "    client['mds']['students'].find(\n",
    "        filter={'grades': {'$elemMatch': {'$gte': 80, '$lte': 85}}}\n",
    "    )\n",
    ")"
   ]
  },
  {
   "cell_type": "markdown",
   "id": "21dceff5-7bfc-4d4b-ac5c-969986268f71",
   "metadata": {},
   "source": [
    "### Arrays of sub-documents"
   ]
  },
  {
   "cell_type": "markdown",
   "id": "de29b40b-a323-4f1b-a6ca-35d8032afcaa",
   "metadata": {},
   "source": [
    "Querying sub-documents nested inside an array works a lot like querying arrays with simple elements. Let's take a look at the `instructors` collection of the `mds` database we created earlier:"
   ]
  },
  {
   "cell_type": "code",
   "execution_count": 24,
   "id": "d7b69f4f-5572-49e4-a913-0971d50c08ef",
   "metadata": {},
   "outputs": [
    {
     "data": {
      "text/plain": [
       "[{'_id': ObjectId('637845c0bf7ffea4b1fe0f39'),\n",
       "  'name': 'Mike',\n",
       "  'department': {'name': 'Computer Science', 'campus': 'Vancouver'},\n",
       "  'courses': [{'name': 'Algorithms & Data Structures', 'code': 512},\n",
       "   {'name': 'Descriptive Statistics and Probability', 'code': 551}]},\n",
       " {'_id': ObjectId('637845c0bf7ffea4b1fe0f3a'),\n",
       "  'name': 'Tiffany',\n",
       "  'department': {'name': 'Statistics', 'campus': 'Vancouver'},\n",
       "  'courses': [{'name': 'Programming for Data Manipulation', 'code': 523},\n",
       "   {'name': 'Data Science Workflows', 'code': 522},\n",
       "   {'name': 'Collaborative Software Development', 'code': 524}]},\n",
       " {'_id': ObjectId('637845c0bf7ffea4b1fe0f3b'),\n",
       "  'name': 'Alexi',\n",
       "  'department': {'name': 'Statistics', 'campus': 'Vancouver'},\n",
       "  'courses': [{'name': 'Statistical Inference and Computation', 'code': 552},\n",
       "   {'name': 'Regression II', 'code': 562}]}]"
      ]
     },
     "execution_count": 24,
     "metadata": {},
     "output_type": "execute_result"
    }
   ],
   "source": [
    "list(\n",
    "    client['mds']['instructors'].find({})\n",
    ")"
   ]
  },
  {
   "cell_type": "markdown",
   "id": "4a16fd7a-a0d3-4dfa-b70d-0306dbae7c42",
   "metadata": {},
   "source": [
    "If we want to find instructor(s) who teach DSCI 512, we may try the following query:"
   ]
  },
  {
   "cell_type": "code",
   "execution_count": 25,
   "id": "9332f334-0312-4d56-8057-055ebd3734d0",
   "metadata": {},
   "outputs": [
    {
     "data": {
      "text/plain": [
       "[]"
      ]
     },
     "execution_count": 25,
     "metadata": {},
     "output_type": "execute_result"
    }
   ],
   "source": [
    "list(\n",
    "    client['mds']['instructors'].find(\n",
    "        filter={'courses': {'code': 512}}\n",
    "    )\n",
    ")"
   ]
  },
  {
   "cell_type": "markdown",
   "id": "9d44ced5-1299-432a-86bb-93a010066c01",
   "metadata": {},
   "source": [
    "But it doesn't work because just like arrays, a condition like `{'code': 512}` has to match an entire sub-document:"
   ]
  },
  {
   "cell_type": "code",
   "execution_count": 26,
   "id": "74686ffd-9096-42ec-aeb7-9ea4260a53e7",
   "metadata": {},
   "outputs": [
    {
     "data": {
      "text/plain": [
       "[{'_id': ObjectId('637845c0bf7ffea4b1fe0f39'),\n",
       "  'name': 'Mike',\n",
       "  'department': {'name': 'Computer Science', 'campus': 'Vancouver'},\n",
       "  'courses': [{'name': 'Algorithms & Data Structures', 'code': 512},\n",
       "   {'name': 'Descriptive Statistics and Probability', 'code': 551}]}]"
      ]
     },
     "execution_count": 26,
     "metadata": {},
     "output_type": "execute_result"
    }
   ],
   "source": [
    "list(\n",
    "    client['mds']['instructors'].find(\n",
    "        filter={'courses': {'name': 'Algorithms & Data Structures', 'code': 512}}\n",
    "    )\n",
    ")"
   ]
  },
  {
   "cell_type": "markdown",
   "id": "c0a7b616-3bfb-4b46-9092-7bd92134e5af",
   "metadata": {},
   "source": [
    "The easier way is to use the dot notation for reaching into the sub-documents in the array and place a condition on a particular sub-field"
   ]
  },
  {
   "cell_type": "code",
   "execution_count": 27,
   "id": "8f81243c-33b2-4300-9962-93e03fd0b8f7",
   "metadata": {},
   "outputs": [
    {
     "data": {
      "text/plain": [
       "[{'_id': ObjectId('637845c0bf7ffea4b1fe0f39'),\n",
       "  'name': 'Mike',\n",
       "  'department': {'name': 'Computer Science', 'campus': 'Vancouver'},\n",
       "  'courses': [{'name': 'Algorithms & Data Structures', 'code': 512},\n",
       "   {'name': 'Descriptive Statistics and Probability', 'code': 551}]}]"
      ]
     },
     "execution_count": 27,
     "metadata": {},
     "output_type": "execute_result"
    }
   ],
   "source": [
    "list(\n",
    "    client['mds']['instructors'].find(\n",
    "        filter={'courses.code': 512}\n",
    "    )\n",
    ")"
   ]
  },
  {
   "cell_type": "markdown",
   "id": "aecddfa8-497b-48df-adb8-07c9a0987251",
   "metadata": {},
   "source": [
    "Just like for arrays, mixed conditions are checked for all elements of the array. For example, in the following although the course code for \"Algorithms & Data Structures\" **is not** 551, the document for Mike is still returned because each condition matches at least one element in the array:"
   ]
  },
  {
   "cell_type": "code",
   "execution_count": 28,
   "id": "0965c4ad-6635-466f-b01d-33e060a0f44c",
   "metadata": {},
   "outputs": [
    {
     "data": {
      "text/plain": [
       "[{'_id': ObjectId('637845c0bf7ffea4b1fe0f39'),\n",
       "  'name': 'Mike',\n",
       "  'department': {'name': 'Computer Science', 'campus': 'Vancouver'},\n",
       "  'courses': [{'name': 'Algorithms & Data Structures', 'code': 512},\n",
       "   {'name': 'Descriptive Statistics and Probability', 'code': 551}]}]"
      ]
     },
     "execution_count": 28,
     "metadata": {},
     "output_type": "execute_result"
    }
   ],
   "source": [
    "list(\n",
    "    client['mds']['instructors'].find(\n",
    "        filter={'courses.code': 551, 'courses.name': {'$regex': 'Algorithms'}}\n",
    "    )\n",
    ")"
   ]
  },
  {
   "cell_type": "markdown",
   "id": "35d70b55-db15-45ad-a481-96858a7df55f",
   "metadata": {},
   "source": [
    "We can use `$elemMatch` here too to do an element-by-element condition check:"
   ]
  },
  {
   "cell_type": "code",
   "execution_count": 29,
   "id": "7545b0e1-c8dc-4e23-900d-6e1f7b284b4c",
   "metadata": {},
   "outputs": [
    {
     "data": {
      "text/plain": [
       "[]"
      ]
     },
     "execution_count": 29,
     "metadata": {},
     "output_type": "execute_result"
    }
   ],
   "source": [
    "list(\n",
    "    client['mds']['instructors'].find(\n",
    "        filter={'courses': {'$elemMatch': {'code': 551, 'name': {'$regex': 'Algorithms'}}}}\n",
    "    )\n",
    ")"
   ]
  },
  {
   "cell_type": "markdown",
   "id": "627d5852-3720-4f1b-8fcc-93e9614b22f4",
   "metadata": {},
   "source": [
    "## Can you?\n",
    "\n",
    "- Use MQL to intereact with MongoDB ?\n",
    "\n",
    "## Class activity\n",
    "\n",
    "- Practice MQL."
   ]
  },
  {
   "cell_type": "markdown",
   "id": "1455b52c-42b9-4aa9-8412-0c11ec42d204",
   "metadata": {},
   "source": [
    "### Conclusion \n",
    "![](img/thanks.png)"
   ]
  },
  {
   "cell_type": "markdown",
   "id": "5f8defeb-6271-423b-baaa-78f06c173c67",
   "metadata": {},
   "source": [
    "## Hadoop/Spark story\n",
    "[Download slides](https://canvas.ubc.ca/files/19225284/download?download_frd=1)\n",
    "\n",
    "## AWS exploration"
   ]
  }
 ],
 "metadata": {
  "kernelspec": {
   "display_name": "Python 3 (ipykernel)",
   "language": "python",
   "name": "python3"
  },
  "language_info": {
   "codemirror_mode": {
    "name": "ipython",
    "version": 3
   },
   "file_extension": ".py",
   "mimetype": "text/x-python",
   "name": "python",
   "nbconvert_exporter": "python",
   "pygments_lexer": "ipython3",
   "version": "3.10.4"
  }
 },
 "nbformat": 4,
 "nbformat_minor": 5
}
