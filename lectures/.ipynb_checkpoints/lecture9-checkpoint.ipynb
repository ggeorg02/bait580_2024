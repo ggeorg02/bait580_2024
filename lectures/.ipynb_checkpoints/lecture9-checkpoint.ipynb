{
 "cells": [
  {
   "cell_type": "markdown",
   "id": "35f359f6-6f6b-4ca1-9987-daa6fa757c84",
   "metadata": {},
   "source": [
    "# Lecture 9: MQL 1"
   ]
  },
  {
   "cell_type": "markdown",
   "id": "208d3a58-e8e8-4bd2-9000-b707dc715138",
   "metadata": {},
   "source": [
    "Gittu George, February 3, 2022\n",
    "\n",
    "_Attribution: This notebook is developed using materials from DSCI 513 by Arman Seyed-Ahmadi._"
   ]
  },
  {
   "cell_type": "code",
   "execution_count": 23,
   "id": "c99e4043-ab1d-4967-9b37-aa694a951685",
   "metadata": {},
   "outputs": [],
   "source": [
    "from pymongo import MongoClient\n",
    "import json\n",
    "import urllib.parse\n",
    "\n",
    "with open('credentials_mongodb.json') as f:\n",
    "    login = json.load(f)\n",
    "\n",
    "username = login['username']\n",
    "password = urllib.parse.quote(login['password'])\n",
    "host = login['host']\n",
    "url = \"mongodb+srv://{}:{}@{}/?retryWrites=true&w=majority\".format(username, password, host)\n",
    "client = MongoClient(url)"
   ]
  },
  {
   "cell_type": "markdown",
   "id": "e691ecb3-8795-4e77-a900-86b99d87e423",
   "metadata": {},
   "source": [
    "## MongoDB query language (MQL)"
   ]
  },
  {
   "cell_type": "markdown",
   "id": "c959af2b-a43f-4a58-b656-d20b7369e5cb",
   "metadata": {},
   "source": [
    "<img src=\"img/nosql.png\" width=\"400\">\n",
    "\n",
    "([image source](https://dataedo.com/cartoon/it-is-nosql))\n",
    "\n",
    "```{admonition} See also ...\n",
    "SQL to MongoDB mapping chart: https://docs.mongodb.com/manual/reference/sql-comparison/\n",
    "```\n",
    "\n",
    "As mentioned earlier, there is no standard query language among NoSQL DBMSs. This is because each NoSQL DBMS supports a different data model and obviously no one language can suit all data models.\n",
    "\n",
    "MongoDB has its own query language known as MongoDB Query Language or MQL (We already saw CQL for neo4j). I will walk you through the usage of MQL in the remainder of this lecture."
   ]
  },
  {
   "cell_type": "markdown",
   "id": "cf2ab2fc-a6fb-49c9-a693-2a8a405d7708",
   "metadata": {},
   "source": [
    "### Accessing databases and collections"
   ]
  },
  {
   "cell_type": "markdown",
   "id": "d127efb2-e7cf-4391-ab80-2396d369521c",
   "metadata": {},
   "source": [
    "Here is how we can access databases through different interfaces.\n",
    "\n",
    "**Compass**:\n",
    "\n",
    "It's just point and click. I'll demo this in class.\n",
    "\n",
    "**`mongosh`**:\n",
    "```js\n",
    "show dbs\n",
    "use my_db\n",
    "```"
   ]
  },
  {
   "cell_type": "markdown",
   "id": "8688c732-cdea-4ab6-b524-180af522041f",
   "metadata": {},
   "source": [
    "**`pymongo`**:\n",
    "\n",
    "```\n",
    "my_db = client['my_db']\n",
    "my_db\n",
    "```"
   ]
  },
  {
   "cell_type": "markdown",
   "id": "cd8dacc3-caec-49fa-803b-4a85982c6cbe",
   "metadata": {},
   "source": [
    "Running the above cell just gives you some information about our connection to the server. We'll learn how to run queries on this connection in a bit. For now, let's see what databases we have:"
   ]
  },
  {
   "cell_type": "code",
   "execution_count": 4,
   "id": "a0f856b5-05ee-4979-a400-9843fb432e23",
   "metadata": {},
   "outputs": [
    {
     "data": {
      "text/plain": [
       "['sample_airbnb',\n",
       " 'sample_analytics',\n",
       " 'sample_geospatial',\n",
       " 'sample_guides',\n",
       " 'sample_mflix',\n",
       " 'sample_restaurants',\n",
       " 'sample_supplies',\n",
       " 'sample_training',\n",
       " 'sample_weatherdata',\n",
       " 'admin',\n",
       " 'local']"
      ]
     },
     "execution_count": 4,
     "metadata": {},
     "output_type": "execute_result"
    }
   ],
   "source": [
    "client.list_database_names()"
   ]
  },
  {
   "cell_type": "markdown",
   "id": "2cbbc5fb-0477-4957-953a-0858522ae583",
   "metadata": {},
   "source": [
    "To access collections withing each database, use the following syntax:\n",
    "\n",
    "**`mongosh`**:\n",
    "```js\n",
    "db.my_collection.method()\n",
    "```"
   ]
  },
  {
   "cell_type": "markdown",
   "id": "e2fdbc2c-0ad1-458a-84f9-56e9138a40f4",
   "metadata": {},
   "source": [
    "**`pymongo`**:\n",
    "\n",
    "```\n",
    "my_collection = my_db['my_collection']\n",
    "my_collection\n",
    "```"
   ]
  },
  {
   "cell_type": "markdown",
   "id": "13637cc5-f42c-46e2-b83d-29a5cdbfecb0",
   "metadata": {},
   "source": [
    "Again, some information that we don't need. We will never use the database or collection objects simple like this. For now, let's take a look at the collections inside the `sample_mflix` database:"
   ]
  },
  {
   "cell_type": "code",
   "execution_count": 5,
   "id": "ab062a2b-d885-4491-9156-2b4b501f3270",
   "metadata": {},
   "outputs": [
    {
     "data": {
      "text/plain": [
       "['theaters', 'comments', 'sessions', 'movies', 'users']"
      ]
     },
     "execution_count": 5,
     "metadata": {},
     "output_type": "execute_result"
    }
   ],
   "source": [
    "client['sample_mflix'].list_collection_names()"
   ]
  },
  {
   "cell_type": "markdown",
   "id": "d4001648-05e2-432e-8258-8439c0e7cca9",
   "metadata": {},
   "source": [
    "Or alternatively:"
   ]
  },
  {
   "cell_type": "code",
   "execution_count": 6,
   "id": "ee40eb55-c3ae-4de2-97f3-b202fd796cac",
   "metadata": {},
   "outputs": [
    {
     "data": {
      "text/plain": [
       "['theaters', 'comments', 'sessions', 'movies', 'users']"
      ]
     },
     "execution_count": 6,
     "metadata": {},
     "output_type": "execute_result"
    }
   ],
   "source": [
    "client.sample_mflix.list_collection_names()"
   ]
  },
  {
   "cell_type": "markdown",
   "id": "72e1bbf7-4bda-4de3-852d-e864b320fe1e",
   "metadata": {},
   "source": [
    "A very important thing to know before using MQL is that\n",
    "\n",
    "> **Everything in MongoDB is a JSON-like document**\n",
    "\n",
    "even queries themselves!"
   ]
  },
  {
   "cell_type": "markdown",
   "id": "852bff04-e9f2-4ce7-8f64-b2242f970c3a",
   "metadata": {},
   "source": [
    "### `find`"
   ]
  },
  {
   "cell_type": "markdown",
   "id": "2c6611b2-f142-4646-9bff-33860a6bdf88",
   "metadata": {
    "jp-MarkdownHeadingCollapsed": true,
    "tags": []
   },
   "source": [
    "The main method used for querying documents is the `.find()` method. Here is an example of a query in MongoDB:\n",
    "\n",
    "**`mongosh`**:\n",
    "\n",
    "```js\n",
    "db.movies.find( {title: 'Titanic'} )\n",
    "```"
   ]
  },
  {
   "cell_type": "markdown",
   "id": "bbb959c9-b23e-44a9-b19f-c1bbf312dd64",
   "metadata": {
    "jp-MarkdownHeadingCollapsed": true,
    "tags": []
   },
   "source": [
    "**`pymongo`**:"
   ]
  },
  {
   "cell_type": "code",
   "execution_count": 7,
   "id": "5d0d33de-2580-4cab-9c7e-2ecf4f7d38d0",
   "metadata": {},
   "outputs": [
    {
     "data": {
      "text/plain": [
       "<pymongo.cursor.Cursor at 0x112d29450>"
      ]
     },
     "execution_count": 7,
     "metadata": {},
     "output_type": "execute_result"
    }
   ],
   "source": [
    "client['sample_mflix']['movies'].find( filter={'title': 'Titanic'} )"
   ]
  },
  {
   "cell_type": "markdown",
   "id": "e0c15825-b19d-4ef8-9706-4a674bb6881e",
   "metadata": {},
   "source": [
    "Using `filter=` is optional in the argument list, but if you remember from Python's Zen advice, \"_explicit is better than implicit_\"."
   ]
  },
  {
   "cell_type": "markdown",
   "id": "53fcc1e3-e5b7-4ac7-9fc7-13a0a58ceac6",
   "metadata": {},
   "source": [
    "Well, the above code doesn't do anything because it returns a cursor object which is basically a Python generator. Let's return the first element of this generator:"
   ]
  },
  {
   "cell_type": "code",
   "execution_count": 8,
   "id": "e9ca14e5-5ffb-45ef-b052-ae5f898cbe12",
   "metadata": {},
   "outputs": [
    {
     "data": {
      "text/plain": [
       "{'_id': ObjectId('573a1394f29313caabcdf639'),\n",
       " 'plot': 'An unhappy married couple deal with their problems on board the ill-fated ship.',\n",
       " 'genres': ['Drama', 'History', 'Romance'],\n",
       " 'runtime': 98,\n",
       " 'rated': 'NOT RATED',\n",
       " 'cast': ['Clifton Webb',\n",
       "  'Barbara Stanwyck',\n",
       "  'Robert Wagner',\n",
       "  'Audrey Dalton'],\n",
       " 'num_mflix_comments': 0,\n",
       " 'poster': 'https://m.media-amazon.com/images/M/MV5BMTU3NTUyMTc3Nl5BMl5BanBnXkFtZTgwOTA2MDE3MTE@._V1_SY1000_SX677_AL_.jpg',\n",
       " 'title': 'Titanic',\n",
       " 'fullplot': 'Unhappily married and uncomfortable with life among the British upper crust, Julia Sturges takes her two children and boards the Titanic for America. Her husband Richard also arranges passage on the doomed luxury liner in order to let him have custody of their two children. Their problems soon seem minor when the ship hits an iceberg.',\n",
       " 'languages': ['English', 'Basque', 'French', 'Spanish'],\n",
       " 'released': datetime.datetime(1953, 7, 13, 0, 0),\n",
       " 'directors': ['Jean Negulesco'],\n",
       " 'writers': ['Charles Brackett', 'Walter Reisch', 'Richard L. Breen'],\n",
       " 'awards': {'wins': 0,\n",
       "  'nominations': 3,\n",
       "  'text': 'Won 1 Oscar. Another 2 nominations.'},\n",
       " 'lastupdated': '2015-09-16 00:00:16.593000000',\n",
       " 'year': 1953,\n",
       " 'imdb': {'rating': 7.3, 'votes': 4677, 'id': 46435},\n",
       " 'countries': ['USA'],\n",
       " 'type': 'movie',\n",
       " 'tomatoes': {'viewer': {'rating': 3.6, 'numReviews': 86400, 'meter': 65},\n",
       "  'dvd': datetime.datetime(2003, 9, 2, 0, 0),\n",
       "  'critic': {'rating': 6.7, 'numReviews': 9, 'meter': 89},\n",
       "  'lastUpdated': datetime.datetime(2015, 9, 10, 19, 15, 34),\n",
       "  'rotten': 1,\n",
       "  'production': '20th Century Fox',\n",
       "  'fresh': 8}}"
      ]
     },
     "execution_count": 8,
     "metadata": {},
     "output_type": "execute_result"
    }
   ],
   "source": [
    "next(client['sample_mflix']['movies'].find( {'title': 'Titanic'} ))"
   ]
  },
  {
   "cell_type": "markdown",
   "id": "cace64e8-5d19-4a41-8995-74a7df890241",
   "metadata": {},
   "source": [
    "Or we can pass it to `list()` to materialize the generator entirely:"
   ]
  },
  {
   "cell_type": "code",
   "execution_count": 9,
   "id": "40c6f174-d1bb-4465-844b-783af87c9e8c",
   "metadata": {},
   "outputs": [
    {
     "data": {
      "text/plain": [
       "[{'_id': ObjectId('573a1394f29313caabcdf639'),\n",
       "  'plot': 'An unhappy married couple deal with their problems on board the ill-fated ship.',\n",
       "  'genres': ['Drama', 'History', 'Romance'],\n",
       "  'runtime': 98,\n",
       "  'rated': 'NOT RATED',\n",
       "  'cast': ['Clifton Webb',\n",
       "   'Barbara Stanwyck',\n",
       "   'Robert Wagner',\n",
       "   'Audrey Dalton'],\n",
       "  'num_mflix_comments': 0,\n",
       "  'poster': 'https://m.media-amazon.com/images/M/MV5BMTU3NTUyMTc3Nl5BMl5BanBnXkFtZTgwOTA2MDE3MTE@._V1_SY1000_SX677_AL_.jpg',\n",
       "  'title': 'Titanic',\n",
       "  'fullplot': 'Unhappily married and uncomfortable with life among the British upper crust, Julia Sturges takes her two children and boards the Titanic for America. Her husband Richard also arranges passage on the doomed luxury liner in order to let him have custody of their two children. Their problems soon seem minor when the ship hits an iceberg.',\n",
       "  'languages': ['English', 'Basque', 'French', 'Spanish'],\n",
       "  'released': datetime.datetime(1953, 7, 13, 0, 0),\n",
       "  'directors': ['Jean Negulesco'],\n",
       "  'writers': ['Charles Brackett', 'Walter Reisch', 'Richard L. Breen'],\n",
       "  'awards': {'wins': 0,\n",
       "   'nominations': 3,\n",
       "   'text': 'Won 1 Oscar. Another 2 nominations.'},\n",
       "  'lastupdated': '2015-09-16 00:00:16.593000000',\n",
       "  'year': 1953,\n",
       "  'imdb': {'rating': 7.3, 'votes': 4677, 'id': 46435},\n",
       "  'countries': ['USA'],\n",
       "  'type': 'movie',\n",
       "  'tomatoes': {'viewer': {'rating': 3.6, 'numReviews': 86400, 'meter': 65},\n",
       "   'dvd': datetime.datetime(2003, 9, 2, 0, 0),\n",
       "   'critic': {'rating': 6.7, 'numReviews': 9, 'meter': 89},\n",
       "   'lastUpdated': datetime.datetime(2015, 9, 10, 19, 15, 34),\n",
       "   'rotten': 1,\n",
       "   'production': '20th Century Fox',\n",
       "   'fresh': 8}},\n",
       " {'_id': ObjectId('573a139af29313caabcefb1d'),\n",
       "  'plot': 'The story of the 1912 sinking of the largest luxury liner ever built, the tragedy that befell over two thousand of the rich and famous as well as of the poor and unknown passengers aboard the doomed ship.',\n",
       "  'genres': ['Action', 'Drama', 'History'],\n",
       "  'runtime': 173,\n",
       "  'cast': ['Peter Gallagher',\n",
       "   'George C. Scott',\n",
       "   'Catherine Zeta-Jones',\n",
       "   'Eva Marie Saint'],\n",
       "  'poster': 'https://m.media-amazon.com/images/M/MV5BYWM0MDE3OWMtMzlhZC00YzMyLThiNjItNzFhNGVhYzQ1YWM5XkEyXkFqcGdeQXVyMTczNjQwOTY@._V1_SY1000_SX677_AL_.jpg',\n",
       "  'title': 'Titanic',\n",
       "  'fullplot': \"The plot focuses on the romances of two couples upon the doomed ship's maiden voyage. Isabella Paradine (Catherine Zeta-Jones) is a wealthy woman mourning the loss of her aunt, who reignites a romance with former flame Wynn Park (Peter Gallagher). Meanwhile, a charming ne'er-do-well named Jamie Perse (Mike Doyle) steals a ticket for the ship, and falls for a sweet innocent Irish girl on board. But their romance is threatened by the villainous Simon Doonan (Tim Curry), who has discovered about the ticket and makes Jamie his unwilling accomplice, as well as having sinister plans for the girl.\",\n",
       "  'languages': ['English'],\n",
       "  'released': datetime.datetime(1996, 11, 17, 0, 0),\n",
       "  'rated': 'PG-13',\n",
       "  'awards': {'wins': 0,\n",
       "   'nominations': 9,\n",
       "   'text': 'Won 1 Primetime Emmy. Another 8 nominations.'},\n",
       "  'lastupdated': '2015-08-30 00:47:02.163000000',\n",
       "  'year': 1996,\n",
       "  'imdb': {'rating': 5.9, 'votes': 3435, 'id': 115392},\n",
       "  'countries': ['Canada', 'USA'],\n",
       "  'type': 'series',\n",
       "  'tomatoes': {'viewer': {'rating': 3.8, 'numReviews': 30909, 'meter': 71},\n",
       "   'dvd': datetime.datetime(1999, 9, 7, 0, 0),\n",
       "   'production': 'Hallmark Entertainment',\n",
       "   'lastUpdated': datetime.datetime(2015, 8, 15, 18, 12, 51)},\n",
       "  'num_mflix_comments': 0},\n",
       " {'_id': ObjectId('573a139af29313caabcf0d74'),\n",
       "  'fullplot': '84 years later, a 101-year-old woman named Rose DeWitt Bukater tells the story to her granddaughter Lizzy Calvert, Brock Lovett, Lewis Bodine, Bobby Buell and Anatoly Mikailavich on the Keldysh about her life set in April 10th 1912, on a ship called Titanic when young Rose boards the departing ship with the upper-class passengers and her mother, Ruth DeWitt Bukater, and her fiancè, Caledon Hockley. Meanwhile, a drifter and artist named Jack Dawson and his best friend Fabrizio De Rossi win third-class tickets to the ship in a game. And she explains the whole story from departure until the death of Titanic on its first and last voyage April 15th, 1912 at 2:20 in the morning.',\n",
       "  'imdb': {'rating': 7.7, 'votes': 716392, 'id': 120338},\n",
       "  'year': 1997,\n",
       "  'plot': 'A seventeen-year-old aristocrat falls in love with a kind, but poor artist aboard the luxurious, ill-fated R.M.S. Titanic.',\n",
       "  'genres': ['Drama', 'Romance'],\n",
       "  'rated': 'PG-13',\n",
       "  'metacritic': 74,\n",
       "  'title': 'Titanic',\n",
       "  'lastupdated': '2015-09-13 00:41:42.117000000',\n",
       "  'languages': ['English',\n",
       "   'French',\n",
       "   'German',\n",
       "   'Swedish',\n",
       "   'Italian',\n",
       "   'Russian'],\n",
       "  'writers': ['James Cameron'],\n",
       "  'type': 'movie',\n",
       "  'tomatoes': {'website': 'http://www.titanicmovie.com/',\n",
       "   'viewer': {'rating': 3.3, 'numReviews': 35792304, 'meter': 69},\n",
       "   'dvd': datetime.datetime(2012, 9, 10, 0, 0),\n",
       "   'critic': {'rating': 8.0, 'numReviews': 178, 'meter': 88},\n",
       "   'boxOffice': '$57.9M',\n",
       "   'consensus': 'A mostly unqualified triumph for James Cameron, who offers a dizzying blend of spectacular visuals and old-fashioned melodrama.',\n",
       "   'rotten': 21,\n",
       "   'production': 'Paramount Pictures',\n",
       "   'lastUpdated': datetime.datetime(2015, 9, 13, 17, 5, 18),\n",
       "   'fresh': 157},\n",
       "  'poster': 'https://m.media-amazon.com/images/M/MV5BMDdmZGU3NDQtY2E5My00ZTliLWIzOTUtMTY4ZGI1YjdiNjk3XkEyXkFqcGdeQXVyNTA4NzY1MzY@._V1_SY1000_SX677_AL_.jpg',\n",
       "  'num_mflix_comments': 128,\n",
       "  'released': datetime.datetime(1997, 12, 19, 0, 0),\n",
       "  'awards': {'wins': 127,\n",
       "   'nominations': 63,\n",
       "   'text': 'Won 11 Oscars. Another 116 wins & 63 nominations.'},\n",
       "  'countries': ['USA'],\n",
       "  'cast': ['Leonardo DiCaprio', 'Kate Winslet', 'Billy Zane', 'Kathy Bates'],\n",
       "  'directors': ['James Cameron'],\n",
       "  'runtime': 194}]"
      ]
     },
     "execution_count": 9,
     "metadata": {},
     "output_type": "execute_result"
    }
   ],
   "source": [
    "list(\n",
    "    client['sample_mflix']['movies'].find( {'title': 'Titanic'} )\n",
    ")"
   ]
  },
  {
   "cell_type": "markdown",
   "id": "86a8fb8d-556f-4e2b-96ec-dea2f7a11ef0",
   "metadata": {},
   "source": [
    "> **Note:** `.find( filter={} )` or `.find()` returns every document in the collection."
   ]
  },
  {
   "cell_type": "markdown",
   "id": "fa407ddf-e40a-44fb-8c37-c4998e428948",
   "metadata": {},
   "source": [
    "Note that there is another method `.findOne()` in `mongosh` and `.find_one()` in `pymongo`. This method returns only one document regardless of how many there are, according to the order in which documents are stored on the physical disk. It can be "
   ]
  },
  {
   "cell_type": "markdown",
   "id": "dc05e617-30b2-4227-9798-bc17f098acbd",
   "metadata": {},
   "source": [
    "### `projection`"
   ]
  },
  {
   "cell_type": "markdown",
   "id": "09f6ebfd-61b6-44d3-b095-1144eff02e67",
   "metadata": {},
   "source": [
    "Remember what projection meant in SQL? Returning a particular set of columns among all that exist in a table was called projection (of the results onto particular columns).\n",
    "\n",
    "Projection has a similar meaning in NoSQL: it means explicitly choosing the fields that we are interested in, instead of all fields that are returned by default. This is done by feeding a list of fields to the `projection=` argument, as well as a truthy of falsy value that indicates whether or not that field should be included."
   ]
  },
  {
   "cell_type": "markdown",
   "id": "ef2ffc97-26d1-4a72-81b3-c06b129d426b",
   "metadata": {},
   "source": [
    "For example, here I return the `title` and `year` fields only from the document in the result:"
   ]
  },
  {
   "cell_type": "markdown",
   "id": "345175fb-c162-4d2a-b963-b95442f3596a",
   "metadata": {},
   "source": [
    "**`mongosh`**:\n",
    "```js\n",
    "db.movies.find( {title: 'Titanic'}, {'title': 1, 'year': 1} )\n",
    "```"
   ]
  },
  {
   "cell_type": "markdown",
   "id": "40d30eac-0d1d-41c4-bd58-a3a5d0f122ea",
   "metadata": {},
   "source": [
    "**`pymongo`**:"
   ]
  },
  {
   "cell_type": "code",
   "execution_count": 10,
   "id": "8d9af62e-07f5-4c00-87f6-80bb594d9c57",
   "metadata": {},
   "outputs": [
    {
     "data": {
      "text/plain": [
       "[{'_id': ObjectId('573a1394f29313caabcdf639'),\n",
       "  'title': 'Titanic',\n",
       "  'year': 1953},\n",
       " {'_id': ObjectId('573a139af29313caabcefb1d'),\n",
       "  'title': 'Titanic',\n",
       "  'year': 1996},\n",
       " {'_id': ObjectId('573a139af29313caabcf0d74'),\n",
       "  'year': 1997,\n",
       "  'title': 'Titanic'}]"
      ]
     },
     "execution_count": 10,
     "metadata": {},
     "output_type": "execute_result"
    }
   ],
   "source": [
    "list(\n",
    "    client['sample_mflix']['movies'].find(\n",
    "        filter={'title': 'Titanic'},\n",
    "        projection={'title': 1, 'year': 1}\n",
    "    )\n",
    ")"
   ]
  },
  {
   "cell_type": "markdown",
   "id": "ffebf56f-b4d7-4090-8c8c-83f945ee92e8",
   "metadata": {},
   "source": [
    "> **Note:** In `pymongo`, you can use `True` instead of `1` and `False` instead of `0`."
   ]
  },
  {
   "cell_type": "markdown",
   "id": "709ad610-8050-485f-af67-7b49fbeaefa6",
   "metadata": {},
   "source": [
    "> **Note:** In `pymongo`, we need to enclose all field names in single or double quotes (e.g. `'title'` not `title`), otherwise Python would complain because it doesn't recognize those names. In `mongosh`, this is not necessary."
   ]
  },
  {
   "cell_type": "markdown",
   "id": "ba63265f-1806-44a3-9904-e052984a0993",
   "metadata": {},
   "source": [
    "In the above returned documents, note that the primary key field, namely, the `_id` field is always returned by default unless you explicitly exclude it using `{'_id': 0}` or `{'_id': False}`. **This is the only scenario where we might mix up `1`s and `0`s (or `True`s and `False`s) in the projection field.**"
   ]
  },
  {
   "cell_type": "code",
   "execution_count": 11,
   "id": "3bed23c1-4afa-4e0f-a0ab-44b2c133b7be",
   "metadata": {},
   "outputs": [
    {
     "data": {
      "text/plain": [
       "[{'title': 'Titanic', 'year': 1953},\n",
       " {'title': 'Titanic', 'year': 1996},\n",
       " {'year': 1997, 'title': 'Titanic'}]"
      ]
     },
     "execution_count": 11,
     "metadata": {},
     "output_type": "execute_result"
    }
   ],
   "source": [
    "list(\n",
    "    client['sample_mflix']['movies'].find(\n",
    "        filter={'title': 'Titanic'},\n",
    "        projection={'_id': 0, 'title': 1, 'year': 1}\n",
    "    )\n",
    ")"
   ]
  },
  {
   "cell_type": "markdown",
   "id": "4c8af612-8fe9-4704-bd60-bd861f880c3a",
   "metadata": {
    "tags": []
   },
   "source": [
    "### `sort`"
   ]
  },
  {
   "cell_type": "markdown",
   "id": "9e976a4c-9494-4092-8d12-e12f3219691b",
   "metadata": {},
   "source": [
    "**`mongosh`**:\n",
    "```js\n",
    "db.movies.find(<filter>, <projection>).sort( {runtime: 1, year:-1} )\n",
    "```"
   ]
  },
  {
   "cell_type": "markdown",
   "id": "12afb7ff-9d6b-424d-80c3-4cd80322d436",
   "metadata": {},
   "source": [
    "**`pymongo`**:"
   ]
  },
  {
   "cell_type": "code",
   "execution_count": 12,
   "id": "57c6cd2c-6955-4f1b-a99a-f4422567c2fd",
   "metadata": {},
   "outputs": [
    {
     "data": {
      "text/plain": [
       "[{'runtime': 98, 'title': 'Titanic', 'year': 1953},\n",
       " {'runtime': 173, 'title': 'Titanic', 'year': 1996},\n",
       " {'year': 1997, 'title': 'Titanic', 'runtime': 194}]"
      ]
     },
     "execution_count": 12,
     "metadata": {},
     "output_type": "execute_result"
    }
   ],
   "source": [
    "list(\n",
    "    client['sample_mflix']['movies'].find(\n",
    "        filter={'title': 'Titanic'},\n",
    "        projection={'_id': 0, 'title': 1, 'year': 1, 'runtime': 1},\n",
    "        sort=[('runtime', 1), ('year', -1)]\n",
    "    )\n",
    ")"
   ]
  },
  {
   "cell_type": "markdown",
   "id": "2e6f8460-c59f-4ad3-b64a-f13c3e75c1e5",
   "metadata": {},
   "source": [
    "### `limit`"
   ]
  },
  {
   "cell_type": "markdown",
   "id": "21f30407-c52d-4738-b638-d177fcfaddac",
   "metadata": {},
   "source": [
    "**`mongosh`**:\n",
    "```js\n",
    "db.movies.find({}, {title: 1, _id: 0}).limit(5)\n",
    "```"
   ]
  },
  {
   "cell_type": "markdown",
   "id": "6de969f8-3ae6-4b4a-93d6-9ed162526e67",
   "metadata": {},
   "source": [
    "**`pymongo`**:"
   ]
  },
  {
   "cell_type": "code",
   "execution_count": 13,
   "id": "e4694c07-fd48-4d92-acbc-7d166e816bb2",
   "metadata": {},
   "outputs": [
    {
     "data": {
      "text/plain": [
       "[{'title': 'Blacksmith Scene'},\n",
       " {'title': 'The Great Train Robbery'},\n",
       " {'title': 'The Land Beyond the Sunset'},\n",
       " {'title': 'A Corner in Wheat'},\n",
       " {'title': 'Winsor McCay, the Famous Cartoonist of the N.Y. Herald and His Moving Comics'}]"
      ]
     },
     "execution_count": 13,
     "metadata": {},
     "output_type": "execute_result"
    }
   ],
   "source": [
    "list(\n",
    "    client['sample_mflix']['movies'].find(\n",
    "        projection={'title': 1, '_id': 0},\n",
    "        limit=5\n",
    "    )\n",
    ")"
   ]
  },
  {
   "cell_type": "markdown",
   "id": "0f2c2873-b4ed-41b8-8d3a-3051acd70e1f",
   "metadata": {},
   "source": [
    "### `count` and `count_documents`"
   ]
  },
  {
   "cell_type": "markdown",
   "id": "df83140e-eb74-4628-a547-352a5c0f05ea",
   "metadata": {},
   "source": [
    "**`mongosh`**:\n",
    "```js\n",
    "db.movies.find({year:2000}).count()\n",
    "db.movies.countDocuments()\n",
    "```"
   ]
  },
  {
   "cell_type": "markdown",
   "id": "aa5921f8-a988-42c3-a090-82c0af288a6b",
   "metadata": {},
   "source": [
    "**`pymongo`**:"
   ]
  },
  {
   "cell_type": "code",
   "execution_count": 14,
   "id": "db4139ea-45ad-4a31-a8be-758bc95d811b",
   "metadata": {},
   "outputs": [
    {
     "data": {
      "text/plain": [
       "618"
      ]
     },
     "execution_count": 14,
     "metadata": {},
     "output_type": "execute_result"
    }
   ],
   "source": [
    "client['sample_mflix']['movies'].count_documents(filter={'year': 2000})"
   ]
  },
  {
   "cell_type": "markdown",
   "id": "ae6901fd-387f-4708-8b28-c6e6b39838f9",
   "metadata": {
    "tags": []
   },
   "source": [
    "### `skip`"
   ]
  },
  {
   "cell_type": "markdown",
   "id": "4edf82c5-85ca-485a-bf73-a1584c9e6245",
   "metadata": {},
   "source": [
    "**`mongosh`**:\n",
    "```js\n",
    "db.movies.find( filter={title: 'Titanic'}, projection={'title': 1, 'year': 1} ).skip(2)\n",
    "```"
   ]
  },
  {
   "cell_type": "markdown",
   "id": "095e5187-935e-4d21-8fb1-3f94f197ac33",
   "metadata": {},
   "source": [
    "**`pymongo`**:"
   ]
  },
  {
   "cell_type": "code",
   "execution_count": 15,
   "id": "c1e3c5c8-8763-455a-8d12-bd7499307509",
   "metadata": {},
   "outputs": [
    {
     "data": {
      "text/plain": [
       "[{'_id': ObjectId('573a139af29313caabcf0d74'),\n",
       "  'year': 1997,\n",
       "  'title': 'Titanic'}]"
      ]
     },
     "execution_count": 15,
     "metadata": {},
     "output_type": "execute_result"
    }
   ],
   "source": [
    "list(\n",
    "    client['sample_mflix']['movies'].find(\n",
    "        filter={'title': 'Titanic'},\n",
    "        projection={'title': 1, 'year': 1},\n",
    "        skip=2\n",
    "    )\n",
    ")"
   ]
  },
  {
   "cell_type": "markdown",
   "id": "6e005238-6285-4e5e-8403-66d84b292de2",
   "metadata": {
    "tags": []
   },
   "source": [
    "### `distinct`"
   ]
  },
  {
   "cell_type": "markdown",
   "id": "8c112612-891f-46a7-829c-cbc172552581",
   "metadata": {},
   "source": [
    "**`mongosh`**:\n",
    "```js\n",
    "db.movies.distinct( 'title', {title: 'Titanic'} )\n",
    "```"
   ]
  },
  {
   "cell_type": "markdown",
   "id": "a0d5c2d0-e9f3-4ea7-88c9-d525cd0362cd",
   "metadata": {},
   "source": [
    "**`pymongo`**:"
   ]
  },
  {
   "cell_type": "code",
   "execution_count": 16,
   "id": "32ecf93e-f160-4c8b-b3f7-24761060d4dc",
   "metadata": {},
   "outputs": [
    {
     "data": {
      "text/plain": [
       "['Titanic']"
      ]
     },
     "execution_count": 16,
     "metadata": {},
     "output_type": "execute_result"
    }
   ],
   "source": [
    "list(\n",
    "    client['sample_mflix']['movies'].find(\n",
    "        filter={'title': 'Titanic'},\n",
    "    ).distinct('title')\n",
    ")"
   ]
  },
  {
   "cell_type": "markdown",
   "id": "0dad6ba9-480b-44c0-918d-096d2d1b59e3",
   "metadata": {},
   "source": [
    "The `distinct` method here only returns unique **values**, not entire documents. In order to return documents that have unique values in certain fields, we need to use grouping through aggregation pipelines, which we'll learn about in the next lecture."
   ]
  },
  {
   "cell_type": "markdown",
   "id": "4e301ca4-f010-4286-ba13-adf915d3e04d",
   "metadata": {},
   "source": [
    "## `$` and operators in MongoDB\n",
    "\n",
    "In MongoDB, operators are denoted with a dollar sign `$`. For example, the `$sum` operator which is used in aggregation pipelines, or comparison operators such as `$gte` which is equivalent to `>=` in SQL or Python.\n",
    "\n",
    "The dollar sign `$` also has another use case: if a field needs to appear as a value, we need to reference that using a `$`. For example, I'll show you later in this lecture that if you want to rename a field in the output, you can have something like this in the projection stage of a pipeline:\n",
    "\n",
    "```\n",
    "{'$project': {'duration': '$runtime'}}\n",
    "```\n",
    "\n",
    "Had I used `{'duration': 'runtime'}`, the `runtime` would have been interpreted as a literal string, not the actual values in the `runtime` field. You'll also see this used in the `_id` field of a `$group` stage for a similar reason."
   ]
  },
  {
   "cell_type": "markdown",
   "id": "44545be5-dc88-48f9-ad69-9c1ef7d15bf7",
   "metadata": {},
   "source": [
    "## Comparison operators\n",
    "### `$gt`, `$gte`, `$lt`, `$lte`\n",
    "\n",
    "These operators have the same meaning as `>`, `>=`, `<`, and `<=` in SQL or Python. For example, while a filter `{'runtime': 200}` would return documents whose runtime is exactly 200 minutes, `{'runtime': {'$gte': 200}}` would return documents whose runtime is greater that 200 minutes.\n",
    "\n",
    "**Example:** Return the title, runtime, and production year of 5 movies with a runtime of 200 minutes or greater."
   ]
  },
  {
   "cell_type": "code",
   "execution_count": 17,
   "id": "28404b06-af9f-4c85-9fc0-891437ae4bf3",
   "metadata": {},
   "outputs": [
    {
     "data": {
      "text/plain": [
       "[{'runtime': 399, 'title': 'Les vampires', 'year': 1915},\n",
       " {'runtime': 240, 'title': 'Napoleon', 'year': 1927},\n",
       " {'runtime': 281, 'title': 'Les Misèrables', 'year': 1934},\n",
       " {'runtime': 245, 'title': 'Flash Gordon', 'year': 1936},\n",
       " {'runtime': 238, 'title': 'Gone with the Wind', 'year': 1939}]"
      ]
     },
     "execution_count": 17,
     "metadata": {},
     "output_type": "execute_result"
    }
   ],
   "source": [
    "list(\n",
    "    client['sample_mflix']['movies'].find(\n",
    "        filter={'runtime': {'$gte': 200}},\n",
    "        projection={'_id': 0, 'title': 1, 'runtime': 1, 'year': 1},\n",
    "        limit=5\n",
    "    )\n",
    ")"
   ]
  },
  {
   "cell_type": "markdown",
   "id": "94b5edae-7860-45a8-a4fa-e217ff31e134",
   "metadata": {},
   "source": [
    "**Example:** How many movies are there with a runtime of 200 minutes or greater?"
   ]
  },
  {
   "cell_type": "code",
   "execution_count": 18,
   "id": "3a064a80-0dc0-4bf3-aba6-c76529bbf008",
   "metadata": {},
   "outputs": [
    {
     "data": {
      "text/plain": [
       "227"
      ]
     },
     "execution_count": 18,
     "metadata": {},
     "output_type": "execute_result"
    }
   ],
   "source": [
    "client['sample_mflix']['movies'].count_documents(filter={'runtime': {'$gte': 200}})"
   ]
  },
  {
   "cell_type": "markdown",
   "id": "f5308d9d-da48-448f-b0ba-6a8ed3ed3440",
   "metadata": {},
   "source": [
    "### `$ne`\n",
    "\n",
    "The `$ne` (not equal) operator has the same meaning as `<>` in SQL or `!=` in Python.\n",
    "\n",
    "**Example:** Find the title and the type of 5 documents in the `movies` collection that are not of type `movie`."
   ]
  },
  {
   "cell_type": "code",
   "execution_count": 19,
   "id": "5c8f9f40-bd15-4d00-af48-8ee8557fc39f",
   "metadata": {},
   "outputs": [
    {
     "data": {
      "text/plain": [
       "[{'title': 'The Forsyte Saga', 'type': 'series'},\n",
       " {'title': 'Scenes from a Marriage', 'type': 'series'},\n",
       " {'title': 'Ironiya sudby, ili S legkim parom!', 'type': 'series'},\n",
       " {'title': 'I, Claudius', 'type': 'series'},\n",
       " {'title': 'Sybil', 'type': 'series'}]"
      ]
     },
     "execution_count": 19,
     "metadata": {},
     "output_type": "execute_result"
    }
   ],
   "source": [
    "list(\n",
    "    client['sample_mflix']['movies'].find(\n",
    "        filter={'type': {'$ne': 'movie'}},\n",
    "        projection={'_id': 0, 'title': 1, 'type': 1},\n",
    "        limit=5\n",
    "    )\n",
    ")"
   ]
  },
  {
   "cell_type": "markdown",
   "id": "3dccf128-95a7-4d0b-bdd0-1f513b48cf05",
   "metadata": {},
   "source": [
    "Note that the `type` field of none of the returned documents is `movie` (all of them are `series` because that's the only other type that exists in the documents of the `movies` collection)."
   ]
  },
  {
   "cell_type": "markdown",
   "id": "8ab1f12c-f4da-42ae-863a-b23e0dd15b17",
   "metadata": {},
   "source": [
    "### `$in`, `$nin`\n",
    "\n",
    "These two operators are equivalent to `IN` and `NOT IN` in SQL, or `in` and `not in` in Python. They are used to check if the value of a field is equal (or not equal) to any value in a given list. What these operators do can also be imitated with `$or` or `$nor`, but these are more concise.\n",
    "\n",
    "**Example:** Return the title, production year, and the cast of these movies: The Sixth Sense, Imitation Game, The Red Violin, Match Point, Forrest Gump."
   ]
  },
  {
   "cell_type": "code",
   "execution_count": 20,
   "id": "c28fd35e-277c-4f7b-bcb3-956be5d1aa5a",
   "metadata": {},
   "outputs": [
    {
     "data": {
      "text/plain": [
       "[{'year': 1994,\n",
       "  'title': 'Forrest Gump',\n",
       "  'cast': ['Tom Hanks',\n",
       "   'Rebecca Williams',\n",
       "   'Sally Field',\n",
       "   'Michael Conner Humphreys']},\n",
       " {'cast': ['Carlo Cecchi',\n",
       "   'Irene Grazioli',\n",
       "   'Anita Laurenzi',\n",
       "   'Tommaso Puntelli'],\n",
       "  'title': 'The Red Violin',\n",
       "  'year': 1998},\n",
       " {'year': 1999,\n",
       "  'title': 'The Sixth Sense',\n",
       "  'cast': ['Bruce Willis',\n",
       "   'Haley Joel Osment',\n",
       "   'Toni Collette',\n",
       "   'Olivia Williams']},\n",
       " {'year': 2005,\n",
       "  'title': 'Match Point',\n",
       "  'cast': ['Jonathan Rhys Meyers',\n",
       "   'Alexander Armstrong',\n",
       "   'Paul Kaye',\n",
       "   'Matthew Goode']}]"
      ]
     },
     "execution_count": 20,
     "metadata": {},
     "output_type": "execute_result"
    }
   ],
   "source": [
    "list(\n",
    "    client[\"sample_mflix\"][\"movies\"].find(\n",
    "        filter={\n",
    "            \"title\": {\n",
    "                \"$in\": [\n",
    "                    \"The Sixth Sense\",\n",
    "                    \"Imitation Game\",\n",
    "                    \"The Red Violin\",\n",
    "                    \"Match Point\",\n",
    "                    \"Forrest Gump\",\n",
    "                ]\n",
    "            }\n",
    "        },\n",
    "        projection={\"_id\": 0, \"title\": 1, \"cast\": 1, \"year\": 1},\n",
    "        limit=5,\n",
    "    )\n",
    ")"
   ]
  },
  {
   "cell_type": "markdown",
   "id": "7f1bbb20-6986-46f2-895e-7cdd932aebaf",
   "metadata": {},
   "source": [
    "**Example:** Find the number of movies that are not available in any of these languages: English, French, Italian or German."
   ]
  },
  {
   "cell_type": "code",
   "execution_count": 21,
   "id": "39386708-4237-463f-ad8d-ac38ac999076",
   "metadata": {},
   "outputs": [
    {
     "data": {
      "text/plain": [
       "4888"
      ]
     },
     "execution_count": 21,
     "metadata": {},
     "output_type": "execute_result"
    }
   ],
   "source": [
    "client[\"sample_mflix\"][\"movies\"].count_documents(\n",
    "    filter={'languages': {'$nin': ['English', 'French', 'German', 'Italian']}}\n",
    ")"
   ]
  },
  {
   "cell_type": "markdown",
   "id": "e6b03172-ebce-4d11-8208-b4c2667d3562",
   "metadata": {},
   "source": [
    "## Can you?\n",
    "\n",
    "- Use MQL to intereact with MongoDB ?\n",
    "\n",
    "## Class activity\n",
    "\n",
    "- Practice MQL."
   ]
  }
 ],
 "metadata": {
  "kernelspec": {
   "display_name": "Python 3 (ipykernel)",
   "language": "python",
   "name": "python3"
  },
  "language_info": {
   "codemirror_mode": {
    "name": "ipython",
    "version": 3
   },
   "file_extension": ".py",
   "mimetype": "text/x-python",
   "name": "python",
   "nbconvert_exporter": "python",
   "pygments_lexer": "ipython3",
   "version": "3.10.4"
  }
 },
 "nbformat": 4,
 "nbformat_minor": 5
}
