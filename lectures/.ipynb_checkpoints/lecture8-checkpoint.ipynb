{
 "cells": [
  {
   "cell_type": "markdown",
   "id": "25876524",
   "metadata": {},
   "source": [
    "# Lecture 8: Graph exercise/MongoDB introduction\n",
    "\n",
    "Gittu George, February 3, 2022"
   ]
  },
  {
   "cell_type": "markdown",
   "id": "8c0f7254",
   "metadata": {},
   "source": [
    "## Agenda\n",
    "\n",
    "- Graph exercise \n",
    "- Introduction to NoSQL document database (MongoDB)\n",
    "- Basic queries in MongoDB\n",
    "\n",
    "## Objectives\n",
    "\n",
    "- To make you capable on applying CQL skills on a real world problem (twitter data)\n",
    "- Have an understanding on document database and mongoDB\n",
    "- Setting up mongoDB instance in cloud\n",
    "- Write basic MQL"
   ]
  },
  {
   "cell_type": "markdown",
   "id": "ef0e7791-e1c5-4794-9953-c5459dd06d27",
   "metadata": {},
   "source": [
    "## Worksheet 8\n",
    "\n",
    "***In any graph questions keep two rules in mind. Can you...***\n",
    "- Break the questions into various parts\n",
    "  - the rate at which people reply\n",
    "  - and are replied to\n",
    "- Can you draw the logic with a pen and paper? (Maybe for a complex scenario or for identifying some interesting questions)\n",
    "\n",
    "```{toggle}\n",
    "Did you draw ?\n",
    "\n",
    "![](img/graphtwi.png)\n",
    "```\n",
    "\n",
    "***Here are some of my thoughts on formulating a CQL query.***\n",
    "\n",
    "- What are the elements that I need to RETURN?\n",
    "    - gotreply (the rate at which people reply), \n",
    "    - sentreply (and are replied to)\n",
    "- Where can I get these elements? (Check CALL apoc.meta.data())\n",
    "- What pattern do I need to give in my MATCH? \n",
    "    - I need to be careful [with the direction](https://ggeorg02.github.io/BAIT580/lectures/lecture8.html#relationships).\n",
    "- Do I need to provide multiple MATCH clauses/patterns? \n",
    "    - Maybe multiple MATCH for subquerying\n",
    "- Is any [subquery needed?](https://ggeorg02.github.io/BAIT580/lectures/lecture10.html#limiting-the-number-of-results) \n",
    "    - Maybe YES, one for the first breakdown (gotreply)\n",
    "    - and the other for the second breakdown I listed.(sentreply)\n",
    "- Do I have to do any aggregation? \n",
    "    - YES, [sum()](https://neo4j.com/docs/cypher-manual/current/functions/aggregating/#functions-sum), so what property needs to be inside this? \n",
    "- Okay, I need to do aggregation, but what should be [the grouping key ?](https://ggeorg02.github.io/BAIT580/lectures/lecture10.html#aggregation-in-cypher)"
   ]
  },
  {
   "cell_type": "markdown",
   "id": "6cc54ebc-e58d-4fdd-bc56-a278157d3c6d",
   "metadata": {},
   "source": [
    "## MongoDB\n",
    "\n",
    "<img src=\"img/mongo.png\" width=\"400\">\n",
    "\n",
    "MongoDB is a document-based DBMS:\n",
    "\n",
    "- Released in 2009\n",
    "- Written in C++\n",
    "- Open source\n",
    "- Cross platform\n",
    "- Super fast\n",
    "\n",
    "MongoDB is based on JSON-like documents for data storage. It offers:\n",
    "\n",
    "- Native replication and sharding\n",
    "- Automatic scaling and load balancing\n",
    "- Multi-language support\n",
    "- Powerful query language\n",
    "\n",
    "### Who uses MongoDB\n",
    "\n",
    "Google, ebay, Craigslist, Toyota, Forbes, Electronic Arts, Adobe, AstraZeneca, and the list goes on.\n",
    "\n",
    "(https://www.mongodb.com/who-uses-mongodb)\n",
    "\n",
    "### JSON\n",
    "\n",
    "- JSON is short for Java Script Object Notation.\n",
    "- JSON documents are simple containers, where a string key is mapped to a value (e.g. a number, string, function, another object).\n",
    "\n",
    "```json\n",
    "{\n",
    "  \"_id\": 1,\n",
    "  \"name\" : { \"first\" : \"John\", \"last\" : \"Backus\" },\n",
    "  \"contribs\" : [ \"Fortran\", \"ALGOL\", \"Backus-Naur Form\", \"FP\" ],\n",
    "  \"awards\" : [\n",
    "    {\n",
    "      \"award\" : \"W.W. McDowell Award\",\n",
    "      \"year\" : 1967,\n",
    "      \"by\" : \"IEEE Computer Society\"\n",
    "    }, {\n",
    "      \"award\" : \"Draper Prize\",\n",
    "      \"year\" : 1993,\n",
    "      \"by\" : \"National Academy of Engineering\"\n",
    "    }\n",
    "  ]\n",
    "}\n",
    "```\n",
    "\n",
    "JSON documents can be found everywhere:\n",
    "\n",
    "- APIs\n",
    "- Configuration files\n",
    "- Log messages\n",
    "- Database storage"
   ]
  },
  {
   "cell_type": "markdown",
   "id": "fc756713-d335-4c5f-83d7-1e3f9551e1f2",
   "metadata": {},
   "source": [
    "### BSON\n",
    "\n",
    "Although the JSON document may look great for storing data **_as is_**, but it has a number of drawbacks:\n",
    "\n",
    "- JSON is text, and text parsing is very slow\n",
    "- JSON’s format is readable but not space-efficient (a database concern)\n",
    "- JSON's support of various data types is not great\n",
    "\n",
    "It's because of the above reasons that MongoDB stores data in BSON (Binary JSON) files, which address all of the above issues but still look like JSON when we work with them in MongoDB.\n",
    "\n",
    "For a an overview, see [here](https://www.mongodb.com/json-and-bson)."
   ]
  },
  {
   "cell_type": "markdown",
   "id": "375e0e8a-1f3e-4e92-a7d8-686b4c9829d8",
   "metadata": {},
   "source": [
    "### Collections\n",
    "\n",
    "In MongoDB, a database consists of one or more **collections**, each containing multiple **documents**.\n",
    "\n",
    "<img src=\"img/collection.png\" width=\"600\">\n",
    "\n",
    "### Documents\n",
    "\n",
    "<img src=\"img/document.png\" width=\"600\">\n",
    "\n",
    "- Each document contains field-value pairs\n",
    "- The field name `_id` acts as the primary key of each document, and should therefore be unique in a collection\n",
    "- MongoDB automatically assigns an `_id` value if not specified at the time of inserting a document\n",
    "- MongoDB creates an index on the `_id` field by default\n",
    "- The maximum size of a BSON document is about 16MB"
   ]
  },
  {
   "cell_type": "markdown",
   "id": "c68bcdd4-73cc-451c-a0e9-247f22a37114",
   "metadata": {},
   "source": [
    "[MongoDB Atlas](https://docs.atlas.mongodb.com/) is a fully managed cloud database service, that automates the whole process of configuring, administration and maintaining of a database server for you. Basically, you specify what kind of server (CPU, RAM, number of nodes, location, etc.) you need, and MongoDB Atlas sets it up for you. They've partnered with Amazon Web Services, Google Cloud Platform, Microsoft Azure to host their database instances.\n",
    "\n",
    "The majority of these services are paid, however, they also offer a basic database service that is **free** and is best suited for learning and exploring. We'll use the free MongoDB Atlas clusters for our course. You can set up your own cluster [here](https://www.mongodb.com/cloud/atlas/register).\n",
    "\n",
    "```{admonition} See also\n",
    "[Here are the details](../installation/Mongodb.md) on how to setup your MongoDB atlas and setup your `mongosh`.\n",
    "```"
   ]
  },
  {
   "cell_type": "markdown",
   "id": "6f6def0b-8f07-4e8b-8d38-c4e837cd2d9e",
   "metadata": {},
   "source": [
    "### MongoDB interfaces\n",
    "\n",
    "#### MongoDB shell (`mongosh`)\n",
    "\n",
    "This is command line interface for interacting with a MongoDB database, similar to `psql` that we've used for Postgres. `mongosh` is based on the JavaScript language. We will not use `mongosh` much in this course.\n",
    "\n",
    "#### MongoDB Compass\n",
    "Compass is a versatile graphical user interface for using MongoDB databases. This is a similar application to pgAdmin that we've used for Postgres.\n",
    "\n",
    "#### MongoDB's Python driver (`pymongo`)\n",
    "And finally, `pymongo` is the official Python driver for MongoDB. If your using the course `conda` environment, this package is installed and ready to use in Jupyter Lab. You can take a look at `pymongo`s documentation [here](https://pymongo.readthedocs.io/en/stable/tutorial.html)."
   ]
  },
  {
   "cell_type": "code",
   "execution_count": 17,
   "id": "22ab8a76-32a9-47e6-90c2-532bb6b9259f",
   "metadata": {},
   "outputs": [],
   "source": [
    "from pymongo import MongoClient\n",
    "import json\n",
    "import urllib.parse\n",
    "\n",
    "with open('credentials_mongodb.json') as f:\n",
    "    login = json.load(f)\n",
    "\n",
    "username = login['username']\n",
    "password = urllib.parse.quote(login['password'])\n",
    "host = login['host']\n",
    "url = \"mongodb+srv://{}:{}@{}/?retryWrites=true&w=majority\".format(username, password, host)"
   ]
  },
  {
   "cell_type": "code",
   "execution_count": 18,
   "id": "5657f03d-c7c8-4b70-98f4-c116dd2113bf",
   "metadata": {},
   "outputs": [],
   "source": [
    "client = MongoClient(url)"
   ]
  },
  {
   "cell_type": "code",
   "execution_count": 19,
   "id": "840399f6-83f0-42fc-b928-831f94bba2a1",
   "metadata": {},
   "outputs": [
    {
     "data": {
      "text/plain": [
       "['sample_airbnb',\n",
       " 'sample_analytics',\n",
       " 'sample_geospatial',\n",
       " 'sample_guides',\n",
       " 'sample_mflix',\n",
       " 'sample_restaurants',\n",
       " 'sample_supplies',\n",
       " 'sample_training',\n",
       " 'sample_weatherdata',\n",
       " 'admin',\n",
       " 'local']"
      ]
     },
     "execution_count": 19,
     "metadata": {},
     "output_type": "execute_result"
    }
   ],
   "source": [
    "client.list_database_names()"
   ]
  },
  {
   "cell_type": "markdown",
   "id": "5f9282aa-2366-4dcf-a347-ff8d6b66de5f",
   "metadata": {},
   "source": [
    "## Can you?\n",
    "\n",
    "- Take your CQL knowledge and work on a real-life scenario\n",
    "- list down the benefits of having a document database \n",
    "- Set up MongoDB cloud instance?\n",
    "- Various ways to interact with MongoDB\n",
    "\n",
    "## Class activity\n",
    "\n",
    "- Practice CQL.\n",
    "- Set up MongoDB in the cloud."
   ]
  }
 ],
 "metadata": {
  "kernelspec": {
   "display_name": "Python 3 (ipykernel)",
   "language": "python",
   "name": "python3"
  },
  "language_info": {
   "codemirror_mode": {
    "name": "ipython",
    "version": 3
   },
   "file_extension": ".py",
   "mimetype": "text/x-python",
   "name": "python",
   "nbconvert_exporter": "python",
   "pygments_lexer": "ipython3",
   "version": "3.10.4"
  }
 },
 "nbformat": 4,
 "nbformat_minor": 5
}
